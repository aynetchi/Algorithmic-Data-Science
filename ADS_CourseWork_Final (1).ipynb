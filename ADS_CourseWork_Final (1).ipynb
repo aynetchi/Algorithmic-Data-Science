{
  "cells": [
    {
      "cell_type": "markdown",
      "source": [
        "**Candidate Number: 237707**\n",
        "\n",
        "**Word Count: 1844 (with in text latex equations regarded as one single word)**"
      ],
      "metadata": {
        "id": "1zzo7gmRBwzM"
      }
    },
    {
      "cell_type": "markdown",
      "metadata": {
        "id": "MFaaQ5TBIjrA"
      },
      "source": [
        "# **Imports**"
      ]
    },
    {
      "cell_type": "code",
      "execution_count": null,
      "metadata": {
        "colab": {
          "base_uri": "https://localhost:8080/"
        },
        "id": "sK64WTH5XI5E",
        "outputId": "db790942-c537-4a2f-ef98-fd1c5d8723d5"
      },
      "outputs": [
        {
          "output_type": "stream",
          "name": "stdout",
          "text": [
            "[nltk_data] Downloading package gutenberg to /root/nltk_data...\n",
            "[nltk_data]   Unzipping corpora/gutenberg.zip.\n"
          ]
        },
        {
          "output_type": "execute_result",
          "data": {
            "text/plain": [
              "True"
            ]
          },
          "metadata": {},
          "execution_count": 16
        }
      ],
      "source": [
        "# Importing Libraries\n",
        "import numpy as np\n",
        "import nltk\n",
        "import matplotlib.pyplot as plt\n",
        "from nltk.corpus import gutenberg\n",
        "from nltk import FreqDist \n",
        "import time\n",
        "import math \n",
        "import pandas as pd\n",
        "import scipy.stats as stats\n",
        "from collections import defaultdict\n",
        "from multiprocessing import Pool\n",
        "nltk.download(\"gutenberg\")\n",
        "\n"
      ]
    },
    {
      "cell_type": "markdown",
      "metadata": {
        "id": "tJH-rz0HDXLf"
      },
      "source": [
        "# **==== INTRODUCTION (REPORT) ====**"
      ]
    },
    {
      "cell_type": "markdown",
      "metadata": {
        "id": "y4Y5yV-vIpK4"
      },
      "source": [
        "This report investigates the worst case runtimes of the Jaccard similarity algorithm as well as  various implementations of the Cosine similarity algorithms. As a starting point, experimentations and analysis will be centred on “gutenberg” corpus from the NLTK library and represented as a bag of words. \n",
        " \n",
        "In question 1, various experimentations are carried out to examine worst-case runtimes of the Jaccard similarity in sparse representation. Subsequently, question 2 will focus on comparing worst-case runtimes of cosine similarity (dense vector representation) compared to an implementation using numpy. Thereafter, question 3 aims to establish the worst-case runtime of the cosine similarity algorithm in a sparse representation and compare previous results obtained of the worst-case runtimes of jaccard similarity algorithm (question 1) and implementations of the cosine similarity in dense vector representation (question 2).\n",
        " \n",
        "Question 4 will focus on the worst case run times of computing all pair similarities using a collection of 18 documents from the gutenberg corpus (in sparse representation for both algorithms). Moreover, an estimation of runtime of computing the all pair similarities of 200,000 documents will also be provided. Finally in question 5, a parallel implementation of map-reduce will aim to curtail the average run times of computing all pair similarities of the 18 documents from the gutenberg corpus using both the jaccard and cosine similarity algorithms (in sparse representation).\n",
        "\n"
      ]
    },
    {
      "cell_type": "markdown",
      "metadata": {
        "id": "AM5pmKdXDcgY"
      },
      "source": [
        "# **==========================**"
      ]
    },
    {
      "cell_type": "markdown",
      "metadata": {
        "id": "YE00LXt0CDRY"
      },
      "source": [
        "# **Question 1 Class**"
      ]
    },
    {
      "cell_type": "code",
      "execution_count": null,
      "metadata": {
        "id": "pFGRDVytZ8hO"
      },
      "outputs": [],
      "source": [
        "# A class for jaccards similarity which includes all methods needed to answer question 1\n",
        "class Jaccards:\n",
        "\n",
        "  def __init__(self):\n",
        "    pass\n",
        "\n",
        "  # === The following 3 methods will be used in question 2 and question 3 ===\n",
        "  \n",
        "  # Returns a list of word as bag of word (in a dictionary)\n",
        "  # Parameters: A list of words  \n",
        "  def word_to_dict(self, word_list):\n",
        "    return {word: freq for word, freq in FreqDist(word_list).items()}\n",
        "  \n",
        "  # Returns the slope, intercept and standard deviation error for given dataset \n",
        "  # Parameters: x and y \n",
        "  def slope_intercept_std(self, x, y):\n",
        "    # Using scipy library to find key metrics for our data\n",
        "    slope, intercept, _, _, std_error = stats.linregress(x, y)\n",
        "    return slope, intercept, std_error\n",
        "  \n",
        "  # Returns a pandas data frame for displaying slope, intercept and standard deviation error both the actual data and the logs of given data\n",
        "  # Parameters: Pandas dataframe created using increacing_wordList() (it can be found below) \n",
        "  def slope_df(self, df):\n",
        "    # Creating lists from pandas dataframe\n",
        "    actual_times = list(df[\"Time\"])\n",
        "    actual_words = list(df[\"Word Count\"])\n",
        "    log_times = list(df[\"Log Time\"])\n",
        "    log_words = list(df[\"Log Word Count\"])\n",
        "    # Using slope_intercept_std() method to find key metrics for our data\n",
        "    slope, intercept, std_error = self.slope_intercept_std(actual_words, actual_times)\n",
        "    slope_log, intercept_log, std_error_log = self.slope_intercept_std(log_words, log_times)\n",
        "    # Adjusting data to use in pandas \n",
        "    labels = [\"Slope\", \"Intercept\", \"STD Error\"]\n",
        "    data_ = [slope, intercept, std_error]\n",
        "    log_data = [slope_log, intercept_log, std_error_log]\n",
        "    # Returning a pandas dataframe\n",
        "    df = pd.DataFrame(data = {\"Metric\": labels, \"Actual Data\": data_, \"Log Data\": log_data})\n",
        "    return df\n",
        "\n",
        "  # Returns the sum of values in dictionary - using for loop\n",
        "  # Parameters: A dictionary (representing our bag of words)  \n",
        "  def findTotal_FL(self, myDict):\n",
        "    total=0\n",
        "    for item in myDict:\n",
        "      total += myDict[item]\n",
        "    return total\n",
        "\n",
        "  # Returns the sum of values in dictionary - using for the sum() and dict.values() methods\n",
        "  # Parameters: A dictionary (representing our bag of words)  \n",
        "  def findTotal_SV(self, myDict):\n",
        "    return sum(myDict.values())\n",
        "\n",
        "  # Returns Jaccard's similarity\n",
        "  # Parameters: Two dictionaries (representing our bag of words for calculating the similarity)    \n",
        "  def jaccards(self, dict_1, dict_2):\n",
        "    # Dictionary comprehension used to find intersections \n",
        "    total_intersection = self.findTotal_SV({item: min(dict_1[item], dict_2[item]) for item in dict_1.keys() if item in dict_2.keys()})\n",
        "    # Calculating union\n",
        "    union = self.findTotal_SV(dict_1) + self.findTotal_SV(dict_2) - total_intersection\n",
        "    return total_intersection/union # Calculating Jaccard's similarity\n",
        "  \n",
        "  # Measures the run time of the findTotal_FL() and findTotal_SV() methods (abbove)\n",
        "  # Returns a pandas data frame with run times (with increacing word counts)\n",
        "  def measure_findTotal(self):\n",
        "    # Empty list to gather our results\n",
        "    times_FL = []\n",
        "    times_SV = []\n",
        "    word_counts = []\n",
        "    # The gutenberg corpus\n",
        "    corpus = gutenberg.words()\n",
        "    for word_count in range(1000, 30001, 30):\n",
        "      # Using the word_to_dict() to create a bag of words (using the for loop to determine size)\n",
        "      token = self.word_to_dict(corpus[:word_count])\n",
        "      word_counts.append(word_count)\n",
        "      # Measuring runtime of findTotal_FL()  \n",
        "      start = time.time()\n",
        "      ans = self.findTotal_FL(token)\n",
        "      run_time = time.time() - start\n",
        "      times_FL.append(run_time)\n",
        "      # Measuring runtime of findTotal_SV()  \n",
        "      start = time.time()\n",
        "      ans = self.findTotal_SV(token)\n",
        "      run_time = time.time() - start\n",
        "      times_SV.append(run_time)\n",
        "    # Returning results in a pandas dataframe\n",
        "    return pd.DataFrame(data={\"Word Count\": word_counts, \"Function 1\": times_FL, \"Function 2\": times_SV})\n",
        "\n",
        "  # Returns results of runtimes jaccard's similarity algorithm against increacing size of words \n",
        "  # Parameters: Maximum words (max_words) that will be used to test run time of algorithm\n",
        "  # Parameters: Plot length (plot_length) determines how many data points will be plotted\n",
        "  # Parameters: Epochs (epochs) is number of iterations that will be used to find the avergage runtime\n",
        "  def increacing_wordList(self, max_words, plot_length, epochs):\n",
        "    # Sorting the increace in word count (will be used in the for loop below)\n",
        "    range_min, range_max, range_diff = int(max_words/plot_length), int(max_words), int(max_words/plot_length)\n",
        "    # The gutenberg corpus\n",
        "    corpus = gutenberg.words()\n",
        "    # Empty list to gather our results\n",
        "    word_counts = []\n",
        "    average_times = []\n",
        "    simmilarities = []\n",
        "    # Loop based on values provided in parameter (sorted above)\n",
        "    for word_count in range(range_min, range_max+1, range_diff):\n",
        "      # Empty list to collect run average time (from total epochs) \n",
        "      times = []\n",
        "      # Adjusting size of word list  \n",
        "      tok_a = self.word_to_dict(corpus[:word_count])\n",
        "      tok_b = self.word_to_dict(corpus[word_count:word_count*2])\n",
        "      for i in range(epochs):\n",
        "        # Computing run times \n",
        "        start = time.time()\n",
        "        ans = self.jaccards(tok_a, tok_b)\n",
        "        run_time = time.time() - start\n",
        "        times.append(run_time)\n",
        "        if i == epochs-1:\n",
        "          # Appending averag time, word count and similarity score \n",
        "          simmilarities.append(ans)\n",
        "          average_time = np.mean(times)\n",
        "          average_times.append(average_time)\n",
        "          word_counts.append(word_count)\n",
        "    # Finding logs of words count and average run times\n",
        "    log_word = [np.log10(w) for w in word_counts]\n",
        "    log_time = [np.log10(t) for t in average_times]\n",
        "    # Returning results in pandas dataframe \n",
        "    df = pd.DataFrame(data={\"similarity\": simmilarities, \"Word Count\": word_counts, \"Time\": average_times, \"Log Word Count\": log_word, \"Log Time\": log_time})\n",
        "    return df\n",
        "\n",
        "\n",
        "# Initializing the jaccards class \n",
        "Jac =  Jaccards()\n",
        "\n"
      ]
    },
    {
      "cell_type": "markdown",
      "metadata": {
        "id": "c8INn5bMA06I"
      },
      "source": [
        "# **Figures 1.1 - 1.2:** Implementation of Algorithms\n",
        "\n"
      ]
    },
    {
      "cell_type": "markdown",
      "metadata": {
        "id": "4feVsQZYaxi8"
      },
      "source": [
        "**The following function may be used to calculate the sum of values in our dictionary**\n",
        "\n",
        "Function 1: Uses for loop to calculate the sum\n",
        "\n",
        "Function 2: Uses sum() and dict.values method()"
      ]
    },
    {
      "cell_type": "markdown",
      "metadata": {
        "id": "Ctv6dmYZyFzK"
      },
      "source": [
        "***Figure 1.1:*** Panada data frame with calculations of run times with the word count increacing from 1,000 to 100,000 words."
      ]
    },
    {
      "cell_type": "code",
      "execution_count": null,
      "metadata": {
        "colab": {
          "base_uri": "https://localhost:8080/",
          "height": 424
        },
        "id": "KC5GywcbAeHv",
        "outputId": "9d2d7e7c-7805-4230-9671-f378fdf47739"
      },
      "outputs": [
        {
          "output_type": "execute_result",
          "data": {
            "text/html": [
              "<div>\n",
              "<style scoped>\n",
              "    .dataframe tbody tr th:only-of-type {\n",
              "        vertical-align: middle;\n",
              "    }\n",
              "\n",
              "    .dataframe tbody tr th {\n",
              "        vertical-align: top;\n",
              "    }\n",
              "\n",
              "    .dataframe thead th {\n",
              "        text-align: right;\n",
              "    }\n",
              "</style>\n",
              "<table border=\"1\" class=\"dataframe\">\n",
              "  <thead>\n",
              "    <tr style=\"text-align: right;\">\n",
              "      <th></th>\n",
              "      <th>Word Count</th>\n",
              "      <th>Function 1</th>\n",
              "      <th>Function 2</th>\n",
              "    </tr>\n",
              "  </thead>\n",
              "  <tbody>\n",
              "    <tr>\n",
              "      <th>0</th>\n",
              "      <td>1000</td>\n",
              "      <td>0.000057</td>\n",
              "      <td>0.000012</td>\n",
              "    </tr>\n",
              "    <tr>\n",
              "      <th>1</th>\n",
              "      <td>1030</td>\n",
              "      <td>0.000069</td>\n",
              "      <td>0.000011</td>\n",
              "    </tr>\n",
              "    <tr>\n",
              "      <th>2</th>\n",
              "      <td>1060</td>\n",
              "      <td>0.000057</td>\n",
              "      <td>0.000006</td>\n",
              "    </tr>\n",
              "    <tr>\n",
              "      <th>3</th>\n",
              "      <td>1090</td>\n",
              "      <td>0.000038</td>\n",
              "      <td>0.000006</td>\n",
              "    </tr>\n",
              "    <tr>\n",
              "      <th>4</th>\n",
              "      <td>1120</td>\n",
              "      <td>0.000038</td>\n",
              "      <td>0.000006</td>\n",
              "    </tr>\n",
              "    <tr>\n",
              "      <th>...</th>\n",
              "      <td>...</td>\n",
              "      <td>...</td>\n",
              "      <td>...</td>\n",
              "    </tr>\n",
              "    <tr>\n",
              "      <th>962</th>\n",
              "      <td>29860</td>\n",
              "      <td>0.000272</td>\n",
              "      <td>0.000031</td>\n",
              "    </tr>\n",
              "    <tr>\n",
              "      <th>963</th>\n",
              "      <td>29890</td>\n",
              "      <td>0.000258</td>\n",
              "      <td>0.000031</td>\n",
              "    </tr>\n",
              "    <tr>\n",
              "      <th>964</th>\n",
              "      <td>29920</td>\n",
              "      <td>0.000262</td>\n",
              "      <td>0.000032</td>\n",
              "    </tr>\n",
              "    <tr>\n",
              "      <th>965</th>\n",
              "      <td>29950</td>\n",
              "      <td>0.000278</td>\n",
              "      <td>0.000031</td>\n",
              "    </tr>\n",
              "    <tr>\n",
              "      <th>966</th>\n",
              "      <td>29980</td>\n",
              "      <td>0.000286</td>\n",
              "      <td>0.000031</td>\n",
              "    </tr>\n",
              "  </tbody>\n",
              "</table>\n",
              "<p>967 rows × 3 columns</p>\n",
              "</div>"
            ],
            "text/plain": [
              "     Word Count  Function 1  Function 2\n",
              "0          1000    0.000057    0.000012\n",
              "1          1030    0.000069    0.000011\n",
              "2          1060    0.000057    0.000006\n",
              "3          1090    0.000038    0.000006\n",
              "4          1120    0.000038    0.000006\n",
              "..          ...         ...         ...\n",
              "962       29860    0.000272    0.000031\n",
              "963       29890    0.000258    0.000031\n",
              "964       29920    0.000262    0.000032\n",
              "965       29950    0.000278    0.000031\n",
              "966       29980    0.000286    0.000031\n",
              "\n",
              "[967 rows x 3 columns]"
            ]
          },
          "metadata": {},
          "execution_count": 14
        }
      ],
      "source": [
        "df_alg = Jac.measure_findTotal()\n",
        "df_alg"
      ]
    },
    {
      "cell_type": "markdown",
      "metadata": {
        "id": "Yfo80x5eyDwO"
      },
      "source": [
        "***Figure 1.2:*** plotting run time against increacing word count (1,000 to 100,000 words)"
      ]
    },
    {
      "cell_type": "code",
      "execution_count": null,
      "metadata": {
        "colab": {
          "base_uri": "https://localhost:8080/",
          "height": 312
        },
        "id": "0FJu6sqQAfjq",
        "outputId": "d0abdfbc-bb2e-4606-9e18-554c7bf8ed96"
      },
      "outputs": [
        {
          "output_type": "execute_result",
          "data": {
            "text/plain": [
              "Text(0.5, 1.0, 'Comparing Run Time of Function 1 and Function 2')"
            ]
          },
          "metadata": {},
          "execution_count": 15
        },
        {
          "output_type": "display_data",
          "data": {
            "image/png": "[encoded data removed]",
            "text/plain": [
              "<Figure size 432x288 with 1 Axes>"
            ]
          },
          "metadata": {
            "needs_background": "light"
          }
        }
      ],
      "source": [
        "# Using matplotlib to plot\n",
        "plt.plot(df_alg[\"Word Count\"], df_alg[\"Function 1\"])\n",
        "plt.plot(df_alg[\"Word Count\"], df_alg[\"Function 2\"])\n",
        "label = [\"Function 1\", \"Function 2\"]\n",
        "plt.legend(label, loc = 0, ncol = 2)\n",
        "plt.ylabel(\"Run Time (seconds)\")\n",
        "plt.xlabel(\"Word Count\")\n",
        "plt.title(\"Comparing Run Time of Function 1 and Function 2\")\n"
      ]
    },
    {
      "cell_type": "markdown",
      "metadata": {
        "id": "8GpTawTUjlQF"
      },
      "source": [
        "# **Figures 1.3 - 1.7:** Comparing Jaccards Similarity Algorithm"
      ]
    },
    {
      "cell_type": "markdown",
      "metadata": {
        "id": "gVxD5ii5ETQa"
      },
      "source": [
        "**Pandas Data Frame**"
      ]
    },
    {
      "cell_type": "markdown",
      "metadata": {
        "id": "t6QnGQevABVY"
      },
      "source": [
        "***Figure 1.3:*** In this table the run time of jaccard's similarity is calculated with increacing word counts ranging from 1,000 words to 50,000 words"
      ]
    },
    {
      "cell_type": "code",
      "execution_count": null,
      "metadata": {
        "id": "roxYY5J_lHR_"
      },
      "outputs": [],
      "source": [
        "# set up \n",
        "max_words = 50000\n",
        "plot_length = 50\n",
        "epochs = 10 "
      ]
    },
    {
      "cell_type": "code",
      "execution_count": null,
      "metadata": {
        "colab": {
          "base_uri": "https://localhost:8080/",
          "height": 1000
        },
        "id": "f3E9JYUz-GKH",
        "outputId": "9c97d7b2-4595-4342-f45c-e6f73b9f2117"
      },
      "outputs": [
        {
          "output_type": "execute_result",
          "data": {
            "text/html": [
              "<div>\n",
              "<style scoped>\n",
              "    .dataframe tbody tr th:only-of-type {\n",
              "        vertical-align: middle;\n",
              "    }\n",
              "\n",
              "    .dataframe tbody tr th {\n",
              "        vertical-align: top;\n",
              "    }\n",
              "\n",
              "    .dataframe thead th {\n",
              "        text-align: right;\n",
              "    }\n",
              "</style>\n",
              "<table border=\"1\" class=\"dataframe\">\n",
              "  <thead>\n",
              "    <tr style=\"text-align: right;\">\n",
              "      <th></th>\n",
              "      <th>similarity</th>\n",
              "      <th>Word Count</th>\n",
              "      <th>Time</th>\n",
              "      <th>Log Word Count</th>\n",
              "      <th>Log Time</th>\n",
              "    </tr>\n",
              "  </thead>\n",
              "  <tbody>\n",
              "    <tr>\n",
              "      <th>0</th>\n",
              "      <td>0.344086</td>\n",
              "      <td>1000</td>\n",
              "      <td>0.000115</td>\n",
              "      <td>3.000000</td>\n",
              "      <td>-3.938623</td>\n",
              "    </tr>\n",
              "    <tr>\n",
              "      <th>1</th>\n",
              "      <td>0.405481</td>\n",
              "      <td>2000</td>\n",
              "      <td>0.000186</td>\n",
              "      <td>3.301030</td>\n",
              "      <td>-3.730231</td>\n",
              "    </tr>\n",
              "    <tr>\n",
              "      <th>2</th>\n",
              "      <td>0.490313</td>\n",
              "      <td>3000</td>\n",
              "      <td>0.000240</td>\n",
              "      <td>3.477121</td>\n",
              "      <td>-3.620278</td>\n",
              "    </tr>\n",
              "    <tr>\n",
              "      <th>3</th>\n",
              "      <td>0.459321</td>\n",
              "      <td>4000</td>\n",
              "      <td>0.000283</td>\n",
              "      <td>3.602060</td>\n",
              "      <td>-3.547661</td>\n",
              "    </tr>\n",
              "    <tr>\n",
              "      <th>4</th>\n",
              "      <td>0.519064</td>\n",
              "      <td>5000</td>\n",
              "      <td>0.000345</td>\n",
              "      <td>3.698970</td>\n",
              "      <td>-3.462011</td>\n",
              "    </tr>\n",
              "    <tr>\n",
              "      <th>5</th>\n",
              "      <td>0.558846</td>\n",
              "      <td>6000</td>\n",
              "      <td>0.000382</td>\n",
              "      <td>3.778151</td>\n",
              "      <td>-3.417591</td>\n",
              "    </tr>\n",
              "    <tr>\n",
              "      <th>6</th>\n",
              "      <td>0.553484</td>\n",
              "      <td>7000</td>\n",
              "      <td>0.000426</td>\n",
              "      <td>3.845098</td>\n",
              "      <td>-3.370268</td>\n",
              "    </tr>\n",
              "    <tr>\n",
              "      <th>7</th>\n",
              "      <td>0.541723</td>\n",
              "      <td>8000</td>\n",
              "      <td>0.000462</td>\n",
              "      <td>3.903090</td>\n",
              "      <td>-3.335194</td>\n",
              "    </tr>\n",
              "    <tr>\n",
              "      <th>8</th>\n",
              "      <td>0.540041</td>\n",
              "      <td>9000</td>\n",
              "      <td>0.000499</td>\n",
              "      <td>3.954243</td>\n",
              "      <td>-3.302306</td>\n",
              "    </tr>\n",
              "    <tr>\n",
              "      <th>9</th>\n",
              "      <td>0.541663</td>\n",
              "      <td>10000</td>\n",
              "      <td>0.000540</td>\n",
              "      <td>4.000000</td>\n",
              "      <td>-3.267515</td>\n",
              "    </tr>\n",
              "    <tr>\n",
              "      <th>10</th>\n",
              "      <td>0.556640</td>\n",
              "      <td>11000</td>\n",
              "      <td>0.000555</td>\n",
              "      <td>4.041393</td>\n",
              "      <td>-3.255397</td>\n",
              "    </tr>\n",
              "    <tr>\n",
              "      <th>11</th>\n",
              "      <td>0.577080</td>\n",
              "      <td>12000</td>\n",
              "      <td>0.000597</td>\n",
              "      <td>4.079181</td>\n",
              "      <td>-3.224303</td>\n",
              "    </tr>\n",
              "    <tr>\n",
              "      <th>12</th>\n",
              "      <td>0.599016</td>\n",
              "      <td>13000</td>\n",
              "      <td>0.000634</td>\n",
              "      <td>4.113943</td>\n",
              "      <td>-3.197942</td>\n",
              "    </tr>\n",
              "    <tr>\n",
              "      <th>13</th>\n",
              "      <td>0.620933</td>\n",
              "      <td>14000</td>\n",
              "      <td>0.000673</td>\n",
              "      <td>4.146128</td>\n",
              "      <td>-3.172057</td>\n",
              "    </tr>\n",
              "    <tr>\n",
              "      <th>14</th>\n",
              "      <td>0.627339</td>\n",
              "      <td>15000</td>\n",
              "      <td>0.000713</td>\n",
              "      <td>4.176091</td>\n",
              "      <td>-3.146655</td>\n",
              "    </tr>\n",
              "    <tr>\n",
              "      <th>15</th>\n",
              "      <td>0.637080</td>\n",
              "      <td>16000</td>\n",
              "      <td>0.000817</td>\n",
              "      <td>4.204120</td>\n",
              "      <td>-3.087606</td>\n",
              "    </tr>\n",
              "    <tr>\n",
              "      <th>16</th>\n",
              "      <td>0.634458</td>\n",
              "      <td>17000</td>\n",
              "      <td>0.000980</td>\n",
              "      <td>4.230449</td>\n",
              "      <td>-3.008702</td>\n",
              "    </tr>\n",
              "    <tr>\n",
              "      <th>17</th>\n",
              "      <td>0.648805</td>\n",
              "      <td>18000</td>\n",
              "      <td>0.000795</td>\n",
              "      <td>4.255273</td>\n",
              "      <td>-3.099864</td>\n",
              "    </tr>\n",
              "    <tr>\n",
              "      <th>18</th>\n",
              "      <td>0.663602</td>\n",
              "      <td>19000</td>\n",
              "      <td>0.000851</td>\n",
              "      <td>4.278754</td>\n",
              "      <td>-3.069967</td>\n",
              "    </tr>\n",
              "    <tr>\n",
              "      <th>19</th>\n",
              "      <td>0.672381</td>\n",
              "      <td>20000</td>\n",
              "      <td>0.000873</td>\n",
              "      <td>4.301030</td>\n",
              "      <td>-3.058823</td>\n",
              "    </tr>\n",
              "    <tr>\n",
              "      <th>20</th>\n",
              "      <td>0.675777</td>\n",
              "      <td>21000</td>\n",
              "      <td>0.000904</td>\n",
              "      <td>4.322219</td>\n",
              "      <td>-3.044032</td>\n",
              "    </tr>\n",
              "    <tr>\n",
              "      <th>21</th>\n",
              "      <td>0.683566</td>\n",
              "      <td>22000</td>\n",
              "      <td>0.000935</td>\n",
              "      <td>4.342423</td>\n",
              "      <td>-3.029307</td>\n",
              "    </tr>\n",
              "    <tr>\n",
              "      <th>22</th>\n",
              "      <td>0.689375</td>\n",
              "      <td>23000</td>\n",
              "      <td>0.000956</td>\n",
              "      <td>4.361728</td>\n",
              "      <td>-3.019711</td>\n",
              "    </tr>\n",
              "    <tr>\n",
              "      <th>23</th>\n",
              "      <td>0.690081</td>\n",
              "      <td>24000</td>\n",
              "      <td>0.001002</td>\n",
              "      <td>4.380211</td>\n",
              "      <td>-2.999318</td>\n",
              "    </tr>\n",
              "    <tr>\n",
              "      <th>24</th>\n",
              "      <td>0.686398</td>\n",
              "      <td>25000</td>\n",
              "      <td>0.000970</td>\n",
              "      <td>4.397940</td>\n",
              "      <td>-3.013364</td>\n",
              "    </tr>\n",
              "    <tr>\n",
              "      <th>25</th>\n",
              "      <td>0.687709</td>\n",
              "      <td>26000</td>\n",
              "      <td>0.001082</td>\n",
              "      <td>4.414973</td>\n",
              "      <td>-2.965633</td>\n",
              "    </tr>\n",
              "    <tr>\n",
              "      <th>26</th>\n",
              "      <td>0.695075</td>\n",
              "      <td>27000</td>\n",
              "      <td>0.001236</td>\n",
              "      <td>4.431364</td>\n",
              "      <td>-2.907853</td>\n",
              "    </tr>\n",
              "    <tr>\n",
              "      <th>27</th>\n",
              "      <td>0.699029</td>\n",
              "      <td>28000</td>\n",
              "      <td>0.001082</td>\n",
              "      <td>4.447158</td>\n",
              "      <td>-2.965594</td>\n",
              "    </tr>\n",
              "    <tr>\n",
              "      <th>28</th>\n",
              "      <td>0.701329</td>\n",
              "      <td>29000</td>\n",
              "      <td>0.001098</td>\n",
              "      <td>4.462398</td>\n",
              "      <td>-2.959364</td>\n",
              "    </tr>\n",
              "    <tr>\n",
              "      <th>29</th>\n",
              "      <td>0.704691</td>\n",
              "      <td>30000</td>\n",
              "      <td>0.001116</td>\n",
              "      <td>4.477121</td>\n",
              "      <td>-2.952154</td>\n",
              "    </tr>\n",
              "    <tr>\n",
              "      <th>30</th>\n",
              "      <td>0.706203</td>\n",
              "      <td>31000</td>\n",
              "      <td>0.001139</td>\n",
              "      <td>4.491362</td>\n",
              "      <td>-2.943386</td>\n",
              "    </tr>\n",
              "    <tr>\n",
              "      <th>31</th>\n",
              "      <td>0.703714</td>\n",
              "      <td>32000</td>\n",
              "      <td>0.001226</td>\n",
              "      <td>4.505150</td>\n",
              "      <td>-2.911553</td>\n",
              "    </tr>\n",
              "    <tr>\n",
              "      <th>32</th>\n",
              "      <td>0.703006</td>\n",
              "      <td>33000</td>\n",
              "      <td>0.001221</td>\n",
              "      <td>4.518514</td>\n",
              "      <td>-2.913186</td>\n",
              "    </tr>\n",
              "    <tr>\n",
              "      <th>33</th>\n",
              "      <td>0.713623</td>\n",
              "      <td>34000</td>\n",
              "      <td>0.001205</td>\n",
              "      <td>4.531479</td>\n",
              "      <td>-2.918879</td>\n",
              "    </tr>\n",
              "    <tr>\n",
              "      <th>34</th>\n",
              "      <td>0.721467</td>\n",
              "      <td>35000</td>\n",
              "      <td>0.001380</td>\n",
              "      <td>4.544068</td>\n",
              "      <td>-2.860011</td>\n",
              "    </tr>\n",
              "    <tr>\n",
              "      <th>35</th>\n",
              "      <td>0.723725</td>\n",
              "      <td>36000</td>\n",
              "      <td>0.001263</td>\n",
              "      <td>4.556303</td>\n",
              "      <td>-2.898556</td>\n",
              "    </tr>\n",
              "    <tr>\n",
              "      <th>36</th>\n",
              "      <td>0.720610</td>\n",
              "      <td>37000</td>\n",
              "      <td>0.001286</td>\n",
              "      <td>4.568202</td>\n",
              "      <td>-2.890620</td>\n",
              "    </tr>\n",
              "    <tr>\n",
              "      <th>37</th>\n",
              "      <td>0.720859</td>\n",
              "      <td>38000</td>\n",
              "      <td>0.001276</td>\n",
              "      <td>4.579784</td>\n",
              "      <td>-2.894192</td>\n",
              "    </tr>\n",
              "    <tr>\n",
              "      <th>38</th>\n",
              "      <td>0.719918</td>\n",
              "      <td>39000</td>\n",
              "      <td>0.001323</td>\n",
              "      <td>4.591065</td>\n",
              "      <td>-2.878367</td>\n",
              "    </tr>\n",
              "    <tr>\n",
              "      <th>39</th>\n",
              "      <td>0.716554</td>\n",
              "      <td>40000</td>\n",
              "      <td>0.002939</td>\n",
              "      <td>4.602060</td>\n",
              "      <td>-2.531813</td>\n",
              "    </tr>\n",
              "    <tr>\n",
              "      <th>40</th>\n",
              "      <td>0.717098</td>\n",
              "      <td>41000</td>\n",
              "      <td>0.001522</td>\n",
              "      <td>4.612784</td>\n",
              "      <td>-2.817574</td>\n",
              "    </tr>\n",
              "    <tr>\n",
              "      <th>41</th>\n",
              "      <td>0.716493</td>\n",
              "      <td>42000</td>\n",
              "      <td>0.001364</td>\n",
              "      <td>4.623249</td>\n",
              "      <td>-2.865180</td>\n",
              "    </tr>\n",
              "    <tr>\n",
              "      <th>42</th>\n",
              "      <td>0.717218</td>\n",
              "      <td>43000</td>\n",
              "      <td>0.001425</td>\n",
              "      <td>4.633468</td>\n",
              "      <td>-2.846322</td>\n",
              "    </tr>\n",
              "    <tr>\n",
              "      <th>43</th>\n",
              "      <td>0.720363</td>\n",
              "      <td>44000</td>\n",
              "      <td>0.001495</td>\n",
              "      <td>4.643453</td>\n",
              "      <td>-2.825275</td>\n",
              "    </tr>\n",
              "    <tr>\n",
              "      <th>44</th>\n",
              "      <td>0.718279</td>\n",
              "      <td>45000</td>\n",
              "      <td>0.001570</td>\n",
              "      <td>4.653213</td>\n",
              "      <td>-2.804150</td>\n",
              "    </tr>\n",
              "    <tr>\n",
              "      <th>45</th>\n",
              "      <td>0.725852</td>\n",
              "      <td>46000</td>\n",
              "      <td>0.001491</td>\n",
              "      <td>4.662758</td>\n",
              "      <td>-2.826453</td>\n",
              "    </tr>\n",
              "    <tr>\n",
              "      <th>46</th>\n",
              "      <td>0.728005</td>\n",
              "      <td>47000</td>\n",
              "      <td>0.001516</td>\n",
              "      <td>4.672098</td>\n",
              "      <td>-2.819230</td>\n",
              "    </tr>\n",
              "    <tr>\n",
              "      <th>47</th>\n",
              "      <td>0.728764</td>\n",
              "      <td>48000</td>\n",
              "      <td>0.001488</td>\n",
              "      <td>4.681241</td>\n",
              "      <td>-2.827461</td>\n",
              "    </tr>\n",
              "    <tr>\n",
              "      <th>48</th>\n",
              "      <td>0.733010</td>\n",
              "      <td>49000</td>\n",
              "      <td>0.001556</td>\n",
              "      <td>4.690196</td>\n",
              "      <td>-2.808013</td>\n",
              "    </tr>\n",
              "    <tr>\n",
              "      <th>49</th>\n",
              "      <td>0.736714</td>\n",
              "      <td>50000</td>\n",
              "      <td>0.001610</td>\n",
              "      <td>4.698970</td>\n",
              "      <td>-2.793240</td>\n",
              "    </tr>\n",
              "  </tbody>\n",
              "</table>\n",
              "</div>"
            ],
            "text/plain": [
              "    similarity  Word Count      Time  Log Word Count  Log Time\n",
              "0     0.344086        1000  0.000115        3.000000 -3.938623\n",
              "1     0.405481        2000  0.000186        3.301030 -3.730231\n",
              "2     0.490313        3000  0.000240        3.477121 -3.620278\n",
              "3     0.459321        4000  0.000283        3.602060 -3.547661\n",
              "4     0.519064        5000  0.000345        3.698970 -3.462011\n",
              "5     0.558846        6000  0.000382        3.778151 -3.417591\n",
              "6     0.553484        7000  0.000426        3.845098 -3.370268\n",
              "7     0.541723        8000  0.000462        3.903090 -3.335194\n",
              "8     0.540041        9000  0.000499        3.954243 -3.302306\n",
              "9     0.541663       10000  0.000540        4.000000 -3.267515\n",
              "10    0.556640       11000  0.000555        4.041393 -3.255397\n",
              "11    0.577080       12000  0.000597        4.079181 -3.224303\n",
              "12    0.599016       13000  0.000634        4.113943 -3.197942\n",
              "13    0.620933       14000  0.000673        4.146128 -3.172057\n",
              "14    0.627339       15000  0.000713        4.176091 -3.146655\n",
              "15    0.637080       16000  0.000817        4.204120 -3.087606\n",
              "16    0.634458       17000  0.000980        4.230449 -3.008702\n",
              "17    0.648805       18000  0.000795        4.255273 -3.099864\n",
              "18    0.663602       19000  0.000851        4.278754 -3.069967\n",
              "19    0.672381       20000  0.000873        4.301030 -3.058823\n",
              "20    0.675777       21000  0.000904        4.322219 -3.044032\n",
              "21    0.683566       22000  0.000935        4.342423 -3.029307\n",
              "22    0.689375       23000  0.000956        4.361728 -3.019711\n",
              "23    0.690081       24000  0.001002        4.380211 -2.999318\n",
              "24    0.686398       25000  0.000970        4.397940 -3.013364\n",
              "25    0.687709       26000  0.001082        4.414973 -2.965633\n",
              "26    0.695075       27000  0.001236        4.431364 -2.907853\n",
              "27    0.699029       28000  0.001082        4.447158 -2.965594\n",
              "28    0.701329       29000  0.001098        4.462398 -2.959364\n",
              "29    0.704691       30000  0.001116        4.477121 -2.952154\n",
              "30    0.706203       31000  0.001139        4.491362 -2.943386\n",
              "31    0.703714       32000  0.001226        4.505150 -2.911553\n",
              "32    0.703006       33000  0.001221        4.518514 -2.913186\n",
              "33    0.713623       34000  0.001205        4.531479 -2.918879\n",
              "34    0.721467       35000  0.001380        4.544068 -2.860011\n",
              "35    0.723725       36000  0.001263        4.556303 -2.898556\n",
              "36    0.720610       37000  0.001286        4.568202 -2.890620\n",
              "37    0.720859       38000  0.001276        4.579784 -2.894192\n",
              "38    0.719918       39000  0.001323        4.591065 -2.878367\n",
              "39    0.716554       40000  0.002939        4.602060 -2.531813\n",
              "40    0.717098       41000  0.001522        4.612784 -2.817574\n",
              "41    0.716493       42000  0.001364        4.623249 -2.865180\n",
              "42    0.717218       43000  0.001425        4.633468 -2.846322\n",
              "43    0.720363       44000  0.001495        4.643453 -2.825275\n",
              "44    0.718279       45000  0.001570        4.653213 -2.804150\n",
              "45    0.725852       46000  0.001491        4.662758 -2.826453\n",
              "46    0.728005       47000  0.001516        4.672098 -2.819230\n",
              "47    0.728764       48000  0.001488        4.681241 -2.827461\n",
              "48    0.733010       49000  0.001556        4.690196 -2.808013\n",
              "49    0.736714       50000  0.001610        4.698970 -2.793240"
            ]
          },
          "metadata": {},
          "execution_count": 17
        }
      ],
      "source": [
        "# Creating dataframe for results\n",
        "df_increacing = Jac.increacing_wordList(max_words, plot_length, epochs)\n",
        "df_increacing"
      ]
    },
    {
      "cell_type": "markdown",
      "metadata": {
        "id": "-LeWvt9kEhO3"
      },
      "source": [
        "**Analysis of Runtime**"
      ]
    },
    {
      "cell_type": "markdown",
      "metadata": {
        "id": "ftJFCfb7APn6"
      },
      "source": [
        "***Figure 1.4:*** Plot illustrates the worst case run time of jaccard's similarity with the size of words increacing from 1000 - 50,000"
      ]
    },
    {
      "cell_type": "code",
      "execution_count": null,
      "metadata": {
        "colab": {
          "base_uri": "https://localhost:8080/",
          "height": 312
        },
        "id": "fRWybzz4C1NY",
        "outputId": "3cb3614b-43d7-45f7-cb4e-d52b712019e2"
      },
      "outputs": [
        {
          "output_type": "execute_result",
          "data": {
            "text/plain": [
              "<matplotlib.axes._subplots.AxesSubplot at 0x7f6f635cae10>"
            ]
          },
          "metadata": {},
          "execution_count": 18
        },
        {
          "output_type": "display_data",
          "data": {
            "image/png": "[encoded data removed]",
            "text/plain": [
              "<Figure size 432x288 with 1 Axes>"
            ]
          },
          "metadata": {
            "needs_background": "light"
          }
        }
      ],
      "source": [
        "# Using pandas to plot from dataframe\n",
        "title_ = \"Run Time of Increacing Word Count\"\n",
        "df_increacing.plot(x=\"Word Count\", y=\"Time\", title=title_)"
      ]
    },
    {
      "cell_type": "markdown",
      "metadata": {
        "id": "pDVWZcmblHSD"
      },
      "source": [
        "***Figure 1.5*** Scatter plot illustrates the worst case run time of jaccard's similarity with the size of words increacing from 1000 - 50,000 (run time and size of words are represented in logs)"
      ]
    },
    {
      "cell_type": "code",
      "execution_count": null,
      "metadata": {
        "colab": {
          "base_uri": "https://localhost:8080/",
          "height": 312
        },
        "id": "_R8fudYblHSD",
        "outputId": "e2bb9c81-6534-4774-8447-13c93f015b35"
      },
      "outputs": [
        {
          "output_type": "execute_result",
          "data": {
            "text/plain": [
              "<matplotlib.axes._subplots.AxesSubplot at 0x7f6f6366b410>"
            ]
          },
          "metadata": {},
          "execution_count": 19
        },
        {
          "output_type": "display_data",
          "data": {
            "image/png": "[encoded data removed]",
            "text/plain": [
              "<Figure size 432x288 with 1 Axes>"
            ]
          },
          "metadata": {
            "needs_background": "light"
          }
        }
      ],
      "source": [
        "# Using pandas to plot from dataframe\n",
        "title_ = \"Run Time of Increacing Word Count (in log)\"\n",
        "df_increacing.plot.scatter(x=\"Log Word Count\", y=\"Log Time\", title=title_)"
      ]
    },
    {
      "cell_type": "markdown",
      "metadata": {
        "id": "e_HlRXJmlHSF"
      },
      "source": [
        "***Figure 1.6*** Metrics of the polts above derived from pandas dataframe in figure 1.3"
      ]
    },
    {
      "cell_type": "code",
      "execution_count": null,
      "metadata": {
        "colab": {
          "base_uri": "https://localhost:8080/",
          "height": 143
        },
        "id": "95YZyoOLlHSG",
        "outputId": "1a3e1191-abe4-4b69-ec54-cbd94701aed8"
      },
      "outputs": [
        {
          "output_type": "execute_result",
          "data": {
            "text/html": [
              "<div>\n",
              "<style scoped>\n",
              "    .dataframe tbody tr th:only-of-type {\n",
              "        vertical-align: middle;\n",
              "    }\n",
              "\n",
              "    .dataframe tbody tr th {\n",
              "        vertical-align: top;\n",
              "    }\n",
              "\n",
              "    .dataframe thead th {\n",
              "        text-align: right;\n",
              "    }\n",
              "</style>\n",
              "<table border=\"1\" class=\"dataframe\">\n",
              "  <thead>\n",
              "    <tr style=\"text-align: right;\">\n",
              "      <th></th>\n",
              "      <th>Metric</th>\n",
              "      <th>Actual Data</th>\n",
              "      <th>Log Data</th>\n",
              "    </tr>\n",
              "  </thead>\n",
              "  <tbody>\n",
              "    <tr>\n",
              "      <th>0</th>\n",
              "      <td>Slope</td>\n",
              "      <td>3.054053e-08</td>\n",
              "      <td>0.688860</td>\n",
              "    </tr>\n",
              "    <tr>\n",
              "      <th>1</th>\n",
              "      <td>Intercept</td>\n",
              "      <td>2.341179e-04</td>\n",
              "      <td>-6.015831</td>\n",
              "    </tr>\n",
              "    <tr>\n",
              "      <th>2</th>\n",
              "      <td>STD Error</td>\n",
              "      <td>2.278346e-09</td>\n",
              "      <td>0.018889</td>\n",
              "    </tr>\n",
              "  </tbody>\n",
              "</table>\n",
              "</div>"
            ],
            "text/plain": [
              "      Metric   Actual Data  Log Data\n",
              "0      Slope  3.054053e-08  0.688860\n",
              "1  Intercept  2.341179e-04 -6.015831\n",
              "2  STD Error  2.278346e-09  0.018889"
            ]
          },
          "metadata": {},
          "execution_count": 20
        }
      ],
      "source": [
        "# Using the slope_df() method to get metrics in pandas dataframe\n",
        "Jac.slope_df(df_increacing)"
      ]
    },
    {
      "cell_type": "markdown",
      "metadata": {
        "id": "YTTWLG_VEqan"
      },
      "source": [
        "**Analysis of Similarities**"
      ]
    },
    {
      "cell_type": "markdown",
      "metadata": {
        "id": "gCCR6BZ6F2EV"
      },
      "source": [
        "***Figure 1.7:*** Plot of change in jaccard's similarity in response to increacing size of words from 1,000 - 50,000"
      ]
    },
    {
      "cell_type": "code",
      "execution_count": null,
      "metadata": {
        "colab": {
          "base_uri": "https://localhost:8080/",
          "height": 312
        },
        "id": "8JPzPiobEwe9",
        "outputId": "5825a8c7-dcfa-45cb-e562-ad53f04bc95c"
      },
      "outputs": [
        {
          "output_type": "execute_result",
          "data": {
            "text/plain": [
              "<matplotlib.axes._subplots.AxesSubplot at 0x7f6f6392fd90>"
            ]
          },
          "metadata": {},
          "execution_count": 21
        },
        {
          "output_type": "display_data",
          "data": {
            "image/png": "[encoded data removed]",
            "text/plain": [
              "<Figure size 432x288 with 1 Axes>"
            ]
          },
          "metadata": {
            "needs_background": "light"
          }
        }
      ],
      "source": [
        "# Using pandas to plot from dataframe\n",
        "title_ = \"Similarity of Increacing Word Count\"\n",
        "df_increacing.plot(x=\"Word Count\", y=\"similarity\", title=title_)"
      ]
    },
    {
      "cell_type": "markdown",
      "metadata": {
        "id": "n1YPgZwZC2MR"
      },
      "source": [
        "# **==== QUESTION 1 (REPORT) ====**"
      ]
    },
    {
      "cell_type": "markdown",
      "metadata": {
        "id": "sIKlPd76lHSJ"
      },
      "source": [
        "**Implementation of Jaccard's Similarity**\n",
        " \n",
        "Jaccard’s similarity index can be conceptualised as total observations present in both sets (size of intersection) divided by total observations in either sets (size of union) represented by the following notation **$J(A,B) =\\frac{ \\left| A\\bigcap_{}^{}B{} \\right| }{|A\\bigcup_{}^{}B|}$**. Respectively, jaccard’s similarity is implemented by:\n",
        " \n",
        " \n",
        "1. Computing sum of frequencies of intersecting words in both sets.\n",
        "2. Computing the unions using sum frequencies in both sets subtracted by total sum of intersections.\n",
        "3. Dividing total sum of intersection in both sets by the union.\n",
        " \n",
        "In this respect, the length of the documents (keys in our bag of words) have the most significant impact on the worst case runtime. Therefore, an experiment was carried out to find the most effective method of computing the sum of the values in the dictionary which is used to find both the union as well as intersections. It was concluded that using the built in sum() and dict.values() drastically improves runtime [figures 1.1 - 1.2].\n",
        " \n",
        " \n",
        " \n",
        "**Experimentations and Analysis**\n",
        "\n",
        "Results collected  in figure 1.1 (data frame) suggest the average runtime and similarity index to increase along with word count. Respectively, figure 1.7 exhibits significant increase in similarity until 10,000 words followed by more modest increase suggesting documents run out of common words that intersect. On the other hand, the average runtime appears to grow more steadily (against word count) despite irregularities seen with the peak in figure 1.4. This is also consistent with the outlier exhibited in the scatter graph [figure 1.5].\n",
        " \n",
        "**Estimation of Constants**\n",
        "\n",
        "If **$y=ax^{b}$**, then **$log(y) = log(x)b+log(a)$** where **$b$** is the slope and **$a$** is the intercept.  Respectively, figure 1.6 displays results computed (using the scipy library) with the gradient at 0.69 and the intercept at -6.02 (**$\\approx 6$**) meaning that **$y\\approx x^{0.69}*10^{-6}$**. The estimation can be  verified as $50000^{0.69}*10^{-6.02} = 0.0017 \\approx 0.0016$ (the result in figure 1.3). Therefore, the worst case runtime can be denoted as **$O(n^{0.69})$**.\n",
        "\n"
      ]
    },
    {
      "cell_type": "code",
      "source": [
        "# Run code to get the estimated time for 50,000 word count \n",
        "# Estimates for the run time can then be compared actual results in figure 1.1\n",
        "a = -6.02# Intercept \n",
        "b = 0.69# Slope\n",
        "x = 50000# Word Count\n",
        "y = 10**a * x**b # Y is the estimated runtime \n",
        "y"
      ],
      "metadata": {
        "colab": {
          "base_uri": "https://localhost:8080/"
        },
        "id": "igjV5K37gx04",
        "outputId": "15ad91fd-006d-4164-fa86-20a353509a47"
      },
      "execution_count": null,
      "outputs": [
        {
          "output_type": "execute_result",
          "data": {
            "text/plain": [
              "0.0016683582105409846"
            ]
          },
          "metadata": {},
          "execution_count": 22
        }
      ]
    },
    {
      "cell_type": "markdown",
      "metadata": {
        "id": "tmWrxMJcDv6z"
      },
      "source": [
        "# **==========================**"
      ]
    },
    {
      "cell_type": "markdown",
      "metadata": {
        "id": "BukdxMTfEB4x"
      },
      "source": [
        "# **Question 2 Class**"
      ]
    },
    {
      "cell_type": "code",
      "execution_count": null,
      "metadata": {
        "id": "g16uWxMjEI3L"
      },
      "outputs": [],
      "source": [
        "class Cosine:\n",
        "\n",
        "  def __init__(self, jaccard):\n",
        "    self.jaccard = jaccard\n",
        "    \n",
        "  # === The following 3 methods will be used from the jaccards class ===\n",
        "\n",
        "  # Returns a pandas data frame for displaying slope, intercept and standard deviation error both the actual data and the logs of given data\n",
        "  # Parameters: Pandas dataframe created using increacing_wordList() (it can be found below) \n",
        "  def slope_intercept_std(self, x, y):\n",
        "    return self.jaccard.slope_intercept_std(x, y)\n",
        "\n",
        "  # Returns the slope, intercept and standard deviation error for given dataset \n",
        "  # Parameters: x and y \n",
        "  def slope_df(self, df):\n",
        "    return self.jaccard.slope_df(df)\n",
        "\n",
        "  # Returns a list of word as bag of word (in a dictionary)\n",
        "  # Parameters: A list of words \n",
        "  def word_to_dict(self, word_list):\n",
        "    return self.jaccard.word_to_dict(word_list)\n",
        "\n",
        "  # Returns vectorized bag of words \n",
        "  # Parameters: A list of dictionaries (our bag of words)  \n",
        "  def create_matrix(self, list_of_dict):\n",
        "    # initialize a dictionary for our features \n",
        "    myDict = {}\n",
        "    # Adding all keys in our document in the empty dictionary with values initialized as 1 \n",
        "    for doc in list_of_dict:\n",
        "      for feature in doc.keys():\n",
        "        myDict[feature] = 1\n",
        "    # Creating a list of all keys in dictionary \n",
        "    dimensions = list(myDict.keys())\n",
        "    sorted_dimensions = sorted(dimensions) # Sorting the list above\n",
        "    # Returning vector from our bag of words \n",
        "    return [[doc.get(dimension, 0) for doc in list_of_dict] for dimension in dimensions]\n",
        "  \n",
        "  # Returns the transpose of a matrix \n",
        "  # Parameters: Takes a matrix represented as a list \n",
        "  def transpose(self, matrix):\n",
        "    return [[row[idx] for row in matrix] for idx in range(0, len(matrix[0]))]\n",
        "\n",
        "  # Calculates the sum of tokens for cosine similarity (as vector)\n",
        "  # Parameters: Takes vectorized tokens \n",
        "  def find_sum(self, tokens):\n",
        "    total = sum([i**2 for i in tokens])\n",
        "    return total**0.5\n",
        "  \n",
        "  # Returns cosine similarity \n",
        "  # Parameters: Takes two vectorized tokens \n",
        "  def cosine_simmilarity(self, tok_a, tok_b):\n",
        "    # Initlize dot product as 0\n",
        "    dot_product = 0\n",
        "    # Finding sum of vectorized tokens using find_sum() method\n",
        "    sum_a = self.find_sum(tok_a)\n",
        "    sum_b = self.find_sum(tok_b)\n",
        "    # Computing the dot product\n",
        "    for i in range(len(tok_a)):\n",
        "      dot_product += tok_a[i] * tok_b[i]\n",
        "    # Returning cosine similarity \n",
        "    return dot_product/(sum_a*sum_b)\n",
        "\n",
        "  def cosine_numpy(self, tok_a, tok_b):\n",
        "    # Computing the dot product using numpy\n",
        "    dot_product = np.dot(tok_a, tok_b)\n",
        "    # Finding sum of vectorized tokens using find_sum() method\n",
        "    sum_a = self.find_sum(tok_a)\n",
        "    sum_b = self.find_sum(tok_b)\n",
        "    # Returning cosine similarity \n",
        "    return dot_product/(sum_a*sum_b)\n",
        "\n",
        "  # Returns results of runtimes cosine similarity algorithm against increacing size of words (with and without numpy)\n",
        "  # Parameters: Maximum words (max_words) that will be used to test run time of algorithm\n",
        "  # Parameters: Plot length (plot_length) determines how many data points will be plotted\n",
        "  # Parameters: Epochs (epochs) is number of iterations that will be used to find the avergage runtime\n",
        "  def increacing_wordList(self, max_words, plot_length, epochs):\n",
        "    # Sorting the increace in word count (will be used in the for loop below)\n",
        "    range_min, range_max, range_diff = int(max_words/plot_length), int(max_words), int(max_words/plot_length)\n",
        "    # The gutenberg corpus\n",
        "    corpus = gutenberg.words()\n",
        "    # Empty list to gather our results (without using numpy)\n",
        "    word_counts = []\n",
        "    average_times = []\n",
        "    similarities = []\n",
        "    # Empty list to gather our results (using numpy)\n",
        "    average_times_numpy = []\n",
        "    similarities_numpy = []\n",
        "\n",
        "    for word_count in range(range_min, range_max+1, range_diff):\n",
        "      # Empty list to collect run average time (from total epochs) \n",
        "      times = []\n",
        "      times_numpy = []\n",
        "      # Adjusting size of word list  \n",
        "      tok_a = self.word_to_dict(corpus[:word_count])\n",
        "      tok_b = self.word_to_dict(corpus[word_count:word_count*2])\n",
        "      tok_a, tok_b = np.array(self.transpose(self.create_matrix([tok_a, tok_b])))\n",
        "      for i in range(epochs+1):\n",
        "        # Computing run times (without numpy)\n",
        "        start = time.time()\n",
        "        ans = self.cosine_simmilarity(tok_a, tok_b)\n",
        "        run_time = time.time() - start\n",
        "        times.append(run_time)\n",
        "        # Computing run times (with numpy)\n",
        "        start = time.time()\n",
        "        ans_np = self.cosine_numpy(tok_a, tok_b)\n",
        "        run_time = time.time() - start\n",
        "        times_numpy.append(run_time)\n",
        "        if i == epochs:\n",
        "          # Appending average time, word count and similarity score\n",
        "          word_counts.append(word_count)\n",
        "          similarities_numpy.append(ans_np)\n",
        "          similarities.append(ans)\n",
        "          average_time = np.mean(times_numpy)\n",
        "          average_times_numpy.append(average_time)\n",
        "          average_time = np.mean(times)\n",
        "          average_times.append(average_time)  \n",
        "    # Finding logs of words count and average run times\n",
        "    log_word = [np.log10(w) for w in word_counts]\n",
        "    log_time = [np.log10(t) for t in average_times]\n",
        "    log_time_numpy = [np.log10(t) for t in average_times_numpy]\n",
        "    # Returning results in pandas dataframe \n",
        "    df = pd.DataFrame(data={\"similarity\": similarities,\"Word Count\": word_counts, \"Time\": average_times, \"Log Word Count\": log_word, \"Log Time\": log_time})\n",
        "    df_numpy = pd.DataFrame(data={\"similarity\": similarities_numpy, \"Word Count\": word_counts, \"Time\": average_times_numpy, \"Log Word Count\": log_word, \"Log Time\": log_time_numpy})\n",
        "    return df, df_numpy\n",
        "\n",
        "# Initializing the Cosine class \n",
        "cos = Cosine(Jac)\n"
      ]
    },
    {
      "cell_type": "markdown",
      "metadata": {
        "id": "6FTcMwqOEnAs"
      },
      "source": [
        "# **Figures 2.1 -2.5:** Analysis of Cosine Simmilarity Algorithm Without NumPy"
      ]
    },
    {
      "cell_type": "markdown",
      "metadata": {
        "id": "WlhjsN7OlHSS"
      },
      "source": [
        "***Pandas Data Frame***"
      ]
    },
    {
      "cell_type": "code",
      "execution_count": null,
      "metadata": {
        "id": "xAtZNL_TlHSU"
      },
      "outputs": [],
      "source": [
        "# Setup \n",
        "max_words = 50000\n",
        "plot_length = 50\n",
        "epochs = 10 \n",
        "df_increacing, df_numpy = cos.increacing_wordList(max_words, plot_length, epochs)"
      ]
    },
    {
      "cell_type": "markdown",
      "metadata": {
        "id": "utWt7iTNFIEK"
      },
      "source": [
        "***Figure 2.1:*** In this table the run time of cosine similarity is calculated with increacing word counts ranging from 1,000 words to 50,000 words"
      ]
    },
    {
      "cell_type": "code",
      "execution_count": null,
      "metadata": {
        "colab": {
          "base_uri": "https://localhost:8080/",
          "height": 1000
        },
        "id": "bikFY2pPENW6",
        "outputId": "ff3a6034-bb9b-47a3-a5d4-c13a08949932"
      },
      "outputs": [
        {
          "output_type": "execute_result",
          "data": {
            "text/html": [
              "<div>\n",
              "<style scoped>\n",
              "    .dataframe tbody tr th:only-of-type {\n",
              "        vertical-align: middle;\n",
              "    }\n",
              "\n",
              "    .dataframe tbody tr th {\n",
              "        vertical-align: top;\n",
              "    }\n",
              "\n",
              "    .dataframe thead th {\n",
              "        text-align: right;\n",
              "    }\n",
              "</style>\n",
              "<table border=\"1\" class=\"dataframe\">\n",
              "  <thead>\n",
              "    <tr style=\"text-align: right;\">\n",
              "      <th></th>\n",
              "      <th>similarity</th>\n",
              "      <th>Word Count</th>\n",
              "      <th>Time</th>\n",
              "      <th>Log Word Count</th>\n",
              "      <th>Log Time</th>\n",
              "    </tr>\n",
              "  </thead>\n",
              "  <tbody>\n",
              "    <tr>\n",
              "      <th>0</th>\n",
              "      <td>0.870456</td>\n",
              "      <td>1000</td>\n",
              "      <td>0.001467</td>\n",
              "      <td>3.000000</td>\n",
              "      <td>-2.833567</td>\n",
              "    </tr>\n",
              "    <tr>\n",
              "      <th>1</th>\n",
              "      <td>0.873228</td>\n",
              "      <td>2000</td>\n",
              "      <td>0.001425</td>\n",
              "      <td>3.301030</td>\n",
              "      <td>-2.846163</td>\n",
              "    </tr>\n",
              "    <tr>\n",
              "      <th>2</th>\n",
              "      <td>0.947996</td>\n",
              "      <td>3000</td>\n",
              "      <td>0.001895</td>\n",
              "      <td>3.477121</td>\n",
              "      <td>-2.722397</td>\n",
              "    </tr>\n",
              "    <tr>\n",
              "      <th>3</th>\n",
              "      <td>0.929282</td>\n",
              "      <td>4000</td>\n",
              "      <td>0.002312</td>\n",
              "      <td>3.602060</td>\n",
              "      <td>-2.635941</td>\n",
              "    </tr>\n",
              "    <tr>\n",
              "      <th>4</th>\n",
              "      <td>0.962668</td>\n",
              "      <td>5000</td>\n",
              "      <td>0.002568</td>\n",
              "      <td>3.698970</td>\n",
              "      <td>-2.590430</td>\n",
              "    </tr>\n",
              "    <tr>\n",
              "      <th>5</th>\n",
              "      <td>0.976660</td>\n",
              "      <td>6000</td>\n",
              "      <td>0.002895</td>\n",
              "      <td>3.778151</td>\n",
              "      <td>-2.538285</td>\n",
              "    </tr>\n",
              "    <tr>\n",
              "      <th>6</th>\n",
              "      <td>0.970721</td>\n",
              "      <td>7000</td>\n",
              "      <td>0.003153</td>\n",
              "      <td>3.845098</td>\n",
              "      <td>-2.501333</td>\n",
              "    </tr>\n",
              "    <tr>\n",
              "      <th>7</th>\n",
              "      <td>0.958788</td>\n",
              "      <td>8000</td>\n",
              "      <td>0.003409</td>\n",
              "      <td>3.903090</td>\n",
              "      <td>-2.467396</td>\n",
              "    </tr>\n",
              "    <tr>\n",
              "      <th>8</th>\n",
              "      <td>0.957799</td>\n",
              "      <td>9000</td>\n",
              "      <td>0.003558</td>\n",
              "      <td>3.954243</td>\n",
              "      <td>-2.448801</td>\n",
              "    </tr>\n",
              "    <tr>\n",
              "      <th>9</th>\n",
              "      <td>0.953885</td>\n",
              "      <td>10000</td>\n",
              "      <td>0.003874</td>\n",
              "      <td>4.000000</td>\n",
              "      <td>-2.411814</td>\n",
              "    </tr>\n",
              "    <tr>\n",
              "      <th>10</th>\n",
              "      <td>0.957316</td>\n",
              "      <td>11000</td>\n",
              "      <td>0.004608</td>\n",
              "      <td>4.041393</td>\n",
              "      <td>-2.336471</td>\n",
              "    </tr>\n",
              "    <tr>\n",
              "      <th>11</th>\n",
              "      <td>0.965487</td>\n",
              "      <td>12000</td>\n",
              "      <td>0.004152</td>\n",
              "      <td>4.079181</td>\n",
              "      <td>-2.381773</td>\n",
              "    </tr>\n",
              "    <tr>\n",
              "      <th>12</th>\n",
              "      <td>0.972614</td>\n",
              "      <td>13000</td>\n",
              "      <td>0.004785</td>\n",
              "      <td>4.113943</td>\n",
              "      <td>-2.320140</td>\n",
              "    </tr>\n",
              "    <tr>\n",
              "      <th>13</th>\n",
              "      <td>0.982520</td>\n",
              "      <td>14000</td>\n",
              "      <td>0.004398</td>\n",
              "      <td>4.146128</td>\n",
              "      <td>-2.356706</td>\n",
              "    </tr>\n",
              "    <tr>\n",
              "      <th>14</th>\n",
              "      <td>0.982036</td>\n",
              "      <td>15000</td>\n",
              "      <td>0.004979</td>\n",
              "      <td>4.176091</td>\n",
              "      <td>-2.302884</td>\n",
              "    </tr>\n",
              "    <tr>\n",
              "      <th>15</th>\n",
              "      <td>0.982596</td>\n",
              "      <td>16000</td>\n",
              "      <td>0.004817</td>\n",
              "      <td>4.204120</td>\n",
              "      <td>-2.317228</td>\n",
              "    </tr>\n",
              "    <tr>\n",
              "      <th>16</th>\n",
              "      <td>0.980401</td>\n",
              "      <td>17000</td>\n",
              "      <td>0.004983</td>\n",
              "      <td>4.230449</td>\n",
              "      <td>-2.302525</td>\n",
              "    </tr>\n",
              "    <tr>\n",
              "      <th>17</th>\n",
              "      <td>0.984672</td>\n",
              "      <td>18000</td>\n",
              "      <td>0.005229</td>\n",
              "      <td>4.255273</td>\n",
              "      <td>-2.281573</td>\n",
              "    </tr>\n",
              "    <tr>\n",
              "      <th>18</th>\n",
              "      <td>0.986850</td>\n",
              "      <td>19000</td>\n",
              "      <td>0.005333</td>\n",
              "      <td>4.278754</td>\n",
              "      <td>-2.273033</td>\n",
              "    </tr>\n",
              "    <tr>\n",
              "      <th>19</th>\n",
              "      <td>0.988780</td>\n",
              "      <td>20000</td>\n",
              "      <td>0.005946</td>\n",
              "      <td>4.301030</td>\n",
              "      <td>-2.225792</td>\n",
              "    </tr>\n",
              "    <tr>\n",
              "      <th>20</th>\n",
              "      <td>0.989921</td>\n",
              "      <td>21000</td>\n",
              "      <td>0.005629</td>\n",
              "      <td>4.322219</td>\n",
              "      <td>-2.249535</td>\n",
              "    </tr>\n",
              "    <tr>\n",
              "      <th>21</th>\n",
              "      <td>0.990748</td>\n",
              "      <td>22000</td>\n",
              "      <td>0.005870</td>\n",
              "      <td>4.342423</td>\n",
              "      <td>-2.231327</td>\n",
              "    </tr>\n",
              "    <tr>\n",
              "      <th>22</th>\n",
              "      <td>0.992030</td>\n",
              "      <td>23000</td>\n",
              "      <td>0.006040</td>\n",
              "      <td>4.361728</td>\n",
              "      <td>-2.218998</td>\n",
              "    </tr>\n",
              "    <tr>\n",
              "      <th>23</th>\n",
              "      <td>0.991327</td>\n",
              "      <td>24000</td>\n",
              "      <td>0.006536</td>\n",
              "      <td>4.380211</td>\n",
              "      <td>-2.184660</td>\n",
              "    </tr>\n",
              "    <tr>\n",
              "      <th>24</th>\n",
              "      <td>0.990237</td>\n",
              "      <td>25000</td>\n",
              "      <td>0.006740</td>\n",
              "      <td>4.397940</td>\n",
              "      <td>-2.171331</td>\n",
              "    </tr>\n",
              "    <tr>\n",
              "      <th>25</th>\n",
              "      <td>0.989924</td>\n",
              "      <td>26000</td>\n",
              "      <td>0.006219</td>\n",
              "      <td>4.414973</td>\n",
              "      <td>-2.206248</td>\n",
              "    </tr>\n",
              "    <tr>\n",
              "      <th>26</th>\n",
              "      <td>0.991145</td>\n",
              "      <td>27000</td>\n",
              "      <td>0.006410</td>\n",
              "      <td>4.431364</td>\n",
              "      <td>-2.193135</td>\n",
              "    </tr>\n",
              "    <tr>\n",
              "      <th>27</th>\n",
              "      <td>0.991520</td>\n",
              "      <td>28000</td>\n",
              "      <td>0.006716</td>\n",
              "      <td>4.447158</td>\n",
              "      <td>-2.172862</td>\n",
              "    </tr>\n",
              "    <tr>\n",
              "      <th>28</th>\n",
              "      <td>0.991268</td>\n",
              "      <td>29000</td>\n",
              "      <td>0.006663</td>\n",
              "      <td>4.462398</td>\n",
              "      <td>-2.176333</td>\n",
              "    </tr>\n",
              "    <tr>\n",
              "      <th>29</th>\n",
              "      <td>0.991127</td>\n",
              "      <td>30000</td>\n",
              "      <td>0.007705</td>\n",
              "      <td>4.477121</td>\n",
              "      <td>-2.113208</td>\n",
              "    </tr>\n",
              "    <tr>\n",
              "      <th>30</th>\n",
              "      <td>0.991134</td>\n",
              "      <td>31000</td>\n",
              "      <td>0.007006</td>\n",
              "      <td>4.491362</td>\n",
              "      <td>-2.154503</td>\n",
              "    </tr>\n",
              "    <tr>\n",
              "      <th>31</th>\n",
              "      <td>0.990762</td>\n",
              "      <td>32000</td>\n",
              "      <td>0.006899</td>\n",
              "      <td>4.505150</td>\n",
              "      <td>-2.161216</td>\n",
              "    </tr>\n",
              "    <tr>\n",
              "      <th>32</th>\n",
              "      <td>0.990771</td>\n",
              "      <td>33000</td>\n",
              "      <td>0.007365</td>\n",
              "      <td>4.518514</td>\n",
              "      <td>-2.132805</td>\n",
              "    </tr>\n",
              "    <tr>\n",
              "      <th>33</th>\n",
              "      <td>0.992445</td>\n",
              "      <td>34000</td>\n",
              "      <td>0.007566</td>\n",
              "      <td>4.531479</td>\n",
              "      <td>-2.121136</td>\n",
              "    </tr>\n",
              "    <tr>\n",
              "      <th>34</th>\n",
              "      <td>0.993016</td>\n",
              "      <td>35000</td>\n",
              "      <td>0.007152</td>\n",
              "      <td>4.544068</td>\n",
              "      <td>-2.145564</td>\n",
              "    </tr>\n",
              "    <tr>\n",
              "      <th>35</th>\n",
              "      <td>0.992832</td>\n",
              "      <td>36000</td>\n",
              "      <td>0.007562</td>\n",
              "      <td>4.556303</td>\n",
              "      <td>-2.121358</td>\n",
              "    </tr>\n",
              "    <tr>\n",
              "      <th>36</th>\n",
              "      <td>0.992385</td>\n",
              "      <td>37000</td>\n",
              "      <td>0.007371</td>\n",
              "      <td>4.568202</td>\n",
              "      <td>-2.132502</td>\n",
              "    </tr>\n",
              "    <tr>\n",
              "      <th>37</th>\n",
              "      <td>0.992394</td>\n",
              "      <td>38000</td>\n",
              "      <td>0.007376</td>\n",
              "      <td>4.579784</td>\n",
              "      <td>-2.132184</td>\n",
              "    </tr>\n",
              "    <tr>\n",
              "      <th>38</th>\n",
              "      <td>0.992308</td>\n",
              "      <td>39000</td>\n",
              "      <td>0.007591</td>\n",
              "      <td>4.591065</td>\n",
              "      <td>-2.119727</td>\n",
              "    </tr>\n",
              "    <tr>\n",
              "      <th>39</th>\n",
              "      <td>0.991367</td>\n",
              "      <td>40000</td>\n",
              "      <td>0.007835</td>\n",
              "      <td>4.602060</td>\n",
              "      <td>-2.105947</td>\n",
              "    </tr>\n",
              "    <tr>\n",
              "      <th>40</th>\n",
              "      <td>0.991392</td>\n",
              "      <td>41000</td>\n",
              "      <td>0.008299</td>\n",
              "      <td>4.612784</td>\n",
              "      <td>-2.080955</td>\n",
              "    </tr>\n",
              "    <tr>\n",
              "      <th>41</th>\n",
              "      <td>0.991376</td>\n",
              "      <td>42000</td>\n",
              "      <td>0.007924</td>\n",
              "      <td>4.623249</td>\n",
              "      <td>-2.101081</td>\n",
              "    </tr>\n",
              "    <tr>\n",
              "      <th>42</th>\n",
              "      <td>0.991575</td>\n",
              "      <td>43000</td>\n",
              "      <td>0.007948</td>\n",
              "      <td>4.633468</td>\n",
              "      <td>-2.099765</td>\n",
              "    </tr>\n",
              "    <tr>\n",
              "      <th>43</th>\n",
              "      <td>0.992125</td>\n",
              "      <td>44000</td>\n",
              "      <td>0.007910</td>\n",
              "      <td>4.643453</td>\n",
              "      <td>-2.101804</td>\n",
              "    </tr>\n",
              "    <tr>\n",
              "      <th>44</th>\n",
              "      <td>0.991599</td>\n",
              "      <td>45000</td>\n",
              "      <td>0.008209</td>\n",
              "      <td>4.653213</td>\n",
              "      <td>-2.085686</td>\n",
              "    </tr>\n",
              "    <tr>\n",
              "      <th>45</th>\n",
              "      <td>0.992539</td>\n",
              "      <td>46000</td>\n",
              "      <td>0.008464</td>\n",
              "      <td>4.662758</td>\n",
              "      <td>-2.072432</td>\n",
              "    </tr>\n",
              "    <tr>\n",
              "      <th>46</th>\n",
              "      <td>0.992880</td>\n",
              "      <td>47000</td>\n",
              "      <td>0.008397</td>\n",
              "      <td>4.672098</td>\n",
              "      <td>-2.075877</td>\n",
              "    </tr>\n",
              "    <tr>\n",
              "      <th>47</th>\n",
              "      <td>0.992935</td>\n",
              "      <td>48000</td>\n",
              "      <td>0.008865</td>\n",
              "      <td>4.681241</td>\n",
              "      <td>-2.052301</td>\n",
              "    </tr>\n",
              "    <tr>\n",
              "      <th>48</th>\n",
              "      <td>0.993297</td>\n",
              "      <td>49000</td>\n",
              "      <td>0.008622</td>\n",
              "      <td>4.690196</td>\n",
              "      <td>-2.064370</td>\n",
              "    </tr>\n",
              "    <tr>\n",
              "      <th>49</th>\n",
              "      <td>0.993755</td>\n",
              "      <td>50000</td>\n",
              "      <td>0.008585</td>\n",
              "      <td>4.698970</td>\n",
              "      <td>-2.066280</td>\n",
              "    </tr>\n",
              "  </tbody>\n",
              "</table>\n",
              "</div>"
            ],
            "text/plain": [
              "    similarity  Word Count      Time  Log Word Count  Log Time\n",
              "0     0.870456        1000  0.001467        3.000000 -2.833567\n",
              "1     0.873228        2000  0.001425        3.301030 -2.846163\n",
              "2     0.947996        3000  0.001895        3.477121 -2.722397\n",
              "3     0.929282        4000  0.002312        3.602060 -2.635941\n",
              "4     0.962668        5000  0.002568        3.698970 -2.590430\n",
              "5     0.976660        6000  0.002895        3.778151 -2.538285\n",
              "6     0.970721        7000  0.003153        3.845098 -2.501333\n",
              "7     0.958788        8000  0.003409        3.903090 -2.467396\n",
              "8     0.957799        9000  0.003558        3.954243 -2.448801\n",
              "9     0.953885       10000  0.003874        4.000000 -2.411814\n",
              "10    0.957316       11000  0.004608        4.041393 -2.336471\n",
              "11    0.965487       12000  0.004152        4.079181 -2.381773\n",
              "12    0.972614       13000  0.004785        4.113943 -2.320140\n",
              "13    0.982520       14000  0.004398        4.146128 -2.356706\n",
              "14    0.982036       15000  0.004979        4.176091 -2.302884\n",
              "15    0.982596       16000  0.004817        4.204120 -2.317228\n",
              "16    0.980401       17000  0.004983        4.230449 -2.302525\n",
              "17    0.984672       18000  0.005229        4.255273 -2.281573\n",
              "18    0.986850       19000  0.005333        4.278754 -2.273033\n",
              "19    0.988780       20000  0.005946        4.301030 -2.225792\n",
              "20    0.989921       21000  0.005629        4.322219 -2.249535\n",
              "21    0.990748       22000  0.005870        4.342423 -2.231327\n",
              "22    0.992030       23000  0.006040        4.361728 -2.218998\n",
              "23    0.991327       24000  0.006536        4.380211 -2.184660\n",
              "24    0.990237       25000  0.006740        4.397940 -2.171331\n",
              "25    0.989924       26000  0.006219        4.414973 -2.206248\n",
              "26    0.991145       27000  0.006410        4.431364 -2.193135\n",
              "27    0.991520       28000  0.006716        4.447158 -2.172862\n",
              "28    0.991268       29000  0.006663        4.462398 -2.176333\n",
              "29    0.991127       30000  0.007705        4.477121 -2.113208\n",
              "30    0.991134       31000  0.007006        4.491362 -2.154503\n",
              "31    0.990762       32000  0.006899        4.505150 -2.161216\n",
              "32    0.990771       33000  0.007365        4.518514 -2.132805\n",
              "33    0.992445       34000  0.007566        4.531479 -2.121136\n",
              "34    0.993016       35000  0.007152        4.544068 -2.145564\n",
              "35    0.992832       36000  0.007562        4.556303 -2.121358\n",
              "36    0.992385       37000  0.007371        4.568202 -2.132502\n",
              "37    0.992394       38000  0.007376        4.579784 -2.132184\n",
              "38    0.992308       39000  0.007591        4.591065 -2.119727\n",
              "39    0.991367       40000  0.007835        4.602060 -2.105947\n",
              "40    0.991392       41000  0.008299        4.612784 -2.080955\n",
              "41    0.991376       42000  0.007924        4.623249 -2.101081\n",
              "42    0.991575       43000  0.007948        4.633468 -2.099765\n",
              "43    0.992125       44000  0.007910        4.643453 -2.101804\n",
              "44    0.991599       45000  0.008209        4.653213 -2.085686\n",
              "45    0.992539       46000  0.008464        4.662758 -2.072432\n",
              "46    0.992880       47000  0.008397        4.672098 -2.075877\n",
              "47    0.992935       48000  0.008865        4.681241 -2.052301\n",
              "48    0.993297       49000  0.008622        4.690196 -2.064370\n",
              "49    0.993755       50000  0.008585        4.698970 -2.066280"
            ]
          },
          "metadata": {},
          "execution_count": 25
        }
      ],
      "source": [
        "# Pandas datafram\n",
        "df_increacing"
      ]
    },
    {
      "cell_type": "markdown",
      "metadata": {
        "id": "KX4O16nmlHSV"
      },
      "source": [
        "**Analysis of Runtime**"
      ]
    },
    {
      "cell_type": "markdown",
      "metadata": {
        "id": "mJfcXIE2FRTf"
      },
      "source": [
        "***Figure 2.2:*** Plot illustrates the worst case run time of cosine similarity with the size of words increacing from 1000 - 50,000."
      ]
    },
    {
      "cell_type": "code",
      "execution_count": null,
      "metadata": {
        "colab": {
          "base_uri": "https://localhost:8080/",
          "height": 312
        },
        "id": "vrNhZvx1FUjC",
        "outputId": "9a97b368-a753-40a3-e566-a5d142dbf5ee"
      },
      "outputs": [
        {
          "output_type": "execute_result",
          "data": {
            "text/plain": [
              "<matplotlib.axes._subplots.AxesSubplot at 0x7f6f6332c390>"
            ]
          },
          "metadata": {},
          "execution_count": 29
        },
        {
          "output_type": "display_data",
          "data": {
            "image/png": "[encoded data removed]",
            "text/plain": [
              "<Figure size 432x288 with 1 Axes>"
            ]
          },
          "metadata": {
            "needs_background": "light"
          }
        }
      ],
      "source": [
        "# plot using matplotlib\n",
        "title_ = \"Run Time of Increacing Word Count\"\n",
        "df_increacing.plot(x=\"Word Count\", y=\"Time\", title=title_)"
      ]
    },
    {
      "cell_type": "markdown",
      "metadata": {
        "id": "va_Lj-meFZpz"
      },
      "source": [
        "***Figure 2.3:*** Scatter plot illustrates the worst case run time of cosine similarity with the size of words increacing from 1000 - 50,000 (run time and size of words are represented in logs)"
      ]
    },
    {
      "cell_type": "code",
      "execution_count": null,
      "metadata": {
        "colab": {
          "base_uri": "https://localhost:8080/",
          "height": 312
        },
        "id": "BaikSzG3FfCu",
        "outputId": "3e47c5ad-460b-4190-ba8c-9200c99ea9e2"
      },
      "outputs": [
        {
          "output_type": "execute_result",
          "data": {
            "text/plain": [
              "<matplotlib.axes._subplots.AxesSubplot at 0x7f6f63301bd0>"
            ]
          },
          "metadata": {},
          "execution_count": 30
        },
        {
          "output_type": "display_data",
          "data": {
            "image/png": "[encoded data removed]",
            "text/plain": [
              "<Figure size 432x288 with 1 Axes>"
            ]
          },
          "metadata": {
            "needs_background": "light"
          }
        }
      ],
      "source": [
        "# scatter plot using matplotlib\n",
        "title_ = \"Run Time of Increacing Word Count\"\n",
        "df_increacing.plot.scatter(x=\"Log Word Count\", y=\"Log Time\", title=title_)"
      ]
    },
    {
      "cell_type": "markdown",
      "metadata": {
        "id": "CplVGadilHSX"
      },
      "source": [
        "**Analysis of Similarity**"
      ]
    },
    {
      "cell_type": "markdown",
      "metadata": {
        "id": "MlZN424BlHSX"
      },
      "source": [
        "***Figure 2.4:*** Plot of change in cosine similarity in response to increacing size of words from 1,000 - 50,000"
      ]
    },
    {
      "cell_type": "code",
      "execution_count": null,
      "metadata": {
        "colab": {
          "base_uri": "https://localhost:8080/",
          "height": 312
        },
        "id": "TfG-eiPmlHSX",
        "outputId": "2dfc7368-fc12-4493-b52b-aa13c6d87976"
      },
      "outputs": [
        {
          "output_type": "execute_result",
          "data": {
            "text/plain": [
              "<matplotlib.axes._subplots.AxesSubplot at 0x7f6f63221f10>"
            ]
          },
          "metadata": {},
          "execution_count": 31
        },
        {
          "output_type": "display_data",
          "data": {
            "image/png": "[encoded data removed]",
            "text/plain": [
              "<Figure size 432x288 with 1 Axes>"
            ]
          },
          "metadata": {
            "needs_background": "light"
          }
        }
      ],
      "source": [
        "# plot using matplotlib\n",
        "title_ = \"Similarity of Increacing Word Count\"\n",
        "df_increacing.plot(x=\"Word Count\", y=\"similarity\", title=title_)"
      ]
    },
    {
      "cell_type": "markdown",
      "metadata": {
        "id": "RAU1qGl3FvRC"
      },
      "source": [
        "# **Figures 2.5 - 2.7:** Analysis of Cosine Simmilarity Algorithm With NumPy"
      ]
    },
    {
      "cell_type": "markdown",
      "metadata": {
        "id": "XULmNhEvlHSZ"
      },
      "source": [
        "**Pandas Dataframe**\n"
      ]
    },
    {
      "cell_type": "markdown",
      "metadata": {
        "id": "SOA4sBxMFzUQ"
      },
      "source": [
        "***Figure 2.5:*** In this table the run time of cosine similarity (using NumPy) is calculated with increacing word counts ranging from 1,000 words to 50,000 words"
      ]
    },
    {
      "cell_type": "code",
      "execution_count": null,
      "metadata": {
        "colab": {
          "base_uri": "https://localhost:8080/",
          "height": 1000
        },
        "id": "kbWdSpdKGdQK",
        "outputId": "7c45e2d7-6f7c-42a8-b05c-626b961880e2"
      },
      "outputs": [
        {
          "output_type": "execute_result",
          "data": {
            "text/html": [
              "<div>\n",
              "<style scoped>\n",
              "    .dataframe tbody tr th:only-of-type {\n",
              "        vertical-align: middle;\n",
              "    }\n",
              "\n",
              "    .dataframe tbody tr th {\n",
              "        vertical-align: top;\n",
              "    }\n",
              "\n",
              "    .dataframe thead th {\n",
              "        text-align: right;\n",
              "    }\n",
              "</style>\n",
              "<table border=\"1\" class=\"dataframe\">\n",
              "  <thead>\n",
              "    <tr style=\"text-align: right;\">\n",
              "      <th></th>\n",
              "      <th>similarity</th>\n",
              "      <th>Word Count</th>\n",
              "      <th>Time</th>\n",
              "      <th>Log Word Count</th>\n",
              "      <th>Log Time</th>\n",
              "    </tr>\n",
              "  </thead>\n",
              "  <tbody>\n",
              "    <tr>\n",
              "      <th>0</th>\n",
              "      <td>0.870456</td>\n",
              "      <td>1000</td>\n",
              "      <td>0.001111</td>\n",
              "      <td>3.000000</td>\n",
              "      <td>-2.954384</td>\n",
              "    </tr>\n",
              "    <tr>\n",
              "      <th>1</th>\n",
              "      <td>0.873228</td>\n",
              "      <td>2000</td>\n",
              "      <td>0.000957</td>\n",
              "      <td>3.301030</td>\n",
              "      <td>-3.019083</td>\n",
              "    </tr>\n",
              "    <tr>\n",
              "      <th>2</th>\n",
              "      <td>0.947996</td>\n",
              "      <td>3000</td>\n",
              "      <td>0.001220</td>\n",
              "      <td>3.477121</td>\n",
              "      <td>-2.913807</td>\n",
              "    </tr>\n",
              "    <tr>\n",
              "      <th>3</th>\n",
              "      <td>0.929282</td>\n",
              "      <td>4000</td>\n",
              "      <td>0.001544</td>\n",
              "      <td>3.602060</td>\n",
              "      <td>-2.811274</td>\n",
              "    </tr>\n",
              "    <tr>\n",
              "      <th>4</th>\n",
              "      <td>0.962668</td>\n",
              "      <td>5000</td>\n",
              "      <td>0.001695</td>\n",
              "      <td>3.698970</td>\n",
              "      <td>-2.770818</td>\n",
              "    </tr>\n",
              "    <tr>\n",
              "      <th>5</th>\n",
              "      <td>0.976660</td>\n",
              "      <td>6000</td>\n",
              "      <td>0.001917</td>\n",
              "      <td>3.778151</td>\n",
              "      <td>-2.717291</td>\n",
              "    </tr>\n",
              "    <tr>\n",
              "      <th>6</th>\n",
              "      <td>0.970721</td>\n",
              "      <td>7000</td>\n",
              "      <td>0.002110</td>\n",
              "      <td>3.845098</td>\n",
              "      <td>-2.675792</td>\n",
              "    </tr>\n",
              "    <tr>\n",
              "      <th>7</th>\n",
              "      <td>0.958788</td>\n",
              "      <td>8000</td>\n",
              "      <td>0.002381</td>\n",
              "      <td>3.903090</td>\n",
              "      <td>-2.623205</td>\n",
              "    </tr>\n",
              "    <tr>\n",
              "      <th>8</th>\n",
              "      <td>0.957799</td>\n",
              "      <td>9000</td>\n",
              "      <td>0.002353</td>\n",
              "      <td>3.954243</td>\n",
              "      <td>-2.628319</td>\n",
              "    </tr>\n",
              "    <tr>\n",
              "      <th>9</th>\n",
              "      <td>0.953885</td>\n",
              "      <td>10000</td>\n",
              "      <td>0.002634</td>\n",
              "      <td>4.000000</td>\n",
              "      <td>-2.579462</td>\n",
              "    </tr>\n",
              "    <tr>\n",
              "      <th>10</th>\n",
              "      <td>0.957316</td>\n",
              "      <td>11000</td>\n",
              "      <td>0.002737</td>\n",
              "      <td>4.041393</td>\n",
              "      <td>-2.562742</td>\n",
              "    </tr>\n",
              "    <tr>\n",
              "      <th>11</th>\n",
              "      <td>0.965487</td>\n",
              "      <td>12000</td>\n",
              "      <td>0.002689</td>\n",
              "      <td>4.079181</td>\n",
              "      <td>-2.570333</td>\n",
              "    </tr>\n",
              "    <tr>\n",
              "      <th>12</th>\n",
              "      <td>0.972614</td>\n",
              "      <td>13000</td>\n",
              "      <td>0.003008</td>\n",
              "      <td>4.113943</td>\n",
              "      <td>-2.521788</td>\n",
              "    </tr>\n",
              "    <tr>\n",
              "      <th>13</th>\n",
              "      <td>0.982520</td>\n",
              "      <td>14000</td>\n",
              "      <td>0.002899</td>\n",
              "      <td>4.146128</td>\n",
              "      <td>-2.537752</td>\n",
              "    </tr>\n",
              "    <tr>\n",
              "      <th>14</th>\n",
              "      <td>0.982036</td>\n",
              "      <td>15000</td>\n",
              "      <td>0.003160</td>\n",
              "      <td>4.176091</td>\n",
              "      <td>-2.500259</td>\n",
              "    </tr>\n",
              "    <tr>\n",
              "      <th>15</th>\n",
              "      <td>0.982596</td>\n",
              "      <td>16000</td>\n",
              "      <td>0.003208</td>\n",
              "      <td>4.204120</td>\n",
              "      <td>-2.493832</td>\n",
              "    </tr>\n",
              "    <tr>\n",
              "      <th>16</th>\n",
              "      <td>0.980401</td>\n",
              "      <td>17000</td>\n",
              "      <td>0.003229</td>\n",
              "      <td>4.230449</td>\n",
              "      <td>-2.490898</td>\n",
              "    </tr>\n",
              "    <tr>\n",
              "      <th>17</th>\n",
              "      <td>0.984672</td>\n",
              "      <td>18000</td>\n",
              "      <td>0.003377</td>\n",
              "      <td>4.255273</td>\n",
              "      <td>-2.471533</td>\n",
              "    </tr>\n",
              "    <tr>\n",
              "      <th>18</th>\n",
              "      <td>0.986850</td>\n",
              "      <td>19000</td>\n",
              "      <td>0.003794</td>\n",
              "      <td>4.278754</td>\n",
              "      <td>-2.420925</td>\n",
              "    </tr>\n",
              "    <tr>\n",
              "      <th>19</th>\n",
              "      <td>0.988780</td>\n",
              "      <td>20000</td>\n",
              "      <td>0.003852</td>\n",
              "      <td>4.301030</td>\n",
              "      <td>-2.414350</td>\n",
              "    </tr>\n",
              "    <tr>\n",
              "      <th>20</th>\n",
              "      <td>0.989921</td>\n",
              "      <td>21000</td>\n",
              "      <td>0.003696</td>\n",
              "      <td>4.322219</td>\n",
              "      <td>-2.432298</td>\n",
              "    </tr>\n",
              "    <tr>\n",
              "      <th>21</th>\n",
              "      <td>0.990748</td>\n",
              "      <td>22000</td>\n",
              "      <td>0.003958</td>\n",
              "      <td>4.342423</td>\n",
              "      <td>-2.402488</td>\n",
              "    </tr>\n",
              "    <tr>\n",
              "      <th>22</th>\n",
              "      <td>0.992030</td>\n",
              "      <td>23000</td>\n",
              "      <td>0.003969</td>\n",
              "      <td>4.361728</td>\n",
              "      <td>-2.401305</td>\n",
              "    </tr>\n",
              "    <tr>\n",
              "      <th>23</th>\n",
              "      <td>0.991327</td>\n",
              "      <td>24000</td>\n",
              "      <td>0.004252</td>\n",
              "      <td>4.380211</td>\n",
              "      <td>-2.371411</td>\n",
              "    </tr>\n",
              "    <tr>\n",
              "      <th>24</th>\n",
              "      <td>0.990237</td>\n",
              "      <td>25000</td>\n",
              "      <td>0.004311</td>\n",
              "      <td>4.397940</td>\n",
              "      <td>-2.365405</td>\n",
              "    </tr>\n",
              "    <tr>\n",
              "      <th>25</th>\n",
              "      <td>0.989924</td>\n",
              "      <td>26000</td>\n",
              "      <td>0.004049</td>\n",
              "      <td>4.414973</td>\n",
              "      <td>-2.392636</td>\n",
              "    </tr>\n",
              "    <tr>\n",
              "      <th>26</th>\n",
              "      <td>0.991145</td>\n",
              "      <td>27000</td>\n",
              "      <td>0.004165</td>\n",
              "      <td>4.431364</td>\n",
              "      <td>-2.380347</td>\n",
              "    </tr>\n",
              "    <tr>\n",
              "      <th>27</th>\n",
              "      <td>0.991520</td>\n",
              "      <td>28000</td>\n",
              "      <td>0.004617</td>\n",
              "      <td>4.447158</td>\n",
              "      <td>-2.335663</td>\n",
              "    </tr>\n",
              "    <tr>\n",
              "      <th>28</th>\n",
              "      <td>0.991268</td>\n",
              "      <td>29000</td>\n",
              "      <td>0.004319</td>\n",
              "      <td>4.462398</td>\n",
              "      <td>-2.364637</td>\n",
              "    </tr>\n",
              "    <tr>\n",
              "      <th>29</th>\n",
              "      <td>0.991127</td>\n",
              "      <td>30000</td>\n",
              "      <td>0.004839</td>\n",
              "      <td>4.477121</td>\n",
              "      <td>-2.315240</td>\n",
              "    </tr>\n",
              "    <tr>\n",
              "      <th>30</th>\n",
              "      <td>0.991134</td>\n",
              "      <td>31000</td>\n",
              "      <td>0.004683</td>\n",
              "      <td>4.491362</td>\n",
              "      <td>-2.329464</td>\n",
              "    </tr>\n",
              "    <tr>\n",
              "      <th>31</th>\n",
              "      <td>0.990762</td>\n",
              "      <td>32000</td>\n",
              "      <td>0.004537</td>\n",
              "      <td>4.505150</td>\n",
              "      <td>-2.343223</td>\n",
              "    </tr>\n",
              "    <tr>\n",
              "      <th>32</th>\n",
              "      <td>0.990771</td>\n",
              "      <td>33000</td>\n",
              "      <td>0.004746</td>\n",
              "      <td>4.518514</td>\n",
              "      <td>-2.323704</td>\n",
              "    </tr>\n",
              "    <tr>\n",
              "      <th>33</th>\n",
              "      <td>0.992445</td>\n",
              "      <td>34000</td>\n",
              "      <td>0.004900</td>\n",
              "      <td>4.531479</td>\n",
              "      <td>-2.309817</td>\n",
              "    </tr>\n",
              "    <tr>\n",
              "      <th>34</th>\n",
              "      <td>0.993016</td>\n",
              "      <td>35000</td>\n",
              "      <td>0.004667</td>\n",
              "      <td>4.544068</td>\n",
              "      <td>-2.330922</td>\n",
              "    </tr>\n",
              "    <tr>\n",
              "      <th>35</th>\n",
              "      <td>0.992832</td>\n",
              "      <td>36000</td>\n",
              "      <td>0.005031</td>\n",
              "      <td>4.556303</td>\n",
              "      <td>-2.298314</td>\n",
              "    </tr>\n",
              "    <tr>\n",
              "      <th>36</th>\n",
              "      <td>0.992385</td>\n",
              "      <td>37000</td>\n",
              "      <td>0.004827</td>\n",
              "      <td>4.568202</td>\n",
              "      <td>-2.316313</td>\n",
              "    </tr>\n",
              "    <tr>\n",
              "      <th>37</th>\n",
              "      <td>0.992394</td>\n",
              "      <td>38000</td>\n",
              "      <td>0.004887</td>\n",
              "      <td>4.579784</td>\n",
              "      <td>-2.310975</td>\n",
              "    </tr>\n",
              "    <tr>\n",
              "      <th>38</th>\n",
              "      <td>0.992308</td>\n",
              "      <td>39000</td>\n",
              "      <td>0.004951</td>\n",
              "      <td>4.591065</td>\n",
              "      <td>-2.305305</td>\n",
              "    </tr>\n",
              "    <tr>\n",
              "      <th>39</th>\n",
              "      <td>0.991367</td>\n",
              "      <td>40000</td>\n",
              "      <td>0.005069</td>\n",
              "      <td>4.602060</td>\n",
              "      <td>-2.295108</td>\n",
              "    </tr>\n",
              "    <tr>\n",
              "      <th>40</th>\n",
              "      <td>0.991392</td>\n",
              "      <td>41000</td>\n",
              "      <td>0.005345</td>\n",
              "      <td>4.612784</td>\n",
              "      <td>-2.272021</td>\n",
              "    </tr>\n",
              "    <tr>\n",
              "      <th>41</th>\n",
              "      <td>0.991376</td>\n",
              "      <td>42000</td>\n",
              "      <td>0.005162</td>\n",
              "      <td>4.623249</td>\n",
              "      <td>-2.287186</td>\n",
              "    </tr>\n",
              "    <tr>\n",
              "      <th>42</th>\n",
              "      <td>0.991575</td>\n",
              "      <td>43000</td>\n",
              "      <td>0.005165</td>\n",
              "      <td>4.633468</td>\n",
              "      <td>-2.286905</td>\n",
              "    </tr>\n",
              "    <tr>\n",
              "      <th>43</th>\n",
              "      <td>0.992125</td>\n",
              "      <td>44000</td>\n",
              "      <td>0.005190</td>\n",
              "      <td>4.643453</td>\n",
              "      <td>-2.284801</td>\n",
              "    </tr>\n",
              "    <tr>\n",
              "      <th>44</th>\n",
              "      <td>0.991599</td>\n",
              "      <td>45000</td>\n",
              "      <td>0.005387</td>\n",
              "      <td>4.653213</td>\n",
              "      <td>-2.268686</td>\n",
              "    </tr>\n",
              "    <tr>\n",
              "      <th>45</th>\n",
              "      <td>0.992539</td>\n",
              "      <td>46000</td>\n",
              "      <td>0.005669</td>\n",
              "      <td>4.662758</td>\n",
              "      <td>-2.246488</td>\n",
              "    </tr>\n",
              "    <tr>\n",
              "      <th>46</th>\n",
              "      <td>0.992880</td>\n",
              "      <td>47000</td>\n",
              "      <td>0.005467</td>\n",
              "      <td>4.672098</td>\n",
              "      <td>-2.262232</td>\n",
              "    </tr>\n",
              "    <tr>\n",
              "      <th>47</th>\n",
              "      <td>0.992935</td>\n",
              "      <td>48000</td>\n",
              "      <td>0.005907</td>\n",
              "      <td>4.681241</td>\n",
              "      <td>-2.228598</td>\n",
              "    </tr>\n",
              "    <tr>\n",
              "      <th>48</th>\n",
              "      <td>0.993297</td>\n",
              "      <td>49000</td>\n",
              "      <td>0.005656</td>\n",
              "      <td>4.690196</td>\n",
              "      <td>-2.247490</td>\n",
              "    </tr>\n",
              "    <tr>\n",
              "      <th>49</th>\n",
              "      <td>0.993755</td>\n",
              "      <td>50000</td>\n",
              "      <td>0.005602</td>\n",
              "      <td>4.698970</td>\n",
              "      <td>-2.251683</td>\n",
              "    </tr>\n",
              "  </tbody>\n",
              "</table>\n",
              "</div>"
            ],
            "text/plain": [
              "    similarity  Word Count      Time  Log Word Count  Log Time\n",
              "0     0.870456        1000  0.001111        3.000000 -2.954384\n",
              "1     0.873228        2000  0.000957        3.301030 -3.019083\n",
              "2     0.947996        3000  0.001220        3.477121 -2.913807\n",
              "3     0.929282        4000  0.001544        3.602060 -2.811274\n",
              "4     0.962668        5000  0.001695        3.698970 -2.770818\n",
              "5     0.976660        6000  0.001917        3.778151 -2.717291\n",
              "6     0.970721        7000  0.002110        3.845098 -2.675792\n",
              "7     0.958788        8000  0.002381        3.903090 -2.623205\n",
              "8     0.957799        9000  0.002353        3.954243 -2.628319\n",
              "9     0.953885       10000  0.002634        4.000000 -2.579462\n",
              "10    0.957316       11000  0.002737        4.041393 -2.562742\n",
              "11    0.965487       12000  0.002689        4.079181 -2.570333\n",
              "12    0.972614       13000  0.003008        4.113943 -2.521788\n",
              "13    0.982520       14000  0.002899        4.146128 -2.537752\n",
              "14    0.982036       15000  0.003160        4.176091 -2.500259\n",
              "15    0.982596       16000  0.003208        4.204120 -2.493832\n",
              "16    0.980401       17000  0.003229        4.230449 -2.490898\n",
              "17    0.984672       18000  0.003377        4.255273 -2.471533\n",
              "18    0.986850       19000  0.003794        4.278754 -2.420925\n",
              "19    0.988780       20000  0.003852        4.301030 -2.414350\n",
              "20    0.989921       21000  0.003696        4.322219 -2.432298\n",
              "21    0.990748       22000  0.003958        4.342423 -2.402488\n",
              "22    0.992030       23000  0.003969        4.361728 -2.401305\n",
              "23    0.991327       24000  0.004252        4.380211 -2.371411\n",
              "24    0.990237       25000  0.004311        4.397940 -2.365405\n",
              "25    0.989924       26000  0.004049        4.414973 -2.392636\n",
              "26    0.991145       27000  0.004165        4.431364 -2.380347\n",
              "27    0.991520       28000  0.004617        4.447158 -2.335663\n",
              "28    0.991268       29000  0.004319        4.462398 -2.364637\n",
              "29    0.991127       30000  0.004839        4.477121 -2.315240\n",
              "30    0.991134       31000  0.004683        4.491362 -2.329464\n",
              "31    0.990762       32000  0.004537        4.505150 -2.343223\n",
              "32    0.990771       33000  0.004746        4.518514 -2.323704\n",
              "33    0.992445       34000  0.004900        4.531479 -2.309817\n",
              "34    0.993016       35000  0.004667        4.544068 -2.330922\n",
              "35    0.992832       36000  0.005031        4.556303 -2.298314\n",
              "36    0.992385       37000  0.004827        4.568202 -2.316313\n",
              "37    0.992394       38000  0.004887        4.579784 -2.310975\n",
              "38    0.992308       39000  0.004951        4.591065 -2.305305\n",
              "39    0.991367       40000  0.005069        4.602060 -2.295108\n",
              "40    0.991392       41000  0.005345        4.612784 -2.272021\n",
              "41    0.991376       42000  0.005162        4.623249 -2.287186\n",
              "42    0.991575       43000  0.005165        4.633468 -2.286905\n",
              "43    0.992125       44000  0.005190        4.643453 -2.284801\n",
              "44    0.991599       45000  0.005387        4.653213 -2.268686\n",
              "45    0.992539       46000  0.005669        4.662758 -2.246488\n",
              "46    0.992880       47000  0.005467        4.672098 -2.262232\n",
              "47    0.992935       48000  0.005907        4.681241 -2.228598\n",
              "48    0.993297       49000  0.005656        4.690196 -2.247490\n",
              "49    0.993755       50000  0.005602        4.698970 -2.251683"
            ]
          },
          "metadata": {},
          "execution_count": 32
        }
      ],
      "source": [
        "# Pandas dataframe\n",
        "df_numpy"
      ]
    },
    {
      "cell_type": "markdown",
      "metadata": {
        "id": "B2diFNcElHSa"
      },
      "source": [
        "**Analysis of Runtime**"
      ]
    },
    {
      "cell_type": "markdown",
      "metadata": {
        "id": "3v8HUfUYF3dw"
      },
      "source": [
        "***Figure 2.6:*** Plot illustrates the worst case run time of cosine similarity (using NumPy) with the size of words increacing from 1000 - 50,000."
      ]
    },
    {
      "cell_type": "code",
      "execution_count": null,
      "metadata": {
        "colab": {
          "base_uri": "https://localhost:8080/",
          "height": 312
        },
        "id": "ojal0GTsGj74",
        "outputId": "d3d35f41-7d1d-4253-851f-c8aaf0a08972"
      },
      "outputs": [
        {
          "output_type": "execute_result",
          "data": {
            "text/plain": [
              "<matplotlib.axes._subplots.AxesSubplot at 0x7f6f631ff090>"
            ]
          },
          "metadata": {},
          "execution_count": 33
        },
        {
          "output_type": "display_data",
          "data": {
            "image/png": "[encoded data removed]",
            "text/plain": [
              "<Figure size 432x288 with 1 Axes>"
            ]
          },
          "metadata": {
            "needs_background": "light"
          }
        }
      ],
      "source": [
        "# plot using matplotlib\n",
        "title_ = \"Run Time of Increacing Word Count\"\n",
        "df_numpy.plot(x=\"Word Count\", y=\"Time\", title=title_)"
      ]
    },
    {
      "cell_type": "markdown",
      "metadata": {
        "id": "uW6tk7JnlHSb"
      },
      "source": [
        "**Analysis of Similarity**"
      ]
    },
    {
      "cell_type": "markdown",
      "metadata": {
        "id": "moo9oFYMF5yD"
      },
      "source": [
        "***Figure 2.7:*** Scatter plot illustrates the worst case run time of cosine similarity (using NumPy) with the size of words increacing from 1000 - 50,000 (run time and size of words are represented in logs)"
      ]
    },
    {
      "cell_type": "code",
      "execution_count": null,
      "metadata": {
        "colab": {
          "base_uri": "https://localhost:8080/",
          "height": 312
        },
        "id": "kVMAZjFqGn-d",
        "outputId": "7fd29a0c-c08c-44e4-9935-7898313507f2"
      },
      "outputs": [
        {
          "output_type": "execute_result",
          "data": {
            "text/plain": [
              "<matplotlib.axes._subplots.AxesSubplot at 0x7f6f6317e7d0>"
            ]
          },
          "metadata": {},
          "execution_count": 34
        },
        {
          "output_type": "display_data",
          "data": {
            "image/png": "[encoded data removed]",
            "text/plain": [
              "<Figure size 432x288 with 1 Axes>"
            ]
          },
          "metadata": {
            "needs_background": "light"
          }
        }
      ],
      "source": [
        "# scatter plot using matplotlib\n",
        "title_ = \"Run Time of Increacing Word Count\"\n",
        "df_numpy.plot.scatter(x=\"Log Word Count\", y=\"Log Time\", title=title_)"
      ]
    },
    {
      "cell_type": "markdown",
      "metadata": {
        "id": "kr8sKPoXHD1R"
      },
      "source": [
        "# **Figures 2.8 - 2.10:** Comparison of Cosine Simmilarity Algorithm With and Without NumPy"
      ]
    },
    {
      "cell_type": "markdown",
      "metadata": {
        "id": "VO7yMMWvHY-e"
      },
      "source": [
        "***Figure 2.8:*** Plot compares the worst case run time of cosine similarity (with and without using Numpy) with the size of words increacing from 1000 - 50,000."
      ]
    },
    {
      "cell_type": "code",
      "execution_count": null,
      "metadata": {
        "colab": {
          "base_uri": "https://localhost:8080/",
          "height": 295
        },
        "id": "dNw_3lNpH-cJ",
        "outputId": "cb86b05e-2ed2-4f7c-be9a-cffcf74de183"
      },
      "outputs": [
        {
          "output_type": "display_data",
          "data": {
            "image/png": "[encoded data removed]",
            "text/plain": [
              "<Figure size 432x288 with 1 Axes>"
            ]
          },
          "metadata": {
            "needs_background": "light"
          }
        }
      ],
      "source": [
        "# plot using matplotlib\n",
        "plt.plot(df_numpy[\"Word Count\"], df_numpy[\"Time\"], color=\"red\")\n",
        "plt.plot(df_increacing[\"Word Count\"], df_increacing[\"Time\"], color=\"blue\")\n",
        "label = [\"NumPy\", \"Original\"]\n",
        "plt.legend(label, loc = 0, ncol = 2)\n",
        "plt.ylabel(\"log of time\")\n",
        "plt.xlabel(\"log of word count\")\n",
        "plt.title(\"Time Complexity of Cosine Simillary\")\n",
        "plt.show()"
      ]
    },
    {
      "cell_type": "markdown",
      "metadata": {
        "id": "TXv0e-cgHoVr"
      },
      "source": [
        "***Figure 2.9:*** Scatter plot compares the worst case run time of cosine similarity (with and without using Numpy) with the size of words increacing from 1000 - 50,000 (run time and size of words are represented in logs)."
      ]
    },
    {
      "cell_type": "code",
      "execution_count": null,
      "metadata": {
        "colab": {
          "base_uri": "https://localhost:8080/",
          "height": 312
        },
        "id": "fJBADOxdIEI3",
        "outputId": "c323f318-5bf9-4434-c328-49e78a50cf6f"
      },
      "outputs": [
        {
          "output_type": "execute_result",
          "data": {
            "text/plain": [
              "Text(0.5, 1.0, 'Time Complexity of Cosine Simillary')"
            ]
          },
          "metadata": {},
          "execution_count": 42
        },
        {
          "output_type": "display_data",
          "data": {
            "image/png": "[encoded data removed]",
            "text/plain": [
              "<Figure size 432x288 with 1 Axes>"
            ]
          },
          "metadata": {
            "needs_background": "light"
          }
        }
      ],
      "source": [
        "# scatter plot using matplotlib\n",
        "plt.scatter(df_numpy[\"Log Word Count\"], df_numpy[\"Log Time\"], color=\"blue\")\n",
        "plt.scatter(df_increacing[\"Log Word Count\"], df_increacing[\"Log Time\"], color=\"red\")\n",
        "label = [\"NumPy\", \"Original\"]\n",
        "plt.legend(label, loc = 0, ncol = 2)\n",
        "plt.ylabel(\"log of time\")\n",
        "plt.xlabel(\"log of word count\")\n",
        "plt.title(\"Time Complexity of Cosine Simillary\")\n"
      ]
    },
    {
      "cell_type": "markdown",
      "metadata": {
        "id": "tQmOGvGnlHSd"
      },
      "source": [
        "***Figure 2.10:*** Metrics"
      ]
    },
    {
      "cell_type": "code",
      "execution_count": null,
      "metadata": {
        "colab": {
          "base_uri": "https://localhost:8080/",
          "height": 161
        },
        "id": "fdaU_vk-lHSd",
        "outputId": "1fd17c1c-8507-47dc-f558-77daf41cdfda"
      },
      "outputs": [
        {
          "output_type": "stream",
          "name": "stdout",
          "text": [
            "Cosine Metrics (without NumPy)\n"
          ]
        },
        {
          "output_type": "execute_result",
          "data": {
            "text/html": [
              "<div>\n",
              "<style scoped>\n",
              "    .dataframe tbody tr th:only-of-type {\n",
              "        vertical-align: middle;\n",
              "    }\n",
              "\n",
              "    .dataframe tbody tr th {\n",
              "        vertical-align: top;\n",
              "    }\n",
              "\n",
              "    .dataframe thead th {\n",
              "        text-align: right;\n",
              "    }\n",
              "</style>\n",
              "<table border=\"1\" class=\"dataframe\">\n",
              "  <thead>\n",
              "    <tr style=\"text-align: right;\">\n",
              "      <th></th>\n",
              "      <th>Metric</th>\n",
              "      <th>Actual Data</th>\n",
              "      <th>Log Data</th>\n",
              "    </tr>\n",
              "  </thead>\n",
              "  <tbody>\n",
              "    <tr>\n",
              "      <th>0</th>\n",
              "      <td>Slope</td>\n",
              "      <td>1.383124e-07</td>\n",
              "      <td>0.514658</td>\n",
              "    </tr>\n",
              "    <tr>\n",
              "      <th>1</th>\n",
              "      <td>Intercept</td>\n",
              "      <td>2.418286e-03</td>\n",
              "      <td>-4.470498</td>\n",
              "    </tr>\n",
              "    <tr>\n",
              "      <th>2</th>\n",
              "      <td>STD Error</td>\n",
              "      <td>5.052542e-09</td>\n",
              "      <td>0.009499</td>\n",
              "    </tr>\n",
              "  </tbody>\n",
              "</table>\n",
              "</div>"
            ],
            "text/plain": [
              "      Metric   Actual Data  Log Data\n",
              "0      Slope  1.383124e-07  0.514658\n",
              "1  Intercept  2.418286e-03 -4.470498\n",
              "2  STD Error  5.052542e-09  0.009499"
            ]
          },
          "metadata": {},
          "execution_count": 44
        }
      ],
      "source": [
        "# Using the slope_df() method to get metrics in pandas dataframe\n",
        "print(\"Cosine Metrics (without NumPy)\")\n",
        "cos.slope_df(df_increacing)"
      ]
    },
    {
      "cell_type": "code",
      "execution_count": null,
      "metadata": {
        "colab": {
          "base_uri": "https://localhost:8080/",
          "height": 161
        },
        "id": "MaClzn-qlHSd",
        "outputId": "1b9a0703-c8ba-46b1-8690-99774a0389af"
      },
      "outputs": [
        {
          "output_type": "stream",
          "name": "stdout",
          "text": [
            "Cosine Metrics (with NumPy)\n"
          ]
        },
        {
          "output_type": "execute_result",
          "data": {
            "text/html": [
              "<div>\n",
              "<style scoped>\n",
              "    .dataframe tbody tr th:only-of-type {\n",
              "        vertical-align: middle;\n",
              "    }\n",
              "\n",
              "    .dataframe tbody tr th {\n",
              "        vertical-align: top;\n",
              "    }\n",
              "\n",
              "    .dataframe thead th {\n",
              "        text-align: right;\n",
              "    }\n",
              "</style>\n",
              "<table border=\"1\" class=\"dataframe\">\n",
              "  <thead>\n",
              "    <tr style=\"text-align: right;\">\n",
              "      <th></th>\n",
              "      <th>Metric</th>\n",
              "      <th>Actual Data</th>\n",
              "      <th>Log Data</th>\n",
              "    </tr>\n",
              "  </thead>\n",
              "  <tbody>\n",
              "    <tr>\n",
              "      <th>0</th>\n",
              "      <td>Slope</td>\n",
              "      <td>9.014574e-08</td>\n",
              "      <td>0.500611</td>\n",
              "    </tr>\n",
              "    <tr>\n",
              "      <th>1</th>\n",
              "      <td>Intercept</td>\n",
              "      <td>1.599251e-03</td>\n",
              "      <td>-4.592222</td>\n",
              "    </tr>\n",
              "    <tr>\n",
              "      <th>2</th>\n",
              "      <td>STD Error</td>\n",
              "      <td>3.133713e-09</td>\n",
              "      <td>0.010785</td>\n",
              "    </tr>\n",
              "  </tbody>\n",
              "</table>\n",
              "</div>"
            ],
            "text/plain": [
              "      Metric   Actual Data  Log Data\n",
              "0      Slope  9.014574e-08  0.500611\n",
              "1  Intercept  1.599251e-03 -4.592222\n",
              "2  STD Error  3.133713e-09  0.010785"
            ]
          },
          "metadata": {},
          "execution_count": 45
        }
      ],
      "source": [
        "# Using the slope_df() method to get metrics in pandas dataframe\n",
        "print(\"Cosine Metrics (with NumPy)\")\n",
        "cos.slope_df(df_numpy)"
      ]
    },
    {
      "cell_type": "markdown",
      "metadata": {
        "id": "z9ikXMLhIR7K"
      },
      "source": [
        "# **==== QUESTION 2 (REPORT) ====**"
      ]
    },
    {
      "cell_type": "markdown",
      "source": [
        "**Implementation of Jaccard's Similarity**\n",
        " \n",
        "Cosine similarity index measures cosines between angles of two vectors and is represented by the following notation **$cos\\theta=\\frac{A*B}{\\parallel A\\parallel*\\parallel A\\parallel}$**. In this respect, the data from both documents must be represented in an array which contains word counts. The cosine similarity algorithm is implemented by:\n",
        " \n",
        "1. Computing dot product of two documents using a for loop or np.dot().\n",
        "2. Computing **$(\\sum{words^{2}})^{0.5}$** for each document using a for loop and sum().\n",
        "3. Cosine similarity index **$=\\frac{dotproduct}{(\\sum{A^{2}})^{0.5}*(\\sum{B^{2}})^{0.5}}$**.\n",
        " \n",
        "**Experimentations and Analysis**\n",
        " \n",
        "Results collected  for original implementation [figure 2.1] and numpy implementation [figure 2.5] suggest that average runtime and similarity index increases along with word count. Respectively, figure 2.2 & 2.6 exhibits a significant increase in the average runtime until 10,000 words followed by a more modest but steady increase. On the other hand, figures 2.3 & 2.7 show that the slope is fairly steady for both implementations. Although both implementations behave similarly [figure 2.9], the variation between the average runtimes appears to grow with between original and numpy implementation as the word count increases [figure 2.8].\n",
        " \n",
        "**Estimation of Constants**\n",
        " \n",
        "If **$y=ax^{b}$**, then **$log(y) = log(x)b+log(a)$** where **$b$** is the slope and **$a$** is the intercept. Respectively, the slope is 0.52 and the intercept is -4.47 (**$intercept\\approx 4$**) and **$y\\approx x^{0.52}*10^{-4}$**) for the original implementation and the slope at 0.50 and the intercept at -4.59 (**$intercept\\approx 5$** and **$y\\approx x^{0.50}*10^{-5}$**) for the numpy implementation. This can be verified as $50000^{0.52}*10^{-4.47}=0.0094\\approx0.0086$ (original) and $50000^{0.50}*10^{-4.59}=0.0058\\approx0.0056$ (numpy) [figure 2.10] which is consistent with results in figures 2.1 & 2.5. In this respect, the worst case runtime can be denoted as **$O(n^{0.52})$** (original) and **$O(n^{0.50})$** (numpy) meaning that numpy computes the dot products more effectively in respect to runtimes (also illustrated in figures 2.8 and 2.9).\n",
        "\n"
      ],
      "metadata": {
        "id": "vZXyRCZFgSJ5"
      }
    },
    {
      "cell_type": "code",
      "source": [
        "# Numpy Implementation Estimate\n",
        "# Run code to get the estimated time for 50,000 word count \n",
        "# Estimates for the run time can then be compared actual results\n",
        "a = -4.59# Intercept \n",
        "b = 0.50# Slope\n",
        "x = 50000# Word Count\n",
        "y = 10**a * x**b # Y is the estimated runtime \n",
        "y"
      ],
      "metadata": {
        "colab": {
          "base_uri": "https://localhost:8080/"
        },
        "id": "TWCrhB4Io3oJ",
        "outputId": "90d978bb-f404-4a60-d7b4-f8d6a1a3be72"
      },
      "execution_count": null,
      "outputs": [
        {
          "output_type": "execute_result",
          "data": {
            "text/plain": [
              "0.005747579699349963"
            ]
          },
          "metadata": {},
          "execution_count": 39
        }
      ]
    },
    {
      "cell_type": "code",
      "source": [
        "# Original Implementation Estimate\n",
        "# Run code to get the estimated time for 50,000 word count \n",
        "# Estimates for the run time can then be compared actual results \n",
        "a = -4.47# Intercept \n",
        "b = 0.52# Slope\n",
        "x = 50000# Word Count\n",
        "y = 10**a * x**b # Y is the estimated runtime \n",
        "y"
      ],
      "metadata": {
        "colab": {
          "base_uri": "https://localhost:8080/"
        },
        "id": "PAtYonf6o3yJ",
        "outputId": "79c1af0a-380f-4556-90da-b0550ccb9321"
      },
      "execution_count": null,
      "outputs": [
        {
          "output_type": "execute_result",
          "data": {
            "text/plain": [
              "0.00940728718318248"
            ]
          },
          "metadata": {},
          "execution_count": 40
        }
      ]
    },
    {
      "cell_type": "markdown",
      "metadata": {
        "id": "_UfqbaN4IZzv"
      },
      "source": [
        "# **==========================**"
      ]
    },
    {
      "cell_type": "markdown",
      "metadata": {
        "id": "HxRRdwQYJAy_"
      },
      "source": [
        "# **Question 3 Class**"
      ]
    },
    {
      "cell_type": "code",
      "execution_count": null,
      "metadata": {
        "id": "vG4UUgm0JE-U"
      },
      "outputs": [],
      "source": [
        "class CosineSparse:\n",
        "\n",
        "  def __init__(self, cosine):\n",
        "    self.cosine = cosine # Cosine class\n",
        "    self.jaccard = self.cosine.jaccard # Jaccard class (which is already in the cosine class)\n",
        "    \n",
        "  # === The following 3 methods will be used from the jaccards class ===\n",
        "\n",
        "  # Returns a pandas data frame for displaying slope, intercept and standard deviation error both the actual data and the logs of given data\n",
        "  # Parameters: Pandas dataframe created using increacing_wordList() (it can be found below) \n",
        "  def slope_intercept_std(self, x, y):\n",
        "    return self.jaccard.slope_intercept_std(x, y)\n",
        "\n",
        "  # Returns the slope, intercept and standard deviation error for given dataset \n",
        "  # Parameters: x and y \n",
        "  def slope_df(self, df):\n",
        "    return self.jaccard.slope_df(df)\n",
        "\n",
        "  # Returns a list of word as bag of word (in a dictionary)\n",
        "  # Parameters: A list of words \n",
        "  def word_to_dict(self, word_list):\n",
        "    return self.jaccard.word_to_dict(word_list)\n",
        "\n",
        "  # Returns the dot products of two bag of words\n",
        "  # Parameters: Takes dictionaries representing bag of words \n",
        "  def find_dot_product(self, tok_a, tok_b):\n",
        "    # Adjusting matrix based on sizer\n",
        "    if len(tok_a) < len(tok_b):\n",
        "      A, B = tok_a, tok_b\n",
        "    else:\n",
        "      B, A = tok_a, tok_b\n",
        "    # Returning the dot product of the two\n",
        "    return sum([freq * B.get(word,0) for word, freq in A.items()])\n",
        "\n",
        "  # Returns the cosine similarity \n",
        "  # Parameters: Takes dictionaries representing bag of words \n",
        "  def cosine_sparse_simillarity(self, tok_a, tok_b):\n",
        "    # Returns cosine similarities from two dictionaries representing bag of words \n",
        "    return self.find_dot_product(tok_a, tok_b)/math.sqrt(self.find_dot_product(tok_a, tok_a)*self.find_dot_product(tok_b, tok_b))\n",
        "\n",
        "  # Returns results of runtimes cosine similarity algorithm against increacing size of words (sparse representation)\n",
        "  # Parameters: Maximum words (max_words) that will be used to test run time of algorithm\n",
        "  # Parameters: Plot length (plot_length) determines how many data points will be plotted\n",
        "  # Parameters: Epochs (epochs) is number of iterations that will be used to find the avergage runtime\n",
        "  def increacing_wordList(self, max_words, plot_length, epochs):\n",
        "    # Sorting the increace in word count (will be used in the for loop below)\n",
        "    range_min, range_max, range_diff = int(max_words/plot_length), int(max_words), int(max_words/plot_length)\n",
        "    # The gutenberg corpus \n",
        "    corpus = gutenberg.words()\n",
        "    # Empty list to gather our results\n",
        "    word_counts = []\n",
        "    average_times = []\n",
        "    simmilarities = []\n",
        "    for word_count in range(range_min, range_max+1, range_diff):\n",
        "      # Empty list to collect run average time (from total epochs) \n",
        "      times = []\n",
        "      tok_a = self.word_to_dict(corpus[:word_count])\n",
        "      tok_b = self.word_to_dict(corpus[word_count:word_count*2])\n",
        "      for i in range(epochs):\n",
        "        # Computing run times\n",
        "        start = time.time()\n",
        "        ans = self.cosine_sparse_simillarity(tok_a, tok_b)\n",
        "        run_time = time.time() - start\n",
        "        times.append(run_time)\n",
        "        if i == epochs-1:\n",
        "          # Appending average time, word count and similarity score\n",
        "          simmilarities.append(ans)\n",
        "          average_time = np.mean(times)\n",
        "          average_times.append(average_time)\n",
        "          word_counts.append(word_count)\n",
        "    # Finding logs of words count and average run times\n",
        "    log_word = [np.log10(w) for w in word_counts]\n",
        "    log_time = [np.log10(t) for t in average_times]\n",
        "    # Returning results in pandas dataframe \n",
        "    df = pd.DataFrame(data={\"similarity\":simmilarities, \"Word Count\": word_counts, \"Time\": average_times, \"Log Word Count\": log_word, \"Log Time\": log_time})\n",
        "    return df\n",
        "\n",
        "  # Computes worst case runtimes or for all 4 algorthms and returns a pandas dataframe with all results\n",
        "  # Parameters: Data type (data_type) a string to label which data to fetch from pandas data frame\n",
        "  # Parameters: Maximum words (max_words) that will be used to test run time of algorithm\n",
        "  # Parameters: Plot length (plot_length) determines how many data points will be plotted\n",
        "  # Parameters: Epochs (epochs) is number of iterations that will be used to find the avergage runtime\n",
        "  def compare_algorithms(self, max_words, plot_length, epochs, data_type):\n",
        "    # Creating 4 pandas data frame with results for all 4 algorithms \n",
        "    jaccard_df = self.jaccard.increacing_wordList(max_words, plot_length, epochs)\n",
        "    cosine_df, numpy_df = self.cosine.increacing_wordList(max_words, plot_length, epochs)\n",
        "    cosineSparse = self.increacing_wordList(max_words, plot_length, epochs)\n",
        "    # Returning a pandas data frame combining results from all 4 algorithms \n",
        "    my_data = {\"Word Count\": jaccard_df[\"Word Count\"], \"Log Word Count\": jaccard_df[\"Log Word Count\"], \"Jaccard Time\": \n",
        "          jaccard_df[data_type], \"Cosine Time\": cosine_df[data_type], \n",
        "          \"Cosine Numpy Time\": numpy_df[data_type] , \"Cosine Sparse\":cosineSparse[data_type]}\n",
        "    return pd.DataFrame(data = my_data)\n",
        "\n",
        "  # Returns metrics from data frame created by compare_algorithms() in pandas dataframe \n",
        "  def compare_slopes(self, data_frame, word_count):\n",
        "    # Creating list from pandas dataframe\n",
        "    jaccard = list(data_frame[\"Jaccard Time\"])\n",
        "    cosine = list(data_frame[\"Cosine Time\"])\n",
        "    cosine_numpy = list(data_frame[\"Cosine Numpy Time\"])\n",
        "    cosine_sparse = list(data_frame[\"Cosine Sparse\"])\n",
        "    # Computing metrics from list created above\n",
        "    slope_jaccard, intercept_jaccard, std_error_jaccard = self.slope_intercept_std(word_count, jaccard)\n",
        "    slope_cosine, intercept_cosine, std_error_cosine = self.slope_intercept_std(word_count, cosine)\n",
        "    slope_cosine_numpy, intercept_cosine_numpy, std_error_cosine_numpy = self.slope_intercept_std(word_count, cosine_numpy)\n",
        "    slope_cosine_sparse, intercept_cosine_sparse, std_error_cosine_sparse = self.slope_intercept_std(word_count, cosine_sparse)\n",
        "    # Adjusting data for pandas datadframe \n",
        "    jaccard_data = [slope_jaccard, intercept_jaccard, std_error_jaccard]\n",
        "    cosine_data = [slope_cosine, intercept_cosine, std_error_cosine]\n",
        "    cosine_numpy_data = [slope_cosine_numpy, intercept_cosine_numpy, std_error_cosine_numpy]\n",
        "    cosine_sparse_data = [slope_cosine_sparse, intercept_cosine_sparse, std_error_cosine_sparse]\n",
        "    labels = [\"Slope\", \"Intercept\", \"STD Error\"]\n",
        "    # Returning all metrics in pandas dataframe \n",
        "    df = pd.DataFrame(data = {\"label\": labels, \"Jaccard\": jaccard_data, \"Cosine\": cosine_data, \"Cosine Numpy\": cosine_numpy_data, \"Cosine Sparse\": cosine_sparse_data})\n",
        "    return df\n",
        "\n",
        "# Initializing Cosine Sparse Class\n",
        "CosSparse = CosineSparse(cos)\n"
      ]
    },
    {
      "cell_type": "markdown",
      "metadata": {
        "id": "gpOqrUpHMLzk"
      },
      "source": [
        "# **Figures 3.1 - 3.3:** Analysis of Cosine Simmilarity Algorithm in Sparse Representation"
      ]
    },
    {
      "cell_type": "code",
      "execution_count": null,
      "metadata": {
        "id": "MsrkfCKZlHSg"
      },
      "outputs": [],
      "source": [
        "# Setup \n",
        "max_words = 50000\n",
        "plot_length = 50\n",
        "epochs = 10 \n"
      ]
    },
    {
      "cell_type": "markdown",
      "metadata": {
        "id": "wa3JXSuzlHSg"
      },
      "source": [
        "**Pandas Dataframe**"
      ]
    },
    {
      "cell_type": "markdown",
      "metadata": {
        "id": "aW8InmtQMUzb"
      },
      "source": [
        "***Figure 3.1:*** In this table the run time of cosine similarity (in sparse representation) is calculated with increacing word counts ranging from 1,000 words to 50,000 words"
      ]
    },
    {
      "cell_type": "code",
      "execution_count": null,
      "metadata": {
        "colab": {
          "base_uri": "https://localhost:8080/",
          "height": 1000
        },
        "id": "lKL8FhF7Mj-Z",
        "outputId": "47a7d2ca-10ba-4e9b-f90e-92601d2dc229"
      },
      "outputs": [
        {
          "output_type": "execute_result",
          "data": {
            "text/html": [
              "<div>\n",
              "<style scoped>\n",
              "    .dataframe tbody tr th:only-of-type {\n",
              "        vertical-align: middle;\n",
              "    }\n",
              "\n",
              "    .dataframe tbody tr th {\n",
              "        vertical-align: top;\n",
              "    }\n",
              "\n",
              "    .dataframe thead th {\n",
              "        text-align: right;\n",
              "    }\n",
              "</style>\n",
              "<table border=\"1\" class=\"dataframe\">\n",
              "  <thead>\n",
              "    <tr style=\"text-align: right;\">\n",
              "      <th></th>\n",
              "      <th>similarity</th>\n",
              "      <th>Word Count</th>\n",
              "      <th>Time</th>\n",
              "      <th>Log Word Count</th>\n",
              "      <th>Log Time</th>\n",
              "    </tr>\n",
              "  </thead>\n",
              "  <tbody>\n",
              "    <tr>\n",
              "      <th>0</th>\n",
              "      <td>0.870456</td>\n",
              "      <td>1000</td>\n",
              "      <td>0.000227</td>\n",
              "      <td>3.000000</td>\n",
              "      <td>-3.644297</td>\n",
              "    </tr>\n",
              "    <tr>\n",
              "      <th>1</th>\n",
              "      <td>0.873228</td>\n",
              "      <td>2000</td>\n",
              "      <td>0.000298</td>\n",
              "      <td>3.301030</td>\n",
              "      <td>-3.525680</td>\n",
              "    </tr>\n",
              "    <tr>\n",
              "      <th>2</th>\n",
              "      <td>0.947996</td>\n",
              "      <td>3000</td>\n",
              "      <td>0.000393</td>\n",
              "      <td>3.477121</td>\n",
              "      <td>-3.405782</td>\n",
              "    </tr>\n",
              "    <tr>\n",
              "      <th>3</th>\n",
              "      <td>0.929282</td>\n",
              "      <td>4000</td>\n",
              "      <td>0.000493</td>\n",
              "      <td>3.602060</td>\n",
              "      <td>-3.306794</td>\n",
              "    </tr>\n",
              "    <tr>\n",
              "      <th>4</th>\n",
              "      <td>0.962668</td>\n",
              "      <td>5000</td>\n",
              "      <td>0.000572</td>\n",
              "      <td>3.698970</td>\n",
              "      <td>-3.242974</td>\n",
              "    </tr>\n",
              "    <tr>\n",
              "      <th>5</th>\n",
              "      <td>0.976660</td>\n",
              "      <td>6000</td>\n",
              "      <td>0.000684</td>\n",
              "      <td>3.778151</td>\n",
              "      <td>-3.164914</td>\n",
              "    </tr>\n",
              "    <tr>\n",
              "      <th>6</th>\n",
              "      <td>0.970721</td>\n",
              "      <td>7000</td>\n",
              "      <td>0.000720</td>\n",
              "      <td>3.845098</td>\n",
              "      <td>-3.142926</td>\n",
              "    </tr>\n",
              "    <tr>\n",
              "      <th>7</th>\n",
              "      <td>0.958788</td>\n",
              "      <td>8000</td>\n",
              "      <td>0.000746</td>\n",
              "      <td>3.903090</td>\n",
              "      <td>-3.127199</td>\n",
              "    </tr>\n",
              "    <tr>\n",
              "      <th>8</th>\n",
              "      <td>0.957799</td>\n",
              "      <td>9000</td>\n",
              "      <td>0.000787</td>\n",
              "      <td>3.954243</td>\n",
              "      <td>-3.103791</td>\n",
              "    </tr>\n",
              "    <tr>\n",
              "      <th>9</th>\n",
              "      <td>0.953885</td>\n",
              "      <td>10000</td>\n",
              "      <td>0.000834</td>\n",
              "      <td>4.000000</td>\n",
              "      <td>-3.078902</td>\n",
              "    </tr>\n",
              "    <tr>\n",
              "      <th>10</th>\n",
              "      <td>0.957316</td>\n",
              "      <td>11000</td>\n",
              "      <td>0.000994</td>\n",
              "      <td>4.041393</td>\n",
              "      <td>-3.002503</td>\n",
              "    </tr>\n",
              "    <tr>\n",
              "      <th>11</th>\n",
              "      <td>0.965487</td>\n",
              "      <td>12000</td>\n",
              "      <td>0.000978</td>\n",
              "      <td>4.079181</td>\n",
              "      <td>-3.009675</td>\n",
              "    </tr>\n",
              "    <tr>\n",
              "      <th>12</th>\n",
              "      <td>0.972614</td>\n",
              "      <td>13000</td>\n",
              "      <td>0.000969</td>\n",
              "      <td>4.113943</td>\n",
              "      <td>-3.013653</td>\n",
              "    </tr>\n",
              "    <tr>\n",
              "      <th>13</th>\n",
              "      <td>0.982520</td>\n",
              "      <td>14000</td>\n",
              "      <td>0.001039</td>\n",
              "      <td>4.146128</td>\n",
              "      <td>-2.983353</td>\n",
              "    </tr>\n",
              "    <tr>\n",
              "      <th>14</th>\n",
              "      <td>0.982036</td>\n",
              "      <td>15000</td>\n",
              "      <td>0.001128</td>\n",
              "      <td>4.176091</td>\n",
              "      <td>-2.947689</td>\n",
              "    </tr>\n",
              "    <tr>\n",
              "      <th>15</th>\n",
              "      <td>0.982596</td>\n",
              "      <td>16000</td>\n",
              "      <td>0.001136</td>\n",
              "      <td>4.204120</td>\n",
              "      <td>-2.944551</td>\n",
              "    </tr>\n",
              "    <tr>\n",
              "      <th>16</th>\n",
              "      <td>0.980401</td>\n",
              "      <td>17000</td>\n",
              "      <td>0.001388</td>\n",
              "      <td>4.230449</td>\n",
              "      <td>-2.857476</td>\n",
              "    </tr>\n",
              "    <tr>\n",
              "      <th>17</th>\n",
              "      <td>0.984672</td>\n",
              "      <td>18000</td>\n",
              "      <td>0.001255</td>\n",
              "      <td>4.255273</td>\n",
              "      <td>-2.901402</td>\n",
              "    </tr>\n",
              "    <tr>\n",
              "      <th>18</th>\n",
              "      <td>0.986850</td>\n",
              "      <td>19000</td>\n",
              "      <td>0.001293</td>\n",
              "      <td>4.278754</td>\n",
              "      <td>-2.888436</td>\n",
              "    </tr>\n",
              "    <tr>\n",
              "      <th>19</th>\n",
              "      <td>0.988780</td>\n",
              "      <td>20000</td>\n",
              "      <td>0.001324</td>\n",
              "      <td>4.301030</td>\n",
              "      <td>-2.878070</td>\n",
              "    </tr>\n",
              "    <tr>\n",
              "      <th>20</th>\n",
              "      <td>0.989921</td>\n",
              "      <td>21000</td>\n",
              "      <td>0.001403</td>\n",
              "      <td>4.322219</td>\n",
              "      <td>-2.853032</td>\n",
              "    </tr>\n",
              "    <tr>\n",
              "      <th>21</th>\n",
              "      <td>0.990748</td>\n",
              "      <td>22000</td>\n",
              "      <td>0.001459</td>\n",
              "      <td>4.342423</td>\n",
              "      <td>-2.836029</td>\n",
              "    </tr>\n",
              "    <tr>\n",
              "      <th>22</th>\n",
              "      <td>0.992030</td>\n",
              "      <td>23000</td>\n",
              "      <td>0.001448</td>\n",
              "      <td>4.361728</td>\n",
              "      <td>-2.839128</td>\n",
              "    </tr>\n",
              "    <tr>\n",
              "      <th>23</th>\n",
              "      <td>0.991327</td>\n",
              "      <td>24000</td>\n",
              "      <td>0.001457</td>\n",
              "      <td>4.380211</td>\n",
              "      <td>-2.836398</td>\n",
              "    </tr>\n",
              "    <tr>\n",
              "      <th>24</th>\n",
              "      <td>0.990237</td>\n",
              "      <td>25000</td>\n",
              "      <td>0.001510</td>\n",
              "      <td>4.397940</td>\n",
              "      <td>-2.820996</td>\n",
              "    </tr>\n",
              "    <tr>\n",
              "      <th>25</th>\n",
              "      <td>0.989924</td>\n",
              "      <td>26000</td>\n",
              "      <td>0.002480</td>\n",
              "      <td>4.414973</td>\n",
              "      <td>-2.605539</td>\n",
              "    </tr>\n",
              "    <tr>\n",
              "      <th>26</th>\n",
              "      <td>0.991145</td>\n",
              "      <td>27000</td>\n",
              "      <td>0.001542</td>\n",
              "      <td>4.431364</td>\n",
              "      <td>-2.811863</td>\n",
              "    </tr>\n",
              "    <tr>\n",
              "      <th>27</th>\n",
              "      <td>0.991520</td>\n",
              "      <td>28000</td>\n",
              "      <td>0.001736</td>\n",
              "      <td>4.447158</td>\n",
              "      <td>-2.760570</td>\n",
              "    </tr>\n",
              "    <tr>\n",
              "      <th>28</th>\n",
              "      <td>0.991268</td>\n",
              "      <td>29000</td>\n",
              "      <td>0.001600</td>\n",
              "      <td>4.462398</td>\n",
              "      <td>-2.795911</td>\n",
              "    </tr>\n",
              "    <tr>\n",
              "      <th>29</th>\n",
              "      <td>0.991127</td>\n",
              "      <td>30000</td>\n",
              "      <td>0.001895</td>\n",
              "      <td>4.477121</td>\n",
              "      <td>-2.722364</td>\n",
              "    </tr>\n",
              "    <tr>\n",
              "      <th>30</th>\n",
              "      <td>0.991134</td>\n",
              "      <td>31000</td>\n",
              "      <td>0.001695</td>\n",
              "      <td>4.491362</td>\n",
              "      <td>-2.770937</td>\n",
              "    </tr>\n",
              "    <tr>\n",
              "      <th>31</th>\n",
              "      <td>0.990762</td>\n",
              "      <td>32000</td>\n",
              "      <td>0.001722</td>\n",
              "      <td>4.505150</td>\n",
              "      <td>-2.763852</td>\n",
              "    </tr>\n",
              "    <tr>\n",
              "      <th>32</th>\n",
              "      <td>0.990771</td>\n",
              "      <td>33000</td>\n",
              "      <td>0.001729</td>\n",
              "      <td>4.518514</td>\n",
              "      <td>-2.762196</td>\n",
              "    </tr>\n",
              "    <tr>\n",
              "      <th>33</th>\n",
              "      <td>0.992445</td>\n",
              "      <td>34000</td>\n",
              "      <td>0.001786</td>\n",
              "      <td>4.531479</td>\n",
              "      <td>-2.748166</td>\n",
              "    </tr>\n",
              "    <tr>\n",
              "      <th>34</th>\n",
              "      <td>0.993016</td>\n",
              "      <td>35000</td>\n",
              "      <td>0.001879</td>\n",
              "      <td>4.544068</td>\n",
              "      <td>-2.726062</td>\n",
              "    </tr>\n",
              "    <tr>\n",
              "      <th>35</th>\n",
              "      <td>0.992832</td>\n",
              "      <td>36000</td>\n",
              "      <td>0.001834</td>\n",
              "      <td>4.556303</td>\n",
              "      <td>-2.736671</td>\n",
              "    </tr>\n",
              "    <tr>\n",
              "      <th>36</th>\n",
              "      <td>0.992385</td>\n",
              "      <td>37000</td>\n",
              "      <td>0.001848</td>\n",
              "      <td>4.568202</td>\n",
              "      <td>-2.733302</td>\n",
              "    </tr>\n",
              "    <tr>\n",
              "      <th>37</th>\n",
              "      <td>0.992394</td>\n",
              "      <td>38000</td>\n",
              "      <td>0.001918</td>\n",
              "      <td>4.579784</td>\n",
              "      <td>-2.717247</td>\n",
              "    </tr>\n",
              "    <tr>\n",
              "      <th>38</th>\n",
              "      <td>0.992308</td>\n",
              "      <td>39000</td>\n",
              "      <td>0.001978</td>\n",
              "      <td>4.591065</td>\n",
              "      <td>-2.703849</td>\n",
              "    </tr>\n",
              "    <tr>\n",
              "      <th>39</th>\n",
              "      <td>0.991367</td>\n",
              "      <td>40000</td>\n",
              "      <td>0.002000</td>\n",
              "      <td>4.602060</td>\n",
              "      <td>-2.698986</td>\n",
              "    </tr>\n",
              "    <tr>\n",
              "      <th>40</th>\n",
              "      <td>0.991392</td>\n",
              "      <td>41000</td>\n",
              "      <td>0.002068</td>\n",
              "      <td>4.612784</td>\n",
              "      <td>-2.684511</td>\n",
              "    </tr>\n",
              "    <tr>\n",
              "      <th>41</th>\n",
              "      <td>0.991376</td>\n",
              "      <td>42000</td>\n",
              "      <td>0.002066</td>\n",
              "      <td>4.623249</td>\n",
              "      <td>-2.684916</td>\n",
              "    </tr>\n",
              "    <tr>\n",
              "      <th>42</th>\n",
              "      <td>0.991575</td>\n",
              "      <td>43000</td>\n",
              "      <td>0.002774</td>\n",
              "      <td>4.633468</td>\n",
              "      <td>-2.556897</td>\n",
              "    </tr>\n",
              "    <tr>\n",
              "      <th>43</th>\n",
              "      <td>0.992125</td>\n",
              "      <td>44000</td>\n",
              "      <td>0.002467</td>\n",
              "      <td>4.643453</td>\n",
              "      <td>-2.607749</td>\n",
              "    </tr>\n",
              "    <tr>\n",
              "      <th>44</th>\n",
              "      <td>0.991599</td>\n",
              "      <td>45000</td>\n",
              "      <td>0.002099</td>\n",
              "      <td>4.653213</td>\n",
              "      <td>-2.678059</td>\n",
              "    </tr>\n",
              "    <tr>\n",
              "      <th>45</th>\n",
              "      <td>0.992539</td>\n",
              "      <td>46000</td>\n",
              "      <td>0.002219</td>\n",
              "      <td>4.662758</td>\n",
              "      <td>-2.653818</td>\n",
              "    </tr>\n",
              "    <tr>\n",
              "      <th>46</th>\n",
              "      <td>0.992880</td>\n",
              "      <td>47000</td>\n",
              "      <td>0.002629</td>\n",
              "      <td>4.672098</td>\n",
              "      <td>-2.580183</td>\n",
              "    </tr>\n",
              "    <tr>\n",
              "      <th>47</th>\n",
              "      <td>0.992935</td>\n",
              "      <td>48000</td>\n",
              "      <td>0.002179</td>\n",
              "      <td>4.681241</td>\n",
              "      <td>-2.661766</td>\n",
              "    </tr>\n",
              "    <tr>\n",
              "      <th>48</th>\n",
              "      <td>0.993297</td>\n",
              "      <td>49000</td>\n",
              "      <td>0.002183</td>\n",
              "      <td>4.690196</td>\n",
              "      <td>-2.660873</td>\n",
              "    </tr>\n",
              "    <tr>\n",
              "      <th>49</th>\n",
              "      <td>0.993755</td>\n",
              "      <td>50000</td>\n",
              "      <td>0.002224</td>\n",
              "      <td>4.698970</td>\n",
              "      <td>-2.652946</td>\n",
              "    </tr>\n",
              "  </tbody>\n",
              "</table>\n",
              "</div>"
            ],
            "text/plain": [
              "    similarity  Word Count      Time  Log Word Count  Log Time\n",
              "0     0.870456        1000  0.000227        3.000000 -3.644297\n",
              "1     0.873228        2000  0.000298        3.301030 -3.525680\n",
              "2     0.947996        3000  0.000393        3.477121 -3.405782\n",
              "3     0.929282        4000  0.000493        3.602060 -3.306794\n",
              "4     0.962668        5000  0.000572        3.698970 -3.242974\n",
              "5     0.976660        6000  0.000684        3.778151 -3.164914\n",
              "6     0.970721        7000  0.000720        3.845098 -3.142926\n",
              "7     0.958788        8000  0.000746        3.903090 -3.127199\n",
              "8     0.957799        9000  0.000787        3.954243 -3.103791\n",
              "9     0.953885       10000  0.000834        4.000000 -3.078902\n",
              "10    0.957316       11000  0.000994        4.041393 -3.002503\n",
              "11    0.965487       12000  0.000978        4.079181 -3.009675\n",
              "12    0.972614       13000  0.000969        4.113943 -3.013653\n",
              "13    0.982520       14000  0.001039        4.146128 -2.983353\n",
              "14    0.982036       15000  0.001128        4.176091 -2.947689\n",
              "15    0.982596       16000  0.001136        4.204120 -2.944551\n",
              "16    0.980401       17000  0.001388        4.230449 -2.857476\n",
              "17    0.984672       18000  0.001255        4.255273 -2.901402\n",
              "18    0.986850       19000  0.001293        4.278754 -2.888436\n",
              "19    0.988780       20000  0.001324        4.301030 -2.878070\n",
              "20    0.989921       21000  0.001403        4.322219 -2.853032\n",
              "21    0.990748       22000  0.001459        4.342423 -2.836029\n",
              "22    0.992030       23000  0.001448        4.361728 -2.839128\n",
              "23    0.991327       24000  0.001457        4.380211 -2.836398\n",
              "24    0.990237       25000  0.001510        4.397940 -2.820996\n",
              "25    0.989924       26000  0.002480        4.414973 -2.605539\n",
              "26    0.991145       27000  0.001542        4.431364 -2.811863\n",
              "27    0.991520       28000  0.001736        4.447158 -2.760570\n",
              "28    0.991268       29000  0.001600        4.462398 -2.795911\n",
              "29    0.991127       30000  0.001895        4.477121 -2.722364\n",
              "30    0.991134       31000  0.001695        4.491362 -2.770937\n",
              "31    0.990762       32000  0.001722        4.505150 -2.763852\n",
              "32    0.990771       33000  0.001729        4.518514 -2.762196\n",
              "33    0.992445       34000  0.001786        4.531479 -2.748166\n",
              "34    0.993016       35000  0.001879        4.544068 -2.726062\n",
              "35    0.992832       36000  0.001834        4.556303 -2.736671\n",
              "36    0.992385       37000  0.001848        4.568202 -2.733302\n",
              "37    0.992394       38000  0.001918        4.579784 -2.717247\n",
              "38    0.992308       39000  0.001978        4.591065 -2.703849\n",
              "39    0.991367       40000  0.002000        4.602060 -2.698986\n",
              "40    0.991392       41000  0.002068        4.612784 -2.684511\n",
              "41    0.991376       42000  0.002066        4.623249 -2.684916\n",
              "42    0.991575       43000  0.002774        4.633468 -2.556897\n",
              "43    0.992125       44000  0.002467        4.643453 -2.607749\n",
              "44    0.991599       45000  0.002099        4.653213 -2.678059\n",
              "45    0.992539       46000  0.002219        4.662758 -2.653818\n",
              "46    0.992880       47000  0.002629        4.672098 -2.580183\n",
              "47    0.992935       48000  0.002179        4.681241 -2.661766\n",
              "48    0.993297       49000  0.002183        4.690196 -2.660873\n",
              "49    0.993755       50000  0.002224        4.698970 -2.652946"
            ]
          },
          "metadata": {},
          "execution_count": 48
        }
      ],
      "source": [
        "# Display dataframe\n",
        "df_increacing = CosSparse.increacing_wordList(max_words, plot_length, epochs)\n",
        "df_increacing"
      ]
    },
    {
      "cell_type": "markdown",
      "metadata": {
        "id": "DN5ZhGZllHSn"
      },
      "source": [
        "**Analysis of Runtime**"
      ]
    },
    {
      "cell_type": "markdown",
      "metadata": {
        "id": "7nOGaWY8Ma-G"
      },
      "source": [
        "***Figure 3.2:*** Plot illustrates the worst case run time of cosine similarity (in sparse representation) with the size of words increacing from 1000 - 50,000 "
      ]
    },
    {
      "cell_type": "code",
      "execution_count": null,
      "metadata": {
        "colab": {
          "base_uri": "https://localhost:8080/",
          "height": 312
        },
        "id": "TzpvlqwJM4n6",
        "outputId": "1e87d1e0-f130-453f-e09e-83ca865644dc"
      },
      "outputs": [
        {
          "output_type": "execute_result",
          "data": {
            "text/plain": [
              "<matplotlib.axes._subplots.AxesSubplot at 0x7f6f62ddd9d0>"
            ]
          },
          "metadata": {},
          "execution_count": 49
        },
        {
          "output_type": "display_data",
          "data": {
            "image/png": "[encoded data removed]",
            "text/plain": [
              "<Figure size 432x288 with 1 Axes>"
            ]
          },
          "metadata": {
            "needs_background": "light"
          }
        }
      ],
      "source": [
        "# Using pandas to plot from data frame\n",
        "title_ = \"Run Time of Increacing Word Count\"\n",
        "df_increacing.plot(x=\"Word Count\", y=\"Time\", title=title_)"
      ]
    },
    {
      "cell_type": "markdown",
      "metadata": {
        "id": "oEDLU-ELMdWv"
      },
      "source": [
        "***Figure 3.3:***  Scatter plot illustrates the worst case run time of cosine similarity (in sparse representation) with the size of words increacing from 1000 - 50,000 (run time and size of words are represented in logs)"
      ]
    },
    {
      "cell_type": "code",
      "execution_count": null,
      "metadata": {
        "colab": {
          "base_uri": "https://localhost:8080/",
          "height": 312
        },
        "id": "t80Va244M_Gs",
        "outputId": "19174b4a-e91a-45ab-e610-0422494403d8"
      },
      "outputs": [
        {
          "output_type": "execute_result",
          "data": {
            "text/plain": [
              "<matplotlib.axes._subplots.AxesSubplot at 0x7f6f62e5dc90>"
            ]
          },
          "metadata": {},
          "execution_count": 50
        },
        {
          "output_type": "display_data",
          "data": {
            "image/png": "[encoded data removed]",
            "text/plain": [
              "<Figure size 432x288 with 1 Axes>"
            ]
          },
          "metadata": {
            "needs_background": "light"
          }
        }
      ],
      "source": [
        "# Using pandas to scatter plot from data frame\n",
        "title_ = \"Run Time of Increacing Word Count\"\n",
        "df_increacing.plot.scatter(x=\"Log Word Count\", y=\"Log Time\", title=title_)\n"
      ]
    },
    {
      "cell_type": "code",
      "source": [
        "CosSparse.slope_df(df_increacing)"
      ],
      "metadata": {
        "colab": {
          "base_uri": "https://localhost:8080/",
          "height": 143
        },
        "id": "WzuZwcZTwH0a",
        "outputId": "940fc4a2-12c6-4ad1-9def-07fda5a583f9"
      },
      "execution_count": null,
      "outputs": [
        {
          "output_type": "execute_result",
          "data": {
            "text/html": [
              "<div>\n",
              "<style scoped>\n",
              "    .dataframe tbody tr th:only-of-type {\n",
              "        vertical-align: middle;\n",
              "    }\n",
              "\n",
              "    .dataframe tbody tr th {\n",
              "        vertical-align: top;\n",
              "    }\n",
              "\n",
              "    .dataframe thead th {\n",
              "        text-align: right;\n",
              "    }\n",
              "</style>\n",
              "<table border=\"1\" class=\"dataframe\">\n",
              "  <thead>\n",
              "    <tr style=\"text-align: right;\">\n",
              "      <th></th>\n",
              "      <th>Metric</th>\n",
              "      <th>Actual Data</th>\n",
              "      <th>Log Data</th>\n",
              "    </tr>\n",
              "  </thead>\n",
              "  <tbody>\n",
              "    <tr>\n",
              "      <th>0</th>\n",
              "      <td>Slope</td>\n",
              "      <td>4.112741e-08</td>\n",
              "      <td>0.620986</td>\n",
              "    </tr>\n",
              "    <tr>\n",
              "      <th>1</th>\n",
              "      <td>Intercept</td>\n",
              "      <td>4.529338e-04</td>\n",
              "      <td>-5.540516</td>\n",
              "    </tr>\n",
              "    <tr>\n",
              "      <th>2</th>\n",
              "      <td>STD Error</td>\n",
              "      <td>2.021150e-09</td>\n",
              "      <td>0.014797</td>\n",
              "    </tr>\n",
              "  </tbody>\n",
              "</table>\n",
              "</div>"
            ],
            "text/plain": [
              "      Metric   Actual Data  Log Data\n",
              "0      Slope  4.112741e-08  0.620986\n",
              "1  Intercept  4.529338e-04 -5.540516\n",
              "2  STD Error  2.021150e-09  0.014797"
            ]
          },
          "metadata": {},
          "execution_count": 51
        }
      ]
    },
    {
      "cell_type": "markdown",
      "metadata": {
        "id": "uUsY5KCGNFuw"
      },
      "source": [
        "# **Figures: 3.4 - 3.7:** Comparison of Jaccard and Cosine Algorithms"
      ]
    },
    {
      "cell_type": "markdown",
      "metadata": {
        "id": "87gnI2_clHSq"
      },
      "source": [
        "**Pandas Dataframe**"
      ]
    },
    {
      "cell_type": "code",
      "execution_count": null,
      "metadata": {
        "id": "5L9q1L3hSDqT"
      },
      "outputs": [],
      "source": [
        "# Setup \n",
        "df_ = CosSparse.compare_algorithms(max_words, plot_length, epochs, \"Time\")\n",
        "df_log = CosSparse.compare_algorithms(max_words, plot_length, epochs, \"Log Time\")\n",
        "df_sim = CosSparse.compare_algorithms(max_words, plot_length, epochs, \"similarity\")"
      ]
    },
    {
      "cell_type": "markdown",
      "metadata": {
        "id": "k_rIIPfFMfbH"
      },
      "source": [
        "***Figure 3.4:*** In this table the run times of jaccards and cosine similarity algorithms are calculated with increacing word counts ranging from 1,000 words to 50,000 words."
      ]
    },
    {
      "cell_type": "code",
      "execution_count": null,
      "metadata": {
        "colab": {
          "base_uri": "https://localhost:8080/",
          "height": 1000
        },
        "id": "IVwOPiHLR_AX",
        "outputId": "f9d68ae1-33f1-444f-ba60-2ab2bd8dc1c6"
      },
      "outputs": [
        {
          "output_type": "execute_result",
          "data": {
            "text/html": [
              "<div>\n",
              "<style scoped>\n",
              "    .dataframe tbody tr th:only-of-type {\n",
              "        vertical-align: middle;\n",
              "    }\n",
              "\n",
              "    .dataframe tbody tr th {\n",
              "        vertical-align: top;\n",
              "    }\n",
              "\n",
              "    .dataframe thead th {\n",
              "        text-align: right;\n",
              "    }\n",
              "</style>\n",
              "<table border=\"1\" class=\"dataframe\">\n",
              "  <thead>\n",
              "    <tr style=\"text-align: right;\">\n",
              "      <th></th>\n",
              "      <th>Word Count</th>\n",
              "      <th>Log Word Count</th>\n",
              "      <th>Jaccard Time</th>\n",
              "      <th>Cosine Time</th>\n",
              "      <th>Cosine Numpy Time</th>\n",
              "      <th>Cosine Sparse</th>\n",
              "    </tr>\n",
              "  </thead>\n",
              "  <tbody>\n",
              "    <tr>\n",
              "      <th>0</th>\n",
              "      <td>1000</td>\n",
              "      <td>3.000000</td>\n",
              "      <td>0.000182</td>\n",
              "      <td>0.000971</td>\n",
              "      <td>0.000670</td>\n",
              "      <td>0.000191</td>\n",
              "    </tr>\n",
              "    <tr>\n",
              "      <th>1</th>\n",
              "      <td>2000</td>\n",
              "      <td>3.301030</td>\n",
              "      <td>0.000186</td>\n",
              "      <td>0.001525</td>\n",
              "      <td>0.000977</td>\n",
              "      <td>0.000299</td>\n",
              "    </tr>\n",
              "    <tr>\n",
              "      <th>2</th>\n",
              "      <td>3000</td>\n",
              "      <td>3.477121</td>\n",
              "      <td>0.000244</td>\n",
              "      <td>0.001865</td>\n",
              "      <td>0.001219</td>\n",
              "      <td>0.000389</td>\n",
              "    </tr>\n",
              "    <tr>\n",
              "      <th>3</th>\n",
              "      <td>4000</td>\n",
              "      <td>3.602060</td>\n",
              "      <td>0.000288</td>\n",
              "      <td>0.002323</td>\n",
              "      <td>0.001535</td>\n",
              "      <td>0.000484</td>\n",
              "    </tr>\n",
              "    <tr>\n",
              "      <th>4</th>\n",
              "      <td>5000</td>\n",
              "      <td>3.698970</td>\n",
              "      <td>0.000338</td>\n",
              "      <td>0.002629</td>\n",
              "      <td>0.001757</td>\n",
              "      <td>0.000565</td>\n",
              "    </tr>\n",
              "    <tr>\n",
              "      <th>5</th>\n",
              "      <td>6000</td>\n",
              "      <td>3.778151</td>\n",
              "      <td>0.000390</td>\n",
              "      <td>0.003210</td>\n",
              "      <td>0.002451</td>\n",
              "      <td>0.000629</td>\n",
              "    </tr>\n",
              "    <tr>\n",
              "      <th>6</th>\n",
              "      <td>7000</td>\n",
              "      <td>3.845098</td>\n",
              "      <td>0.000424</td>\n",
              "      <td>0.003197</td>\n",
              "      <td>0.002152</td>\n",
              "      <td>0.001250</td>\n",
              "    </tr>\n",
              "    <tr>\n",
              "      <th>7</th>\n",
              "      <td>8000</td>\n",
              "      <td>3.903090</td>\n",
              "      <td>0.000507</td>\n",
              "      <td>0.003388</td>\n",
              "      <td>0.002249</td>\n",
              "      <td>0.000744</td>\n",
              "    </tr>\n",
              "    <tr>\n",
              "      <th>8</th>\n",
              "      <td>9000</td>\n",
              "      <td>3.954243</td>\n",
              "      <td>0.000560</td>\n",
              "      <td>0.003669</td>\n",
              "      <td>0.002448</td>\n",
              "      <td>0.000833</td>\n",
              "    </tr>\n",
              "    <tr>\n",
              "      <th>9</th>\n",
              "      <td>10000</td>\n",
              "      <td>4.000000</td>\n",
              "      <td>0.000632</td>\n",
              "      <td>0.004178</td>\n",
              "      <td>0.002965</td>\n",
              "      <td>0.000844</td>\n",
              "    </tr>\n",
              "    <tr>\n",
              "      <th>10</th>\n",
              "      <td>11000</td>\n",
              "      <td>4.041393</td>\n",
              "      <td>0.000564</td>\n",
              "      <td>0.004045</td>\n",
              "      <td>0.002777</td>\n",
              "      <td>0.000890</td>\n",
              "    </tr>\n",
              "    <tr>\n",
              "      <th>11</th>\n",
              "      <td>12000</td>\n",
              "      <td>4.079181</td>\n",
              "      <td>0.000611</td>\n",
              "      <td>0.004216</td>\n",
              "      <td>0.002778</td>\n",
              "      <td>0.000942</td>\n",
              "    </tr>\n",
              "    <tr>\n",
              "      <th>12</th>\n",
              "      <td>13000</td>\n",
              "      <td>4.113943</td>\n",
              "      <td>0.000642</td>\n",
              "      <td>0.004785</td>\n",
              "      <td>0.002930</td>\n",
              "      <td>0.000991</td>\n",
              "    </tr>\n",
              "    <tr>\n",
              "      <th>13</th>\n",
              "      <td>14000</td>\n",
              "      <td>4.146128</td>\n",
              "      <td>0.000671</td>\n",
              "      <td>0.004609</td>\n",
              "      <td>0.003051</td>\n",
              "      <td>0.001049</td>\n",
              "    </tr>\n",
              "    <tr>\n",
              "      <th>14</th>\n",
              "      <td>15000</td>\n",
              "      <td>4.176091</td>\n",
              "      <td>0.000716</td>\n",
              "      <td>0.004765</td>\n",
              "      <td>0.003147</td>\n",
              "      <td>0.001096</td>\n",
              "    </tr>\n",
              "    <tr>\n",
              "      <th>15</th>\n",
              "      <td>16000</td>\n",
              "      <td>4.204120</td>\n",
              "      <td>0.000755</td>\n",
              "      <td>0.004994</td>\n",
              "      <td>0.003265</td>\n",
              "      <td>0.001140</td>\n",
              "    </tr>\n",
              "    <tr>\n",
              "      <th>16</th>\n",
              "      <td>17000</td>\n",
              "      <td>4.230449</td>\n",
              "      <td>0.000851</td>\n",
              "      <td>0.005163</td>\n",
              "      <td>0.003389</td>\n",
              "      <td>0.001198</td>\n",
              "    </tr>\n",
              "    <tr>\n",
              "      <th>17</th>\n",
              "      <td>18000</td>\n",
              "      <td>4.255273</td>\n",
              "      <td>0.000805</td>\n",
              "      <td>0.005303</td>\n",
              "      <td>0.003876</td>\n",
              "      <td>0.001251</td>\n",
              "    </tr>\n",
              "    <tr>\n",
              "      <th>18</th>\n",
              "      <td>19000</td>\n",
              "      <td>4.278754</td>\n",
              "      <td>0.000829</td>\n",
              "      <td>0.005419</td>\n",
              "      <td>0.003534</td>\n",
              "      <td>0.001324</td>\n",
              "    </tr>\n",
              "    <tr>\n",
              "      <th>19</th>\n",
              "      <td>20000</td>\n",
              "      <td>4.301030</td>\n",
              "      <td>0.000880</td>\n",
              "      <td>0.005759</td>\n",
              "      <td>0.003808</td>\n",
              "      <td>0.001364</td>\n",
              "    </tr>\n",
              "    <tr>\n",
              "      <th>20</th>\n",
              "      <td>21000</td>\n",
              "      <td>4.322219</td>\n",
              "      <td>0.000900</td>\n",
              "      <td>0.005700</td>\n",
              "      <td>0.003809</td>\n",
              "      <td>0.001368</td>\n",
              "    </tr>\n",
              "    <tr>\n",
              "      <th>21</th>\n",
              "      <td>22000</td>\n",
              "      <td>4.342423</td>\n",
              "      <td>0.001142</td>\n",
              "      <td>0.005972</td>\n",
              "      <td>0.003966</td>\n",
              "      <td>0.001511</td>\n",
              "    </tr>\n",
              "    <tr>\n",
              "      <th>22</th>\n",
              "      <td>23000</td>\n",
              "      <td>4.361728</td>\n",
              "      <td>0.000931</td>\n",
              "      <td>0.006004</td>\n",
              "      <td>0.003971</td>\n",
              "      <td>0.001469</td>\n",
              "    </tr>\n",
              "    <tr>\n",
              "      <th>23</th>\n",
              "      <td>24000</td>\n",
              "      <td>4.380211</td>\n",
              "      <td>0.000941</td>\n",
              "      <td>0.006634</td>\n",
              "      <td>0.004517</td>\n",
              "      <td>0.001430</td>\n",
              "    </tr>\n",
              "    <tr>\n",
              "      <th>24</th>\n",
              "      <td>25000</td>\n",
              "      <td>4.397940</td>\n",
              "      <td>0.000983</td>\n",
              "      <td>0.006551</td>\n",
              "      <td>0.004273</td>\n",
              "      <td>0.001515</td>\n",
              "    </tr>\n",
              "    <tr>\n",
              "      <th>25</th>\n",
              "      <td>26000</td>\n",
              "      <td>4.414973</td>\n",
              "      <td>0.001078</td>\n",
              "      <td>0.006356</td>\n",
              "      <td>0.004135</td>\n",
              "      <td>0.001556</td>\n",
              "    </tr>\n",
              "    <tr>\n",
              "      <th>26</th>\n",
              "      <td>27000</td>\n",
              "      <td>4.431364</td>\n",
              "      <td>0.001078</td>\n",
              "      <td>0.006559</td>\n",
              "      <td>0.004239</td>\n",
              "      <td>0.001532</td>\n",
              "    </tr>\n",
              "    <tr>\n",
              "      <th>27</th>\n",
              "      <td>28000</td>\n",
              "      <td>4.447158</td>\n",
              "      <td>0.001065</td>\n",
              "      <td>0.007279</td>\n",
              "      <td>0.004930</td>\n",
              "      <td>0.001643</td>\n",
              "    </tr>\n",
              "    <tr>\n",
              "      <th>28</th>\n",
              "      <td>29000</td>\n",
              "      <td>4.462398</td>\n",
              "      <td>0.001081</td>\n",
              "      <td>0.007221</td>\n",
              "      <td>0.004857</td>\n",
              "      <td>0.001657</td>\n",
              "    </tr>\n",
              "    <tr>\n",
              "      <th>29</th>\n",
              "      <td>30000</td>\n",
              "      <td>4.477121</td>\n",
              "      <td>0.001088</td>\n",
              "      <td>0.006880</td>\n",
              "      <td>0.004475</td>\n",
              "      <td>0.001711</td>\n",
              "    </tr>\n",
              "    <tr>\n",
              "      <th>30</th>\n",
              "      <td>31000</td>\n",
              "      <td>4.491362</td>\n",
              "      <td>0.001149</td>\n",
              "      <td>0.006969</td>\n",
              "      <td>0.004561</td>\n",
              "      <td>0.001675</td>\n",
              "    </tr>\n",
              "    <tr>\n",
              "      <th>31</th>\n",
              "      <td>32000</td>\n",
              "      <td>4.505150</td>\n",
              "      <td>0.001168</td>\n",
              "      <td>0.007124</td>\n",
              "      <td>0.004633</td>\n",
              "      <td>0.001746</td>\n",
              "    </tr>\n",
              "    <tr>\n",
              "      <th>32</th>\n",
              "      <td>33000</td>\n",
              "      <td>4.518514</td>\n",
              "      <td>0.001195</td>\n",
              "      <td>0.007681</td>\n",
              "      <td>0.005240</td>\n",
              "      <td>0.001753</td>\n",
              "    </tr>\n",
              "    <tr>\n",
              "      <th>33</th>\n",
              "      <td>34000</td>\n",
              "      <td>4.531479</td>\n",
              "      <td>0.001195</td>\n",
              "      <td>0.007524</td>\n",
              "      <td>0.004825</td>\n",
              "      <td>0.001787</td>\n",
              "    </tr>\n",
              "    <tr>\n",
              "      <th>34</th>\n",
              "      <td>35000</td>\n",
              "      <td>4.544068</td>\n",
              "      <td>0.001283</td>\n",
              "      <td>0.007483</td>\n",
              "      <td>0.004870</td>\n",
              "      <td>0.001996</td>\n",
              "    </tr>\n",
              "    <tr>\n",
              "      <th>35</th>\n",
              "      <td>36000</td>\n",
              "      <td>4.556303</td>\n",
              "      <td>0.001679</td>\n",
              "      <td>0.007965</td>\n",
              "      <td>0.005319</td>\n",
              "      <td>0.001868</td>\n",
              "    </tr>\n",
              "    <tr>\n",
              "      <th>36</th>\n",
              "      <td>37000</td>\n",
              "      <td>4.568202</td>\n",
              "      <td>0.001280</td>\n",
              "      <td>0.008101</td>\n",
              "      <td>0.005319</td>\n",
              "      <td>0.001890</td>\n",
              "    </tr>\n",
              "    <tr>\n",
              "      <th>37</th>\n",
              "      <td>38000</td>\n",
              "      <td>4.579784</td>\n",
              "      <td>0.001999</td>\n",
              "      <td>0.007782</td>\n",
              "      <td>0.005054</td>\n",
              "      <td>0.001941</td>\n",
              "    </tr>\n",
              "    <tr>\n",
              "      <th>38</th>\n",
              "      <td>39000</td>\n",
              "      <td>4.591065</td>\n",
              "      <td>0.001502</td>\n",
              "      <td>0.007756</td>\n",
              "      <td>0.005152</td>\n",
              "      <td>0.001986</td>\n",
              "    </tr>\n",
              "    <tr>\n",
              "      <th>39</th>\n",
              "      <td>40000</td>\n",
              "      <td>4.602060</td>\n",
              "      <td>0.001319</td>\n",
              "      <td>0.007980</td>\n",
              "      <td>0.005511</td>\n",
              "      <td>0.001999</td>\n",
              "    </tr>\n",
              "    <tr>\n",
              "      <th>40</th>\n",
              "      <td>41000</td>\n",
              "      <td>4.612784</td>\n",
              "      <td>0.001356</td>\n",
              "      <td>0.007945</td>\n",
              "      <td>0.005297</td>\n",
              "      <td>0.002095</td>\n",
              "    </tr>\n",
              "    <tr>\n",
              "      <th>41</th>\n",
              "      <td>42000</td>\n",
              "      <td>4.623249</td>\n",
              "      <td>0.001489</td>\n",
              "      <td>0.008008</td>\n",
              "      <td>0.005347</td>\n",
              "      <td>0.002138</td>\n",
              "    </tr>\n",
              "    <tr>\n",
              "      <th>42</th>\n",
              "      <td>43000</td>\n",
              "      <td>4.633468</td>\n",
              "      <td>0.002098</td>\n",
              "      <td>0.008303</td>\n",
              "      <td>0.005478</td>\n",
              "      <td>0.002124</td>\n",
              "    </tr>\n",
              "    <tr>\n",
              "      <th>43</th>\n",
              "      <td>44000</td>\n",
              "      <td>4.643453</td>\n",
              "      <td>0.001402</td>\n",
              "      <td>0.008414</td>\n",
              "      <td>0.005688</td>\n",
              "      <td>0.002116</td>\n",
              "    </tr>\n",
              "    <tr>\n",
              "      <th>44</th>\n",
              "      <td>45000</td>\n",
              "      <td>4.653213</td>\n",
              "      <td>0.001873</td>\n",
              "      <td>0.008204</td>\n",
              "      <td>0.005441</td>\n",
              "      <td>0.002167</td>\n",
              "    </tr>\n",
              "    <tr>\n",
              "      <th>45</th>\n",
              "      <td>46000</td>\n",
              "      <td>4.662758</td>\n",
              "      <td>0.001493</td>\n",
              "      <td>0.009166</td>\n",
              "      <td>0.006265</td>\n",
              "      <td>0.002183</td>\n",
              "    </tr>\n",
              "    <tr>\n",
              "      <th>46</th>\n",
              "      <td>47000</td>\n",
              "      <td>4.672098</td>\n",
              "      <td>0.001541</td>\n",
              "      <td>0.009186</td>\n",
              "      <td>0.005987</td>\n",
              "      <td>0.002196</td>\n",
              "    </tr>\n",
              "    <tr>\n",
              "      <th>47</th>\n",
              "      <td>48000</td>\n",
              "      <td>4.681241</td>\n",
              "      <td>0.001495</td>\n",
              "      <td>0.009368</td>\n",
              "      <td>0.006155</td>\n",
              "      <td>0.002367</td>\n",
              "    </tr>\n",
              "    <tr>\n",
              "      <th>48</th>\n",
              "      <td>49000</td>\n",
              "      <td>4.690196</td>\n",
              "      <td>0.001956</td>\n",
              "      <td>0.008772</td>\n",
              "      <td>0.005683</td>\n",
              "      <td>0.002321</td>\n",
              "    </tr>\n",
              "    <tr>\n",
              "      <th>49</th>\n",
              "      <td>50000</td>\n",
              "      <td>4.698970</td>\n",
              "      <td>0.001728</td>\n",
              "      <td>0.009411</td>\n",
              "      <td>0.006205</td>\n",
              "      <td>0.002450</td>\n",
              "    </tr>\n",
              "  </tbody>\n",
              "</table>\n",
              "</div>"
            ],
            "text/plain": [
              "    Word Count  Log Word Count  ...  Cosine Numpy Time  Cosine Sparse\n",
              "0         1000        3.000000  ...           0.000670       0.000191\n",
              "1         2000        3.301030  ...           0.000977       0.000299\n",
              "2         3000        3.477121  ...           0.001219       0.000389\n",
              "3         4000        3.602060  ...           0.001535       0.000484\n",
              "4         5000        3.698970  ...           0.001757       0.000565\n",
              "5         6000        3.778151  ...           0.002451       0.000629\n",
              "6         7000        3.845098  ...           0.002152       0.001250\n",
              "7         8000        3.903090  ...           0.002249       0.000744\n",
              "8         9000        3.954243  ...           0.002448       0.000833\n",
              "9        10000        4.000000  ...           0.002965       0.000844\n",
              "10       11000        4.041393  ...           0.002777       0.000890\n",
              "11       12000        4.079181  ...           0.002778       0.000942\n",
              "12       13000        4.113943  ...           0.002930       0.000991\n",
              "13       14000        4.146128  ...           0.003051       0.001049\n",
              "14       15000        4.176091  ...           0.003147       0.001096\n",
              "15       16000        4.204120  ...           0.003265       0.001140\n",
              "16       17000        4.230449  ...           0.003389       0.001198\n",
              "17       18000        4.255273  ...           0.003876       0.001251\n",
              "18       19000        4.278754  ...           0.003534       0.001324\n",
              "19       20000        4.301030  ...           0.003808       0.001364\n",
              "20       21000        4.322219  ...           0.003809       0.001368\n",
              "21       22000        4.342423  ...           0.003966       0.001511\n",
              "22       23000        4.361728  ...           0.003971       0.001469\n",
              "23       24000        4.380211  ...           0.004517       0.001430\n",
              "24       25000        4.397940  ...           0.004273       0.001515\n",
              "25       26000        4.414973  ...           0.004135       0.001556\n",
              "26       27000        4.431364  ...           0.004239       0.001532\n",
              "27       28000        4.447158  ...           0.004930       0.001643\n",
              "28       29000        4.462398  ...           0.004857       0.001657\n",
              "29       30000        4.477121  ...           0.004475       0.001711\n",
              "30       31000        4.491362  ...           0.004561       0.001675\n",
              "31       32000        4.505150  ...           0.004633       0.001746\n",
              "32       33000        4.518514  ...           0.005240       0.001753\n",
              "33       34000        4.531479  ...           0.004825       0.001787\n",
              "34       35000        4.544068  ...           0.004870       0.001996\n",
              "35       36000        4.556303  ...           0.005319       0.001868\n",
              "36       37000        4.568202  ...           0.005319       0.001890\n",
              "37       38000        4.579784  ...           0.005054       0.001941\n",
              "38       39000        4.591065  ...           0.005152       0.001986\n",
              "39       40000        4.602060  ...           0.005511       0.001999\n",
              "40       41000        4.612784  ...           0.005297       0.002095\n",
              "41       42000        4.623249  ...           0.005347       0.002138\n",
              "42       43000        4.633468  ...           0.005478       0.002124\n",
              "43       44000        4.643453  ...           0.005688       0.002116\n",
              "44       45000        4.653213  ...           0.005441       0.002167\n",
              "45       46000        4.662758  ...           0.006265       0.002183\n",
              "46       47000        4.672098  ...           0.005987       0.002196\n",
              "47       48000        4.681241  ...           0.006155       0.002367\n",
              "48       49000        4.690196  ...           0.005683       0.002321\n",
              "49       50000        4.698970  ...           0.006205       0.002450\n",
              "\n",
              "[50 rows x 6 columns]"
            ]
          },
          "metadata": {},
          "execution_count": 53
        }
      ],
      "source": [
        "# Display dataframe\n",
        "df_\n",
        "#df_log\n",
        "#df_sim"
      ]
    },
    {
      "cell_type": "markdown",
      "metadata": {
        "id": "qJqsRGtDlHSr"
      },
      "source": [
        "**Analysis of algorithms in response to increacing size of words**\n"
      ]
    },
    {
      "cell_type": "markdown",
      "metadata": {
        "id": "gnX0GgNYSPUR"
      },
      "source": [
        "***Figure 3.5:*** Plot illustrates the worst case runstime of jaccard and cosine similarity algorithms with the size of words increacing from 1000 - 50,000."
      ]
    },
    {
      "cell_type": "code",
      "execution_count": null,
      "metadata": {
        "colab": {
          "base_uri": "https://localhost:8080/",
          "height": 295
        },
        "id": "1_OVWoyXHzr2",
        "outputId": "6b02a915-5287-438a-c93f-fb400464f75b"
      },
      "outputs": [
        {
          "output_type": "display_data",
          "data": {
            "image/png": "[encoded data removed]",
            "text/plain": [
              "<Figure size 432x288 with 1 Axes>"
            ]
          },
          "metadata": {
            "needs_background": "light"
          }
        }
      ],
      "source": [
        "# Plotting with matplotlib \n",
        "plt.plot(df_[\"Word Count\"], df_[\"Jaccard Time\"])\n",
        "plt.plot(df_[\"Word Count\"], df_[\"Cosine Time\"])\n",
        "plt.plot(df_[\"Word Count\"], df_[\"Cosine Numpy Time\"])\n",
        "plt.plot(df_[\"Word Count\"], df_[\"Cosine Sparse\"])\n",
        "label = [\"Jaccard\", \"Cosine\", \"NumPy\", \"Sparse\"]\n",
        "plt.legend(label, loc = 0, ncol = 4)\n",
        "plt.ylabel(\"time\")\n",
        "plt.xlabel(\"word count\")\n",
        "plt.title(\"Time Complexity of Cosine Simillary\")\n",
        "plt.show()"
      ]
    },
    {
      "cell_type": "markdown",
      "metadata": {
        "id": "JeymBidXJLs5"
      },
      "source": [
        "***Figure 3.6:*** Scatter plot illustrates the worst case run time of jaccard and cosine similarity algorithms with the size of words increacing from 1000 - 50,000 (run time and size of words are represented in logs)."
      ]
    },
    {
      "cell_type": "code",
      "execution_count": null,
      "metadata": {
        "colab": {
          "base_uri": "https://localhost:8080/",
          "height": 295
        },
        "id": "jhgP4jdZJNSx",
        "outputId": "57631f42-c361-482f-a218-c29c3b260d9e"
      },
      "outputs": [
        {
          "output_type": "display_data",
          "data": {
            "image/png": "[encoded data removed]",
            "text/plain": [
              "<Figure size 432x288 with 1 Axes>"
            ]
          },
          "metadata": {
            "needs_background": "light"
          }
        }
      ],
      "source": [
        "# Scatter plot with matplotlib\n",
        "plt.scatter(df_log[\"Log Word Count\"], df_log[\"Jaccard Time\"])\n",
        "plt.scatter(df_log[\"Log Word Count\"], df_log[\"Cosine Time\"])\n",
        "plt.scatter(df_log[\"Log Word Count\"], df_log[\"Cosine Numpy Time\"])\n",
        "plt.scatter(df_log[\"Log Word Count\"], df_log[\"Cosine Sparse\"])\n",
        "label = [\"Jaccard\", \"Cosine\", \"NumPy\", \"Sparse\"]\n",
        "plt.legend(label, loc = 0, ncol = 4)\n",
        "plt.ylabel(\"log of time\")\n",
        "plt.xlabel(\"log of word count\")\n",
        "plt.title(\"Worst Case Runtimes of Algorithms in response to increacing word count\")\n",
        "plt.show()"
      ]
    },
    {
      "cell_type": "markdown",
      "metadata": {
        "id": "nnpA7RXAJjGD"
      },
      "source": [
        "***Figure 3.7:*** Metrics for jaccard and cosine algorithms "
      ]
    },
    {
      "cell_type": "code",
      "execution_count": null,
      "metadata": {
        "colab": {
          "base_uri": "https://localhost:8080/",
          "height": 143
        },
        "id": "IrA5G3FGJk6l",
        "outputId": "c0bc5795-737f-4775-cf2c-0fbcce471871"
      },
      "outputs": [
        {
          "output_type": "execute_result",
          "data": {
            "text/html": [
              "<div>\n",
              "<style scoped>\n",
              "    .dataframe tbody tr th:only-of-type {\n",
              "        vertical-align: middle;\n",
              "    }\n",
              "\n",
              "    .dataframe tbody tr th {\n",
              "        vertical-align: top;\n",
              "    }\n",
              "\n",
              "    .dataframe thead th {\n",
              "        text-align: right;\n",
              "    }\n",
              "</style>\n",
              "<table border=\"1\" class=\"dataframe\">\n",
              "  <thead>\n",
              "    <tr style=\"text-align: right;\">\n",
              "      <th></th>\n",
              "      <th>label</th>\n",
              "      <th>Jaccard</th>\n",
              "      <th>Cosine</th>\n",
              "      <th>Cosine Numpy</th>\n",
              "      <th>Cosine Sparse</th>\n",
              "    </tr>\n",
              "  </thead>\n",
              "  <tbody>\n",
              "    <tr>\n",
              "      <th>0</th>\n",
              "      <td>Slope</td>\n",
              "      <td>0.674525</td>\n",
              "      <td>0.554367</td>\n",
              "      <td>0.548048</td>\n",
              "      <td>0.616286</td>\n",
              "    </tr>\n",
              "    <tr>\n",
              "      <th>1</th>\n",
              "      <td>Intercept</td>\n",
              "      <td>-5.943655</td>\n",
              "      <td>-4.630205</td>\n",
              "      <td>-4.784038</td>\n",
              "      <td>-5.520453</td>\n",
              "    </tr>\n",
              "    <tr>\n",
              "      <th>2</th>\n",
              "      <td>STD Error</td>\n",
              "      <td>0.024365</td>\n",
              "      <td>0.005711</td>\n",
              "      <td>0.006577</td>\n",
              "      <td>0.017560</td>\n",
              "    </tr>\n",
              "  </tbody>\n",
              "</table>\n",
              "</div>"
            ],
            "text/plain": [
              "       label   Jaccard    Cosine  Cosine Numpy  Cosine Sparse\n",
              "0      Slope  0.674525  0.554367      0.548048       0.616286\n",
              "1  Intercept -5.943655 -4.630205     -4.784038      -5.520453\n",
              "2  STD Error  0.024365  0.005711      0.006577       0.017560"
            ]
          },
          "metadata": {},
          "execution_count": 56
        }
      ],
      "source": [
        "# Display pandas dataframe with metrics \n",
        "CosSparse.compare_slopes(df_log, list(df_log[\"Log Word Count\"]))"
      ]
    },
    {
      "cell_type": "markdown",
      "metadata": {
        "id": "Rf9aangYLaf0"
      },
      "source": [
        "# **==== QUESTION 3 (REPORT) ====**"
      ]
    },
    {
      "cell_type": "markdown",
      "metadata": {
        "id": "XCJAwz_vLiHS"
      },
      "source": [
        "**Implementation and Analysis Cosine (Sparse Representation)**\n",
        " \n",
        "In contrast to question 2 (dense vector representation), the cosine similarity will be computed using sparse representation directly from key/value pairs (dictionary).\n",
        " \n",
        "Results collected  in figure 3.1 (data frame) suggest that average runtime increases with word count. Respectively, average runtime appears to grow steadily (against word count) despite irregularities seen with the few peaks [figure 3.2] which is also consistent with outliers exhibited in the scatter graph [figure 3.3]. \n",
        " \n",
        "**Estimation of Constants**\n",
        "\n",
        "If **$y=ax^{b}$**, then **$log(y) = log(x)b+log(a)$** where **$b$** is the slope and **$a$** is the intercept.  Respectively, the slope is 0.62 and  intercept is -5.54 (**$\\approx 6$**) [figure 3.3] meaning that **$y\\approx x^{0.62}*10^{-6}$**. This can be verified as $50000^{0.62}*10^{-5.54}=0.0024\\approx0.0022$ (result from figure 3.1). Therefore, the worst case runtime can be denoted as **$O(n^{0.62})$**.\n",
        " \n",
        "**Comparing All Algorithms**\n",
        " \n",
        "Although all algorithms appear to follow an uptrend, runtimes of algorithms using dictionaries (sparse) are not only more similar to one another but also produce significantly lower runtimes [figures 3.5-3.6]. However, vectorised cosine algorithms see greater variation with the numpy implementation achieving more efficient runtimes as size of document increases. Considering vectorised cosine algorithms require computation of all frequencies (applying default values where irrelevant), greater sizes of vectorised word counts are employed. Accordingly, when the cosine algorithm uses a dictionary, it employs smaller word counts and directly computes frequencies reducing runtimes. On the other hand, Jaccard’s algorithm focuses on length of the words to find intersections and union (without iteration) which explains why it has the lowest runtime of all algorithms [figures 3.5-3.6]. Nevertheless, all algorithms are dependent on the length of word count and different implementations may lead to different results.\n"
      ]
    },
    {
      "cell_type": "code",
      "source": [
        "# Run code to get the estimated time for 50,000 word count \n",
        "# Estimates for the run time can then be compared actual results \n",
        "a = -5.54# Intercept \n",
        "b = 0.62# Slope\n",
        "x = 50000# Word Count\n",
        "y = 10**a * x**b # Y is the estimated runtime \n",
        "y"
      ],
      "metadata": {
        "colab": {
          "base_uri": "https://localhost:8080/"
        },
        "id": "btyhJvtixyX-",
        "outputId": "1e0464c2-af6c-4046-f1d9-512121746171"
      },
      "execution_count": null,
      "outputs": [
        {
          "output_type": "execute_result",
          "data": {
            "text/plain": [
              "0.002362443347323858"
            ]
          },
          "metadata": {},
          "execution_count": 57
        }
      ]
    },
    {
      "cell_type": "markdown",
      "metadata": {
        "id": "Xn_gyXdcLjFS"
      },
      "source": [
        "# **==========================**"
      ]
    },
    {
      "cell_type": "markdown",
      "metadata": {
        "id": "9lJwLxnUs44N"
      },
      "source": [
        "# **Question 4 Class**"
      ]
    },
    {
      "cell_type": "code",
      "execution_count": null,
      "metadata": {
        "id": "cXNmm3NuWbEN"
      },
      "outputs": [],
      "source": [
        "class AllPair:\n",
        "  def __init__(self, sphase):\n",
        "    self.sphase = sphase # Cosine Sparse\n",
        "    self.jaccard = self.sphase.jaccard # Jaccard class (which is already in the cosine class)\n",
        "    self.corpus_dict_list = self.get_corp_dict()\n",
        "    self.word_count = [len(doc.keys()) for doc in self.get_corp_dict()]\n",
        "    \n",
        "  # === The method will be used from the jaccards class ===\n",
        "  # Returns a pandas data frame for displaying slope, intercept and standard deviation error both the actual data and the logs of given data\n",
        "  # Parameters: Pandas dataframe created using increacing_wordList() (it can be found below) \n",
        "  def slope_intercept_std(self, x, y):\n",
        "    return self.jaccard.slope_intercept_std(x, y)\n",
        "  \n",
        "  # Returns a list of dictionaries which represent each doc in the gutenber corpus as bag of words\n",
        "  def get_corp_dict(self):\n",
        "    corp_docs = [FreqDist([a for a in gutenberg.words(i)]) for i in gutenberg.fileids()]\n",
        "    corp_dict = [{word: freq for word, freq in docs.items()} for docs in corp_docs]\n",
        "    return corp_dict\n",
        "  \n",
        "  # Returns a list containing calculations of all pair similarities \n",
        "  def all_pair_simmilarity(self):\n",
        "    jaccard = [[self.jaccard.jaccards(doc_a, doc_b) for doc_b in self.corpus_dict_list] for doc_a in self.corpus_dict_list]\n",
        "    sparse = [[self.sphase.cosine_sparse_simillarity(doc_a, doc_b) for doc_b in self.corpus_dict_list] for doc_a in self.corpus_dict_list]\n",
        "    return jaccard, sparse\n",
        "\n",
        "  # Returns the maximum and minimum similarities as pandas dataframe\n",
        "  # Parameters: A list of list containung all pair similarity calulation (obtained from all_pair_simmilarity() method)\n",
        "  def find_min_max(self, my_list):\n",
        "    remove1 = [[i if i != 1 else min(sim)+0.01 for i in sim] for sim in my_list]\n",
        "    minimums = [[min(sim)] for sim in remove1]\n",
        "    maximums = [[max(sim)] for sim in remove1]\n",
        "    dict_min = {f\"Doc {i+1}\": val for i, val in enumerate(minimums)}\n",
        "    dict_max = {f\"Doc {i+1}\": val for i, val in enumerate(maximums)}\n",
        "    return pd.DataFrame(data=dict_min), pd.DataFrame(data=dict_max)\n",
        "  \n",
        "  # Returns runtimes of jaccards and cosine (sparse) all pair similarities as list of list\n",
        "  # Parameters: Epochs (epochs) is number of iterations that will be used to find the avergage runtime\n",
        "  def all_pair_average_runtime(self, epochs):\n",
        "      # Empty list to gather our results\n",
        "      jaccard_run_times = []\n",
        "      sparse_run_times = []\n",
        "\n",
        "      for docA in self.corpus_dict_list:\n",
        "        # Empty list for run times each row \n",
        "        jaccard_row = []\n",
        "        sparse_row = []\n",
        "        for docB in self.corpus_dict_list:\n",
        "          # Empty list to hold runtime for total epochs \n",
        "          jac_rt = []\n",
        "          sparse_rt = []\n",
        "          for i in range(epochs):\n",
        "            # Computing runtimes (jaccard)\n",
        "            start = time.time()\n",
        "            self.jaccard.jaccards(docA,docB)\n",
        "            run_time = time.time() - start\n",
        "            jac_rt.append(run_time)\n",
        "            # Computing runtimes (cosine)\n",
        "            start = time.time()\n",
        "            self.sphase.cosine_sparse_simillarity(docA,docB)\n",
        "            run_time = time.time() - start\n",
        "            sparse_rt.append(run_time)\n",
        "\n",
        "            if i == epochs-1:\n",
        "              # Adding average run times of total epoch to list for row\n",
        "              average_runtime = np.mean(jac_rt)\n",
        "              jaccard_row.append(average_runtime)\n",
        "\n",
        "              average_runtime = np.mean(sparse_rt)\n",
        "              sparse_row.append(average_runtime)\n",
        "              if len(jaccard_row) == 18:\n",
        "                # Adding each row to list containing all rows \n",
        "                jaccard_run_times.append(jaccard_row)\n",
        "                sparse_run_times.append(sparse_row)\n",
        "      # Returning run times for both algorithms as list of list\n",
        "      return jaccard_run_times, sparse_run_times\n",
        "  \n",
        "  # Create dataframe from list of lists\n",
        "  def create_dataframe(self, data):\n",
        "    return pd.DataFrame(data={label: data[idx] for idx, label in enumerate([f\"Doc {i}\" for i in range(1,19)])})\n",
        "\n",
        "  # Returns the increacing run times of 314 pairs calculated in one list (summing data for 314 iteration to show growth)\n",
        "  # Paramters: Dataframe with all calulations of all pair runtimes \n",
        "  def increacing_byPair(self, df):\n",
        "    labels = [f\"Doc {i}\" for i in range(1,19)] # labels in the dataframe\n",
        "    total = 0 # total time initialized as 0 \n",
        "    times = [] # Empty list to add increacing time \n",
        "    for label in labels:\n",
        "        for time in list(df[label]):\n",
        "            total += time\n",
        "            times.append(total)\n",
        "    # Returning the logs of data ready for plotting \n",
        "    return [np.log10(i) for i in times], [np.log10(i) for i in range(1, 325)]\n",
        "\n",
        "  def increacing_byEpochJaccard(self):\n",
        "    # empty list containing our runtimes \n",
        "    jac_rt = []\n",
        "    doc_len = []\n",
        "    for i in range(1,19):\n",
        "      # Adjusting size of document where all pair similarities are to be computed \n",
        "      doc = self.corpus_dict_list[0:i]\n",
        "      doc_len.append(i) # Adding length of document to list above\n",
        "      # initlaizing run time \n",
        "      start = time.time()\n",
        "      # Computing all pair similarities for the size of the doc\n",
        "      for docA in doc:\n",
        "        for docB in doc:\n",
        "          self.jaccard.jaccards(docA,docB)\n",
        "      # Adding total run time to list above\n",
        "      run_time = time.time() - start\n",
        "      jac_rt.append(run_time)\n",
        "    # Returning logs of results ready for plotting\n",
        "    return [np.log10(i) for i in jac_rt], [np.log10(i) for i in doc_len]\n",
        "\n",
        "  def increacing_byEpochCosine(self):\n",
        "    # empty list containing our runtimes \n",
        "    cos_rt = []\n",
        "    doc_len = []\n",
        "    for i in range(1,19):\n",
        "      # Adjusting size of document where all pair similarities are to be computed \n",
        "      doc = self.corpus_dict_list[0:i]\n",
        "      doc_len.append(i) # Adding length of document to list above\n",
        "      start = time.time()\n",
        "      # Computing all pair similarities for the size of the doc\n",
        "      for docA in doc:\n",
        "        for docB in doc:\n",
        "          self.sphase.cosine_sparse_simillarity(docA,docB)\n",
        "      # Adding total run time to list above\n",
        "      run_time = time.time() - start\n",
        "      cos_rt.append(run_time)\n",
        "    # Returning logs of results ready for plotting\n",
        "    return [np.log10(i) for i in cos_rt], [np.log10(i) for i in doc_len]\n",
        "\n",
        "# Initializing AlL Pair Class\n",
        "allPair = AllPair(CosSparse)"
      ]
    },
    {
      "cell_type": "markdown",
      "metadata": {
        "id": "LKum7l7Q3T4n"
      },
      "source": [
        "# **Figures 4.1 - 4.2:** All Pairs Similiarities"
      ]
    },
    {
      "cell_type": "code",
      "execution_count": null,
      "metadata": {
        "id": "fBKCv0El5bpU"
      },
      "outputs": [],
      "source": [
        "# Setup\n",
        "jaccard_sim, sparse_sim = allPair.all_pair_simmilarity()\n",
        "jaccardMin, jaccardMax = allPair.find_min_max(jaccard_sim)\n",
        "sparseMin, sparseMax = allPair.find_min_max(sparse_sim)"
      ]
    },
    {
      "cell_type": "markdown",
      "metadata": {
        "id": "19OOytld3ytV"
      },
      "source": [
        "**Jaccard's all pairs smillilarities**"
      ]
    },
    {
      "cell_type": "markdown",
      "metadata": {
        "id": "ZZe2RIF5lHSx"
      },
      "source": [
        "***Figure 4.1:*** Pandas dataframe with calculations of all pair similarities for all 18 documents in the gutenberg corpus. In the cells below the dataframe are the calculations of maximum and minmium similarity."
      ]
    },
    {
      "cell_type": "code",
      "execution_count": null,
      "metadata": {
        "colab": {
          "base_uri": "https://localhost:8080/",
          "height": 614
        },
        "id": "smM2PFvrH0VA",
        "outputId": "f9477d4e-33a0-4ad3-ae37-03c818c048de"
      },
      "outputs": [
        {
          "output_type": "execute_result",
          "data": {
            "text/html": [
              "<div>\n",
              "<style scoped>\n",
              "    .dataframe tbody tr th:only-of-type {\n",
              "        vertical-align: middle;\n",
              "    }\n",
              "\n",
              "    .dataframe tbody tr th {\n",
              "        vertical-align: top;\n",
              "    }\n",
              "\n",
              "    .dataframe thead th {\n",
              "        text-align: right;\n",
              "    }\n",
              "</style>\n",
              "<table border=\"1\" class=\"dataframe\">\n",
              "  <thead>\n",
              "    <tr style=\"text-align: right;\">\n",
              "      <th></th>\n",
              "      <th>Doc 1</th>\n",
              "      <th>Doc 2</th>\n",
              "      <th>Doc 3</th>\n",
              "      <th>Doc 4</th>\n",
              "      <th>Doc 5</th>\n",
              "      <th>Doc 6</th>\n",
              "      <th>Doc 7</th>\n",
              "      <th>Doc 8</th>\n",
              "      <th>Doc 9</th>\n",
              "      <th>Doc 10</th>\n",
              "      <th>Doc 11</th>\n",
              "      <th>Doc 12</th>\n",
              "      <th>Doc 13</th>\n",
              "      <th>Doc 14</th>\n",
              "      <th>Doc 15</th>\n",
              "      <th>Doc 16</th>\n",
              "      <th>Doc 17</th>\n",
              "      <th>Doc 18</th>\n",
              "    </tr>\n",
              "  </thead>\n",
              "  <tbody>\n",
              "    <tr>\n",
              "      <th>0</th>\n",
              "      <td>1.000000</td>\n",
              "      <td>0.448781</td>\n",
              "      <td>0.612739</td>\n",
              "      <td>0.132149</td>\n",
              "      <td>0.033271</td>\n",
              "      <td>0.224412</td>\n",
              "      <td>0.077240</td>\n",
              "      <td>0.138325</td>\n",
              "      <td>0.358864</td>\n",
              "      <td>0.327983</td>\n",
              "      <td>0.274260</td>\n",
              "      <td>0.567748</td>\n",
              "      <td>0.426545</td>\n",
              "      <td>0.272937</td>\n",
              "      <td>0.085779</td>\n",
              "      <td>0.121755</td>\n",
              "      <td>0.075753</td>\n",
              "      <td>0.339667</td>\n",
              "    </tr>\n",
              "    <tr>\n",
              "      <th>1</th>\n",
              "      <td>0.448781</td>\n",
              "      <td>1.000000</td>\n",
              "      <td>0.575345</td>\n",
              "      <td>0.075149</td>\n",
              "      <td>0.059940</td>\n",
              "      <td>0.378212</td>\n",
              "      <td>0.144949</td>\n",
              "      <td>0.241201</td>\n",
              "      <td>0.473848</td>\n",
              "      <td>0.476826</td>\n",
              "      <td>0.434224</td>\n",
              "      <td>0.384099</td>\n",
              "      <td>0.293718</td>\n",
              "      <td>0.344698</td>\n",
              "      <td>0.151266</td>\n",
              "      <td>0.203255</td>\n",
              "      <td>0.133652</td>\n",
              "      <td>0.314007</td>\n",
              "    </tr>\n",
              "    <tr>\n",
              "      <th>2</th>\n",
              "      <td>0.612739</td>\n",
              "      <td>0.575345</td>\n",
              "      <td>1.000000</td>\n",
              "      <td>0.104026</td>\n",
              "      <td>0.043826</td>\n",
              "      <td>0.288768</td>\n",
              "      <td>0.103429</td>\n",
              "      <td>0.181051</td>\n",
              "      <td>0.431214</td>\n",
              "      <td>0.405691</td>\n",
              "      <td>0.349551</td>\n",
              "      <td>0.498328</td>\n",
              "      <td>0.380135</td>\n",
              "      <td>0.321828</td>\n",
              "      <td>0.111554</td>\n",
              "      <td>0.157323</td>\n",
              "      <td>0.099492</td>\n",
              "      <td>0.340455</td>\n",
              "    </tr>\n",
              "    <tr>\n",
              "      <th>3</th>\n",
              "      <td>0.132149</td>\n",
              "      <td>0.075149</td>\n",
              "      <td>0.104026</td>\n",
              "      <td>1.000000</td>\n",
              "      <td>0.007082</td>\n",
              "      <td>0.045311</td>\n",
              "      <td>0.014494</td>\n",
              "      <td>0.026807</td>\n",
              "      <td>0.071899</td>\n",
              "      <td>0.063861</td>\n",
              "      <td>0.052062</td>\n",
              "      <td>0.149652</td>\n",
              "      <td>0.174641</td>\n",
              "      <td>0.074757</td>\n",
              "      <td>0.018680</td>\n",
              "      <td>0.026813</td>\n",
              "      <td>0.016302</td>\n",
              "      <td>0.111036</td>\n",
              "    </tr>\n",
              "    <tr>\n",
              "      <th>4</th>\n",
              "      <td>0.033271</td>\n",
              "      <td>0.059940</td>\n",
              "      <td>0.043826</td>\n",
              "      <td>0.007082</td>\n",
              "      <td>1.000000</td>\n",
              "      <td>0.112994</td>\n",
              "      <td>0.201222</td>\n",
              "      <td>0.148079</td>\n",
              "      <td>0.066814</td>\n",
              "      <td>0.072348</td>\n",
              "      <td>0.086540</td>\n",
              "      <td>0.032446</td>\n",
              "      <td>0.028379</td>\n",
              "      <td>0.072194</td>\n",
              "      <td>0.178496</td>\n",
              "      <td>0.137164</td>\n",
              "      <td>0.197764</td>\n",
              "      <td>0.046304</td>\n",
              "    </tr>\n",
              "    <tr>\n",
              "      <th>5</th>\n",
              "      <td>0.224412</td>\n",
              "      <td>0.378212</td>\n",
              "      <td>0.288768</td>\n",
              "      <td>0.045311</td>\n",
              "      <td>0.112994</td>\n",
              "      <td>1.000000</td>\n",
              "      <td>0.260695</td>\n",
              "      <td>0.389353</td>\n",
              "      <td>0.415572</td>\n",
              "      <td>0.449393</td>\n",
              "      <td>0.498325</td>\n",
              "      <td>0.224760</td>\n",
              "      <td>0.182745</td>\n",
              "      <td>0.302651</td>\n",
              "      <td>0.240566</td>\n",
              "      <td>0.300423</td>\n",
              "      <td>0.213036</td>\n",
              "      <td>0.241884</td>\n",
              "    </tr>\n",
              "    <tr>\n",
              "      <th>6</th>\n",
              "      <td>0.077240</td>\n",
              "      <td>0.144949</td>\n",
              "      <td>0.103429</td>\n",
              "      <td>0.014494</td>\n",
              "      <td>0.201222</td>\n",
              "      <td>0.260695</td>\n",
              "      <td>1.000000</td>\n",
              "      <td>0.336380</td>\n",
              "      <td>0.155718</td>\n",
              "      <td>0.174879</td>\n",
              "      <td>0.207725</td>\n",
              "      <td>0.075673</td>\n",
              "      <td>0.061529</td>\n",
              "      <td>0.128989</td>\n",
              "      <td>0.264102</td>\n",
              "      <td>0.234801</td>\n",
              "      <td>0.266598</td>\n",
              "      <td>0.087925</td>\n",
              "    </tr>\n",
              "    <tr>\n",
              "      <th>7</th>\n",
              "      <td>0.138325</td>\n",
              "      <td>0.241201</td>\n",
              "      <td>0.181051</td>\n",
              "      <td>0.026807</td>\n",
              "      <td>0.148079</td>\n",
              "      <td>0.389353</td>\n",
              "      <td>0.336380</td>\n",
              "      <td>1.000000</td>\n",
              "      <td>0.256900</td>\n",
              "      <td>0.289133</td>\n",
              "      <td>0.324263</td>\n",
              "      <td>0.138855</td>\n",
              "      <td>0.110451</td>\n",
              "      <td>0.202463</td>\n",
              "      <td>0.279357</td>\n",
              "      <td>0.310967</td>\n",
              "      <td>0.271798</td>\n",
              "      <td>0.157159</td>\n",
              "    </tr>\n",
              "    <tr>\n",
              "      <th>8</th>\n",
              "      <td>0.358864</td>\n",
              "      <td>0.473848</td>\n",
              "      <td>0.431214</td>\n",
              "      <td>0.071899</td>\n",
              "      <td>0.066814</td>\n",
              "      <td>0.415572</td>\n",
              "      <td>0.155718</td>\n",
              "      <td>0.256900</td>\n",
              "      <td>1.000000</td>\n",
              "      <td>0.631629</td>\n",
              "      <td>0.574501</td>\n",
              "      <td>0.351035</td>\n",
              "      <td>0.305765</td>\n",
              "      <td>0.335785</td>\n",
              "      <td>0.160220</td>\n",
              "      <td>0.216761</td>\n",
              "      <td>0.142933</td>\n",
              "      <td>0.333194</td>\n",
              "    </tr>\n",
              "    <tr>\n",
              "      <th>9</th>\n",
              "      <td>0.327983</td>\n",
              "      <td>0.476826</td>\n",
              "      <td>0.405691</td>\n",
              "      <td>0.063861</td>\n",
              "      <td>0.072348</td>\n",
              "      <td>0.449393</td>\n",
              "      <td>0.174879</td>\n",
              "      <td>0.289133</td>\n",
              "      <td>0.631629</td>\n",
              "      <td>1.000000</td>\n",
              "      <td>0.600124</td>\n",
              "      <td>0.321925</td>\n",
              "      <td>0.276860</td>\n",
              "      <td>0.322573</td>\n",
              "      <td>0.173541</td>\n",
              "      <td>0.234884</td>\n",
              "      <td>0.155685</td>\n",
              "      <td>0.306358</td>\n",
              "    </tr>\n",
              "    <tr>\n",
              "      <th>10</th>\n",
              "      <td>0.274260</td>\n",
              "      <td>0.434224</td>\n",
              "      <td>0.349551</td>\n",
              "      <td>0.052062</td>\n",
              "      <td>0.086540</td>\n",
              "      <td>0.498325</td>\n",
              "      <td>0.207725</td>\n",
              "      <td>0.324263</td>\n",
              "      <td>0.574501</td>\n",
              "      <td>0.600124</td>\n",
              "      <td>1.000000</td>\n",
              "      <td>0.264719</td>\n",
              "      <td>0.228017</td>\n",
              "      <td>0.309303</td>\n",
              "      <td>0.204089</td>\n",
              "      <td>0.266992</td>\n",
              "      <td>0.180049</td>\n",
              "      <td>0.273128</td>\n",
              "    </tr>\n",
              "    <tr>\n",
              "      <th>11</th>\n",
              "      <td>0.567748</td>\n",
              "      <td>0.384099</td>\n",
              "      <td>0.498328</td>\n",
              "      <td>0.149652</td>\n",
              "      <td>0.032446</td>\n",
              "      <td>0.224760</td>\n",
              "      <td>0.075673</td>\n",
              "      <td>0.138855</td>\n",
              "      <td>0.351035</td>\n",
              "      <td>0.321925</td>\n",
              "      <td>0.264719</td>\n",
              "      <td>1.000000</td>\n",
              "      <td>0.477185</td>\n",
              "      <td>0.264597</td>\n",
              "      <td>0.082778</td>\n",
              "      <td>0.118849</td>\n",
              "      <td>0.073042</td>\n",
              "      <td>0.378415</td>\n",
              "    </tr>\n",
              "    <tr>\n",
              "      <th>12</th>\n",
              "      <td>0.426545</td>\n",
              "      <td>0.293718</td>\n",
              "      <td>0.380135</td>\n",
              "      <td>0.174641</td>\n",
              "      <td>0.028379</td>\n",
              "      <td>0.182745</td>\n",
              "      <td>0.061529</td>\n",
              "      <td>0.110451</td>\n",
              "      <td>0.305765</td>\n",
              "      <td>0.276860</td>\n",
              "      <td>0.228017</td>\n",
              "      <td>0.477185</td>\n",
              "      <td>1.000000</td>\n",
              "      <td>0.255861</td>\n",
              "      <td>0.069924</td>\n",
              "      <td>0.100726</td>\n",
              "      <td>0.062327</td>\n",
              "      <td>0.396534</td>\n",
              "    </tr>\n",
              "    <tr>\n",
              "      <th>13</th>\n",
              "      <td>0.272937</td>\n",
              "      <td>0.344698</td>\n",
              "      <td>0.321828</td>\n",
              "      <td>0.074757</td>\n",
              "      <td>0.072194</td>\n",
              "      <td>0.302651</td>\n",
              "      <td>0.128989</td>\n",
              "      <td>0.202463</td>\n",
              "      <td>0.335785</td>\n",
              "      <td>0.322573</td>\n",
              "      <td>0.309303</td>\n",
              "      <td>0.264597</td>\n",
              "      <td>0.255861</td>\n",
              "      <td>1.000000</td>\n",
              "      <td>0.169162</td>\n",
              "      <td>0.218933</td>\n",
              "      <td>0.156635</td>\n",
              "      <td>0.348065</td>\n",
              "    </tr>\n",
              "    <tr>\n",
              "      <th>14</th>\n",
              "      <td>0.085779</td>\n",
              "      <td>0.151266</td>\n",
              "      <td>0.111554</td>\n",
              "      <td>0.018680</td>\n",
              "      <td>0.178496</td>\n",
              "      <td>0.240566</td>\n",
              "      <td>0.264102</td>\n",
              "      <td>0.279357</td>\n",
              "      <td>0.160220</td>\n",
              "      <td>0.173541</td>\n",
              "      <td>0.204089</td>\n",
              "      <td>0.082778</td>\n",
              "      <td>0.069924</td>\n",
              "      <td>0.169162</td>\n",
              "      <td>1.000000</td>\n",
              "      <td>0.473649</td>\n",
              "      <td>0.520428</td>\n",
              "      <td>0.113915</td>\n",
              "    </tr>\n",
              "    <tr>\n",
              "      <th>15</th>\n",
              "      <td>0.121755</td>\n",
              "      <td>0.203255</td>\n",
              "      <td>0.157323</td>\n",
              "      <td>0.026813</td>\n",
              "      <td>0.137164</td>\n",
              "      <td>0.300423</td>\n",
              "      <td>0.234801</td>\n",
              "      <td>0.310967</td>\n",
              "      <td>0.216761</td>\n",
              "      <td>0.234884</td>\n",
              "      <td>0.266992</td>\n",
              "      <td>0.118849</td>\n",
              "      <td>0.100726</td>\n",
              "      <td>0.218933</td>\n",
              "      <td>0.473649</td>\n",
              "      <td>1.000000</td>\n",
              "      <td>0.436475</td>\n",
              "      <td>0.159550</td>\n",
              "    </tr>\n",
              "    <tr>\n",
              "      <th>16</th>\n",
              "      <td>0.075753</td>\n",
              "      <td>0.133652</td>\n",
              "      <td>0.099492</td>\n",
              "      <td>0.016302</td>\n",
              "      <td>0.197764</td>\n",
              "      <td>0.213036</td>\n",
              "      <td>0.266598</td>\n",
              "      <td>0.271798</td>\n",
              "      <td>0.142933</td>\n",
              "      <td>0.155685</td>\n",
              "      <td>0.180049</td>\n",
              "      <td>0.073042</td>\n",
              "      <td>0.062327</td>\n",
              "      <td>0.156635</td>\n",
              "      <td>0.520428</td>\n",
              "      <td>0.436475</td>\n",
              "      <td>1.000000</td>\n",
              "      <td>0.101539</td>\n",
              "    </tr>\n",
              "    <tr>\n",
              "      <th>17</th>\n",
              "      <td>0.339667</td>\n",
              "      <td>0.314007</td>\n",
              "      <td>0.340455</td>\n",
              "      <td>0.111036</td>\n",
              "      <td>0.046304</td>\n",
              "      <td>0.241884</td>\n",
              "      <td>0.087925</td>\n",
              "      <td>0.157159</td>\n",
              "      <td>0.333194</td>\n",
              "      <td>0.306358</td>\n",
              "      <td>0.273128</td>\n",
              "      <td>0.378415</td>\n",
              "      <td>0.396534</td>\n",
              "      <td>0.348065</td>\n",
              "      <td>0.113915</td>\n",
              "      <td>0.159550</td>\n",
              "      <td>0.101539</td>\n",
              "      <td>1.000000</td>\n",
              "    </tr>\n",
              "  </tbody>\n",
              "</table>\n",
              "</div>"
            ],
            "text/plain": [
              "       Doc 1     Doc 2     Doc 3  ...    Doc 16    Doc 17    Doc 18\n",
              "0   1.000000  0.448781  0.612739  ...  0.121755  0.075753  0.339667\n",
              "1   0.448781  1.000000  0.575345  ...  0.203255  0.133652  0.314007\n",
              "2   0.612739  0.575345  1.000000  ...  0.157323  0.099492  0.340455\n",
              "3   0.132149  0.075149  0.104026  ...  0.026813  0.016302  0.111036\n",
              "4   0.033271  0.059940  0.043826  ...  0.137164  0.197764  0.046304\n",
              "5   0.224412  0.378212  0.288768  ...  0.300423  0.213036  0.241884\n",
              "6   0.077240  0.144949  0.103429  ...  0.234801  0.266598  0.087925\n",
              "7   0.138325  0.241201  0.181051  ...  0.310967  0.271798  0.157159\n",
              "8   0.358864  0.473848  0.431214  ...  0.216761  0.142933  0.333194\n",
              "9   0.327983  0.476826  0.405691  ...  0.234884  0.155685  0.306358\n",
              "10  0.274260  0.434224  0.349551  ...  0.266992  0.180049  0.273128\n",
              "11  0.567748  0.384099  0.498328  ...  0.118849  0.073042  0.378415\n",
              "12  0.426545  0.293718  0.380135  ...  0.100726  0.062327  0.396534\n",
              "13  0.272937  0.344698  0.321828  ...  0.218933  0.156635  0.348065\n",
              "14  0.085779  0.151266  0.111554  ...  0.473649  0.520428  0.113915\n",
              "15  0.121755  0.203255  0.157323  ...  1.000000  0.436475  0.159550\n",
              "16  0.075753  0.133652  0.099492  ...  0.436475  1.000000  0.101539\n",
              "17  0.339667  0.314007  0.340455  ...  0.159550  0.101539  1.000000\n",
              "\n",
              "[18 rows x 18 columns]"
            ]
          },
          "metadata": {},
          "execution_count": 60
        }
      ],
      "source": [
        "# Display pandas dataframe \n",
        "jaccardSim = allPair.create_dataframe(jaccard_sim)\n",
        "jaccardSim"
      ]
    },
    {
      "cell_type": "markdown",
      "metadata": {
        "id": "C6QgIgkWlHSx"
      },
      "source": [
        "Minimum Similarity for each document"
      ]
    },
    {
      "cell_type": "code",
      "execution_count": null,
      "metadata": {
        "colab": {
          "base_uri": "https://localhost:8080/",
          "height": 81
        },
        "id": "iimtiAmClHSy",
        "outputId": "23c4db7a-4172-47d7-b326-ddc9c2b1704b"
      },
      "outputs": [
        {
          "output_type": "execute_result",
          "data": {
            "text/html": [
              "<div>\n",
              "<style scoped>\n",
              "    .dataframe tbody tr th:only-of-type {\n",
              "        vertical-align: middle;\n",
              "    }\n",
              "\n",
              "    .dataframe tbody tr th {\n",
              "        vertical-align: top;\n",
              "    }\n",
              "\n",
              "    .dataframe thead th {\n",
              "        text-align: right;\n",
              "    }\n",
              "</style>\n",
              "<table border=\"1\" class=\"dataframe\">\n",
              "  <thead>\n",
              "    <tr style=\"text-align: right;\">\n",
              "      <th></th>\n",
              "      <th>Doc 1</th>\n",
              "      <th>Doc 2</th>\n",
              "      <th>Doc 3</th>\n",
              "      <th>Doc 4</th>\n",
              "      <th>Doc 5</th>\n",
              "      <th>Doc 6</th>\n",
              "      <th>Doc 7</th>\n",
              "      <th>Doc 8</th>\n",
              "      <th>Doc 9</th>\n",
              "      <th>Doc 10</th>\n",
              "      <th>Doc 11</th>\n",
              "      <th>Doc 12</th>\n",
              "      <th>Doc 13</th>\n",
              "      <th>Doc 14</th>\n",
              "      <th>Doc 15</th>\n",
              "      <th>Doc 16</th>\n",
              "      <th>Doc 17</th>\n",
              "      <th>Doc 18</th>\n",
              "    </tr>\n",
              "  </thead>\n",
              "  <tbody>\n",
              "    <tr>\n",
              "      <th>0</th>\n",
              "      <td>0.033271</td>\n",
              "      <td>0.05994</td>\n",
              "      <td>0.043826</td>\n",
              "      <td>0.007082</td>\n",
              "      <td>0.007082</td>\n",
              "      <td>0.045311</td>\n",
              "      <td>0.014494</td>\n",
              "      <td>0.026807</td>\n",
              "      <td>0.066814</td>\n",
              "      <td>0.063861</td>\n",
              "      <td>0.052062</td>\n",
              "      <td>0.032446</td>\n",
              "      <td>0.028379</td>\n",
              "      <td>0.072194</td>\n",
              "      <td>0.01868</td>\n",
              "      <td>0.026813</td>\n",
              "      <td>0.016302</td>\n",
              "      <td>0.046304</td>\n",
              "    </tr>\n",
              "  </tbody>\n",
              "</table>\n",
              "</div>"
            ],
            "text/plain": [
              "      Doc 1    Doc 2     Doc 3     Doc 4  ...   Doc 15    Doc 16    Doc 17    Doc 18\n",
              "0  0.033271  0.05994  0.043826  0.007082  ...  0.01868  0.026813  0.016302  0.046304\n",
              "\n",
              "[1 rows x 18 columns]"
            ]
          },
          "metadata": {},
          "execution_count": 61
        }
      ],
      "source": [
        "# Display pandas dataframe \n",
        "jaccardMin"
      ]
    },
    {
      "cell_type": "markdown",
      "metadata": {
        "id": "HC5oqhB9lHSy"
      },
      "source": [
        "Maximum Similarity for each document"
      ]
    },
    {
      "cell_type": "code",
      "execution_count": null,
      "metadata": {
        "colab": {
          "base_uri": "https://localhost:8080/",
          "height": 81
        },
        "id": "gNsE78gYlHSz",
        "outputId": "3636b63b-a54a-410d-d00a-18eaa9999ab8"
      },
      "outputs": [
        {
          "output_type": "execute_result",
          "data": {
            "text/html": [
              "<div>\n",
              "<style scoped>\n",
              "    .dataframe tbody tr th:only-of-type {\n",
              "        vertical-align: middle;\n",
              "    }\n",
              "\n",
              "    .dataframe tbody tr th {\n",
              "        vertical-align: top;\n",
              "    }\n",
              "\n",
              "    .dataframe thead th {\n",
              "        text-align: right;\n",
              "    }\n",
              "</style>\n",
              "<table border=\"1\" class=\"dataframe\">\n",
              "  <thead>\n",
              "    <tr style=\"text-align: right;\">\n",
              "      <th></th>\n",
              "      <th>Doc 1</th>\n",
              "      <th>Doc 2</th>\n",
              "      <th>Doc 3</th>\n",
              "      <th>Doc 4</th>\n",
              "      <th>Doc 5</th>\n",
              "      <th>Doc 6</th>\n",
              "      <th>Doc 7</th>\n",
              "      <th>Doc 8</th>\n",
              "      <th>Doc 9</th>\n",
              "      <th>Doc 10</th>\n",
              "      <th>Doc 11</th>\n",
              "      <th>Doc 12</th>\n",
              "      <th>Doc 13</th>\n",
              "      <th>Doc 14</th>\n",
              "      <th>Doc 15</th>\n",
              "      <th>Doc 16</th>\n",
              "      <th>Doc 17</th>\n",
              "      <th>Doc 18</th>\n",
              "    </tr>\n",
              "  </thead>\n",
              "  <tbody>\n",
              "    <tr>\n",
              "      <th>0</th>\n",
              "      <td>0.612739</td>\n",
              "      <td>0.575345</td>\n",
              "      <td>0.612739</td>\n",
              "      <td>0.174641</td>\n",
              "      <td>0.201222</td>\n",
              "      <td>0.498325</td>\n",
              "      <td>0.33638</td>\n",
              "      <td>0.389353</td>\n",
              "      <td>0.631629</td>\n",
              "      <td>0.631629</td>\n",
              "      <td>0.600124</td>\n",
              "      <td>0.567748</td>\n",
              "      <td>0.477185</td>\n",
              "      <td>0.348065</td>\n",
              "      <td>0.520428</td>\n",
              "      <td>0.473649</td>\n",
              "      <td>0.520428</td>\n",
              "      <td>0.396534</td>\n",
              "    </tr>\n",
              "  </tbody>\n",
              "</table>\n",
              "</div>"
            ],
            "text/plain": [
              "      Doc 1     Doc 2     Doc 3  ...    Doc 16    Doc 17    Doc 18\n",
              "0  0.612739  0.575345  0.612739  ...  0.473649  0.520428  0.396534\n",
              "\n",
              "[1 rows x 18 columns]"
            ]
          },
          "metadata": {},
          "execution_count": 62
        }
      ],
      "source": [
        "# Display pandas dataframe \n",
        "jaccardMax"
      ]
    },
    {
      "cell_type": "markdown",
      "metadata": {
        "id": "s44ML_EhlHSz"
      },
      "source": [
        "Maximum and minimum results"
      ]
    },
    {
      "cell_type": "code",
      "execution_count": null,
      "metadata": {
        "colab": {
          "base_uri": "https://localhost:8080/"
        },
        "id": "zq0FL89klHSz",
        "outputId": "c9960f0a-c976-4cfa-e784-3cdde67932c5"
      },
      "outputs": [
        {
          "output_type": "stream",
          "name": "stdout",
          "text": [
            "Minimum Similarity: 0    0.007082\n",
            "dtype: float64\n",
            "Maximum Similarity: 0    0.631629\n",
            "dtype: float64\n"
          ]
        }
      ],
      "source": [
        "# Finding min and max from pandas dataframe\n",
        "print(f\"Minimum Similarity: {jaccardMin.min(axis=1)}\")\n",
        "print(f\"Maximum Similarity: {jaccardMax.max(axis=1)}\")"
      ]
    },
    {
      "cell_type": "markdown",
      "metadata": {
        "id": "WEjXec174MiO"
      },
      "source": [
        "**Cosine (sphase) all pairs smillilarities**"
      ]
    },
    {
      "cell_type": "markdown",
      "metadata": {
        "id": "HWodxyqAlHS0"
      },
      "source": [
        "***Figure 4.2:*** Pandas dataframe with calculations of all pair similarities for all 18 documents in the gutenberg corpus. In the cells below the dataframe are the calculations of maximum and minimum similarity."
      ]
    },
    {
      "cell_type": "code",
      "execution_count": null,
      "metadata": {
        "colab": {
          "base_uri": "https://localhost:8080/",
          "height": 614
        },
        "id": "M3jgsw-cX-Ku",
        "outputId": "d730b868-153b-4a71-f330-7a382817099b"
      },
      "outputs": [
        {
          "output_type": "execute_result",
          "data": {
            "text/html": [
              "<div>\n",
              "<style scoped>\n",
              "    .dataframe tbody tr th:only-of-type {\n",
              "        vertical-align: middle;\n",
              "    }\n",
              "\n",
              "    .dataframe tbody tr th {\n",
              "        vertical-align: top;\n",
              "    }\n",
              "\n",
              "    .dataframe thead th {\n",
              "        text-align: right;\n",
              "    }\n",
              "</style>\n",
              "<table border=\"1\" class=\"dataframe\">\n",
              "  <thead>\n",
              "    <tr style=\"text-align: right;\">\n",
              "      <th></th>\n",
              "      <th>Doc 1</th>\n",
              "      <th>Doc 2</th>\n",
              "      <th>Doc 3</th>\n",
              "      <th>Doc 4</th>\n",
              "      <th>Doc 5</th>\n",
              "      <th>Doc 6</th>\n",
              "      <th>Doc 7</th>\n",
              "      <th>Doc 8</th>\n",
              "      <th>Doc 9</th>\n",
              "      <th>Doc 10</th>\n",
              "      <th>Doc 11</th>\n",
              "      <th>Doc 12</th>\n",
              "      <th>Doc 13</th>\n",
              "      <th>Doc 14</th>\n",
              "      <th>Doc 15</th>\n",
              "      <th>Doc 16</th>\n",
              "      <th>Doc 17</th>\n",
              "      <th>Doc 18</th>\n",
              "    </tr>\n",
              "  </thead>\n",
              "  <tbody>\n",
              "    <tr>\n",
              "      <th>0</th>\n",
              "      <td>1.000000</td>\n",
              "      <td>0.976089</td>\n",
              "      <td>0.981084</td>\n",
              "      <td>0.802430</td>\n",
              "      <td>0.854748</td>\n",
              "      <td>0.913085</td>\n",
              "      <td>0.860146</td>\n",
              "      <td>0.825656</td>\n",
              "      <td>0.914602</td>\n",
              "      <td>0.909199</td>\n",
              "      <td>0.910384</td>\n",
              "      <td>0.961473</td>\n",
              "      <td>0.909514</td>\n",
              "      <td>0.828398</td>\n",
              "      <td>0.859999</td>\n",
              "      <td>0.878289</td>\n",
              "      <td>0.847174</td>\n",
              "      <td>0.825771</td>\n",
              "    </tr>\n",
              "    <tr>\n",
              "      <th>1</th>\n",
              "      <td>0.976089</td>\n",
              "      <td>1.000000</td>\n",
              "      <td>0.985069</td>\n",
              "      <td>0.841390</td>\n",
              "      <td>0.883591</td>\n",
              "      <td>0.929556</td>\n",
              "      <td>0.850909</td>\n",
              "      <td>0.836517</td>\n",
              "      <td>0.915253</td>\n",
              "      <td>0.916269</td>\n",
              "      <td>0.909120</td>\n",
              "      <td>0.961670</td>\n",
              "      <td>0.940954</td>\n",
              "      <td>0.879619</td>\n",
              "      <td>0.849402</td>\n",
              "      <td>0.867845</td>\n",
              "      <td>0.842191</td>\n",
              "      <td>0.872930</td>\n",
              "    </tr>\n",
              "    <tr>\n",
              "      <th>2</th>\n",
              "      <td>0.981084</td>\n",
              "      <td>0.985069</td>\n",
              "      <td>1.000000</td>\n",
              "      <td>0.818372</td>\n",
              "      <td>0.874555</td>\n",
              "      <td>0.916376</td>\n",
              "      <td>0.841596</td>\n",
              "      <td>0.835783</td>\n",
              "      <td>0.906181</td>\n",
              "      <td>0.904605</td>\n",
              "      <td>0.900936</td>\n",
              "      <td>0.965454</td>\n",
              "      <td>0.924587</td>\n",
              "      <td>0.864311</td>\n",
              "      <td>0.853981</td>\n",
              "      <td>0.872123</td>\n",
              "      <td>0.843780</td>\n",
              "      <td>0.860564</td>\n",
              "    </tr>\n",
              "    <tr>\n",
              "      <th>3</th>\n",
              "      <td>0.802430</td>\n",
              "      <td>0.841390</td>\n",
              "      <td>0.818372</td>\n",
              "      <td>1.000000</td>\n",
              "      <td>0.872227</td>\n",
              "      <td>0.867195</td>\n",
              "      <td>0.749395</td>\n",
              "      <td>0.757874</td>\n",
              "      <td>0.850383</td>\n",
              "      <td>0.848108</td>\n",
              "      <td>0.835778</td>\n",
              "      <td>0.826238</td>\n",
              "      <td>0.885142</td>\n",
              "      <td>0.821027</td>\n",
              "      <td>0.808868</td>\n",
              "      <td>0.814520</td>\n",
              "      <td>0.808239</td>\n",
              "      <td>0.843401</td>\n",
              "    </tr>\n",
              "    <tr>\n",
              "      <th>4</th>\n",
              "      <td>0.854748</td>\n",
              "      <td>0.883591</td>\n",
              "      <td>0.874555</td>\n",
              "      <td>0.872227</td>\n",
              "      <td>1.000000</td>\n",
              "      <td>0.894530</td>\n",
              "      <td>0.764287</td>\n",
              "      <td>0.819127</td>\n",
              "      <td>0.849989</td>\n",
              "      <td>0.858091</td>\n",
              "      <td>0.853851</td>\n",
              "      <td>0.906870</td>\n",
              "      <td>0.927609</td>\n",
              "      <td>0.919761</td>\n",
              "      <td>0.890933</td>\n",
              "      <td>0.898225</td>\n",
              "      <td>0.894530</td>\n",
              "      <td>0.935862</td>\n",
              "    </tr>\n",
              "    <tr>\n",
              "      <th>5</th>\n",
              "      <td>0.913085</td>\n",
              "      <td>0.929556</td>\n",
              "      <td>0.916376</td>\n",
              "      <td>0.867195</td>\n",
              "      <td>0.894530</td>\n",
              "      <td>1.000000</td>\n",
              "      <td>0.893747</td>\n",
              "      <td>0.858827</td>\n",
              "      <td>0.958111</td>\n",
              "      <td>0.963416</td>\n",
              "      <td>0.956480</td>\n",
              "      <td>0.950426</td>\n",
              "      <td>0.951665</td>\n",
              "      <td>0.824393</td>\n",
              "      <td>0.814326</td>\n",
              "      <td>0.839911</td>\n",
              "      <td>0.817095</td>\n",
              "      <td>0.865979</td>\n",
              "    </tr>\n",
              "    <tr>\n",
              "      <th>6</th>\n",
              "      <td>0.860146</td>\n",
              "      <td>0.850909</td>\n",
              "      <td>0.841596</td>\n",
              "      <td>0.749395</td>\n",
              "      <td>0.764287</td>\n",
              "      <td>0.893747</td>\n",
              "      <td>1.000000</td>\n",
              "      <td>0.816836</td>\n",
              "      <td>0.893828</td>\n",
              "      <td>0.898563</td>\n",
              "      <td>0.895730</td>\n",
              "      <td>0.877410</td>\n",
              "      <td>0.845174</td>\n",
              "      <td>0.687152</td>\n",
              "      <td>0.772723</td>\n",
              "      <td>0.804635</td>\n",
              "      <td>0.789598</td>\n",
              "      <td>0.717416</td>\n",
              "    </tr>\n",
              "    <tr>\n",
              "      <th>7</th>\n",
              "      <td>0.825656</td>\n",
              "      <td>0.836517</td>\n",
              "      <td>0.835783</td>\n",
              "      <td>0.757874</td>\n",
              "      <td>0.819127</td>\n",
              "      <td>0.858827</td>\n",
              "      <td>0.816836</td>\n",
              "      <td>1.000000</td>\n",
              "      <td>0.827657</td>\n",
              "      <td>0.850491</td>\n",
              "      <td>0.824439</td>\n",
              "      <td>0.875676</td>\n",
              "      <td>0.858089</td>\n",
              "      <td>0.745962</td>\n",
              "      <td>0.774000</td>\n",
              "      <td>0.811872</td>\n",
              "      <td>0.813699</td>\n",
              "      <td>0.814404</td>\n",
              "    </tr>\n",
              "    <tr>\n",
              "      <th>8</th>\n",
              "      <td>0.914602</td>\n",
              "      <td>0.915253</td>\n",
              "      <td>0.906181</td>\n",
              "      <td>0.850383</td>\n",
              "      <td>0.849989</td>\n",
              "      <td>0.958111</td>\n",
              "      <td>0.893828</td>\n",
              "      <td>0.827657</td>\n",
              "      <td>1.000000</td>\n",
              "      <td>0.987626</td>\n",
              "      <td>0.989541</td>\n",
              "      <td>0.932280</td>\n",
              "      <td>0.938408</td>\n",
              "      <td>0.758495</td>\n",
              "      <td>0.800916</td>\n",
              "      <td>0.833683</td>\n",
              "      <td>0.802943</td>\n",
              "      <td>0.811808</td>\n",
              "    </tr>\n",
              "    <tr>\n",
              "      <th>9</th>\n",
              "      <td>0.909199</td>\n",
              "      <td>0.916269</td>\n",
              "      <td>0.904605</td>\n",
              "      <td>0.848108</td>\n",
              "      <td>0.858091</td>\n",
              "      <td>0.963416</td>\n",
              "      <td>0.898563</td>\n",
              "      <td>0.850491</td>\n",
              "      <td>0.987626</td>\n",
              "      <td>1.000000</td>\n",
              "      <td>0.985950</td>\n",
              "      <td>0.934158</td>\n",
              "      <td>0.948072</td>\n",
              "      <td>0.763496</td>\n",
              "      <td>0.788726</td>\n",
              "      <td>0.824808</td>\n",
              "      <td>0.795787</td>\n",
              "      <td>0.821645</td>\n",
              "    </tr>\n",
              "    <tr>\n",
              "      <th>10</th>\n",
              "      <td>0.910384</td>\n",
              "      <td>0.909120</td>\n",
              "      <td>0.900936</td>\n",
              "      <td>0.835778</td>\n",
              "      <td>0.853851</td>\n",
              "      <td>0.956480</td>\n",
              "      <td>0.895730</td>\n",
              "      <td>0.824439</td>\n",
              "      <td>0.989541</td>\n",
              "      <td>0.985950</td>\n",
              "      <td>1.000000</td>\n",
              "      <td>0.935054</td>\n",
              "      <td>0.935981</td>\n",
              "      <td>0.757471</td>\n",
              "      <td>0.809660</td>\n",
              "      <td>0.839140</td>\n",
              "      <td>0.810940</td>\n",
              "      <td>0.814241</td>\n",
              "    </tr>\n",
              "    <tr>\n",
              "      <th>11</th>\n",
              "      <td>0.961473</td>\n",
              "      <td>0.961670</td>\n",
              "      <td>0.965454</td>\n",
              "      <td>0.826238</td>\n",
              "      <td>0.906870</td>\n",
              "      <td>0.950426</td>\n",
              "      <td>0.877410</td>\n",
              "      <td>0.875676</td>\n",
              "      <td>0.932280</td>\n",
              "      <td>0.934158</td>\n",
              "      <td>0.935054</td>\n",
              "      <td>1.000000</td>\n",
              "      <td>0.944966</td>\n",
              "      <td>0.874783</td>\n",
              "      <td>0.889380</td>\n",
              "      <td>0.907116</td>\n",
              "      <td>0.886265</td>\n",
              "      <td>0.887274</td>\n",
              "    </tr>\n",
              "    <tr>\n",
              "      <th>12</th>\n",
              "      <td>0.909514</td>\n",
              "      <td>0.940954</td>\n",
              "      <td>0.924587</td>\n",
              "      <td>0.885142</td>\n",
              "      <td>0.927609</td>\n",
              "      <td>0.951665</td>\n",
              "      <td>0.845174</td>\n",
              "      <td>0.858089</td>\n",
              "      <td>0.938408</td>\n",
              "      <td>0.948072</td>\n",
              "      <td>0.935981</td>\n",
              "      <td>0.944966</td>\n",
              "      <td>1.000000</td>\n",
              "      <td>0.891684</td>\n",
              "      <td>0.846531</td>\n",
              "      <td>0.872562</td>\n",
              "      <td>0.851818</td>\n",
              "      <td>0.928090</td>\n",
              "    </tr>\n",
              "    <tr>\n",
              "      <th>13</th>\n",
              "      <td>0.828398</td>\n",
              "      <td>0.879619</td>\n",
              "      <td>0.864311</td>\n",
              "      <td>0.821027</td>\n",
              "      <td>0.919761</td>\n",
              "      <td>0.824393</td>\n",
              "      <td>0.687152</td>\n",
              "      <td>0.745962</td>\n",
              "      <td>0.758495</td>\n",
              "      <td>0.763496</td>\n",
              "      <td>0.757471</td>\n",
              "      <td>0.874783</td>\n",
              "      <td>0.891684</td>\n",
              "      <td>1.000000</td>\n",
              "      <td>0.861848</td>\n",
              "      <td>0.857108</td>\n",
              "      <td>0.854553</td>\n",
              "      <td>0.932585</td>\n",
              "    </tr>\n",
              "    <tr>\n",
              "      <th>14</th>\n",
              "      <td>0.859999</td>\n",
              "      <td>0.849402</td>\n",
              "      <td>0.853981</td>\n",
              "      <td>0.808868</td>\n",
              "      <td>0.890933</td>\n",
              "      <td>0.814326</td>\n",
              "      <td>0.772723</td>\n",
              "      <td>0.774000</td>\n",
              "      <td>0.800916</td>\n",
              "      <td>0.788726</td>\n",
              "      <td>0.809660</td>\n",
              "      <td>0.889380</td>\n",
              "      <td>0.846531</td>\n",
              "      <td>0.861848</td>\n",
              "      <td>1.000000</td>\n",
              "      <td>0.974957</td>\n",
              "      <td>0.974458</td>\n",
              "      <td>0.853676</td>\n",
              "    </tr>\n",
              "    <tr>\n",
              "      <th>15</th>\n",
              "      <td>0.878289</td>\n",
              "      <td>0.867845</td>\n",
              "      <td>0.872123</td>\n",
              "      <td>0.814520</td>\n",
              "      <td>0.898225</td>\n",
              "      <td>0.839911</td>\n",
              "      <td>0.804635</td>\n",
              "      <td>0.811872</td>\n",
              "      <td>0.833683</td>\n",
              "      <td>0.824808</td>\n",
              "      <td>0.839140</td>\n",
              "      <td>0.907116</td>\n",
              "      <td>0.872562</td>\n",
              "      <td>0.857108</td>\n",
              "      <td>0.974957</td>\n",
              "      <td>1.000000</td>\n",
              "      <td>0.978513</td>\n",
              "      <td>0.851741</td>\n",
              "    </tr>\n",
              "    <tr>\n",
              "      <th>16</th>\n",
              "      <td>0.847174</td>\n",
              "      <td>0.842191</td>\n",
              "      <td>0.843780</td>\n",
              "      <td>0.808239</td>\n",
              "      <td>0.894530</td>\n",
              "      <td>0.817095</td>\n",
              "      <td>0.789598</td>\n",
              "      <td>0.813699</td>\n",
              "      <td>0.802943</td>\n",
              "      <td>0.795787</td>\n",
              "      <td>0.810940</td>\n",
              "      <td>0.886265</td>\n",
              "      <td>0.851818</td>\n",
              "      <td>0.854553</td>\n",
              "      <td>0.974458</td>\n",
              "      <td>0.978513</td>\n",
              "      <td>1.000000</td>\n",
              "      <td>0.854410</td>\n",
              "    </tr>\n",
              "    <tr>\n",
              "      <th>17</th>\n",
              "      <td>0.825771</td>\n",
              "      <td>0.872930</td>\n",
              "      <td>0.860564</td>\n",
              "      <td>0.843401</td>\n",
              "      <td>0.935862</td>\n",
              "      <td>0.865979</td>\n",
              "      <td>0.717416</td>\n",
              "      <td>0.814404</td>\n",
              "      <td>0.811808</td>\n",
              "      <td>0.821645</td>\n",
              "      <td>0.814241</td>\n",
              "      <td>0.887274</td>\n",
              "      <td>0.928090</td>\n",
              "      <td>0.932585</td>\n",
              "      <td>0.853676</td>\n",
              "      <td>0.851741</td>\n",
              "      <td>0.854410</td>\n",
              "      <td>1.000000</td>\n",
              "    </tr>\n",
              "  </tbody>\n",
              "</table>\n",
              "</div>"
            ],
            "text/plain": [
              "       Doc 1     Doc 2     Doc 3  ...    Doc 16    Doc 17    Doc 18\n",
              "0   1.000000  0.976089  0.981084  ...  0.878289  0.847174  0.825771\n",
              "1   0.976089  1.000000  0.985069  ...  0.867845  0.842191  0.872930\n",
              "2   0.981084  0.985069  1.000000  ...  0.872123  0.843780  0.860564\n",
              "3   0.802430  0.841390  0.818372  ...  0.814520  0.808239  0.843401\n",
              "4   0.854748  0.883591  0.874555  ...  0.898225  0.894530  0.935862\n",
              "5   0.913085  0.929556  0.916376  ...  0.839911  0.817095  0.865979\n",
              "6   0.860146  0.850909  0.841596  ...  0.804635  0.789598  0.717416\n",
              "7   0.825656  0.836517  0.835783  ...  0.811872  0.813699  0.814404\n",
              "8   0.914602  0.915253  0.906181  ...  0.833683  0.802943  0.811808\n",
              "9   0.909199  0.916269  0.904605  ...  0.824808  0.795787  0.821645\n",
              "10  0.910384  0.909120  0.900936  ...  0.839140  0.810940  0.814241\n",
              "11  0.961473  0.961670  0.965454  ...  0.907116  0.886265  0.887274\n",
              "12  0.909514  0.940954  0.924587  ...  0.872562  0.851818  0.928090\n",
              "13  0.828398  0.879619  0.864311  ...  0.857108  0.854553  0.932585\n",
              "14  0.859999  0.849402  0.853981  ...  0.974957  0.974458  0.853676\n",
              "15  0.878289  0.867845  0.872123  ...  1.000000  0.978513  0.851741\n",
              "16  0.847174  0.842191  0.843780  ...  0.978513  1.000000  0.854410\n",
              "17  0.825771  0.872930  0.860564  ...  0.851741  0.854410  1.000000\n",
              "\n",
              "[18 rows x 18 columns]"
            ]
          },
          "metadata": {},
          "execution_count": 64
        }
      ],
      "source": [
        "# Display pandas dataframe \n",
        "sparseSim = allPair.create_dataframe(sparse_sim)\n",
        "sparseSim"
      ]
    },
    {
      "cell_type": "markdown",
      "metadata": {
        "id": "bw6DIj0YlHS1"
      },
      "source": [
        "Minimum Similarity for each document"
      ]
    },
    {
      "cell_type": "code",
      "execution_count": null,
      "metadata": {
        "colab": {
          "base_uri": "https://localhost:8080/",
          "height": 81
        },
        "id": "sG8sbc4LlHS1",
        "outputId": "23bf336d-9a3c-4d55-adf1-0d9d1d8301ca"
      },
      "outputs": [
        {
          "output_type": "execute_result",
          "data": {
            "text/html": [
              "<div>\n",
              "<style scoped>\n",
              "    .dataframe tbody tr th:only-of-type {\n",
              "        vertical-align: middle;\n",
              "    }\n",
              "\n",
              "    .dataframe tbody tr th {\n",
              "        vertical-align: top;\n",
              "    }\n",
              "\n",
              "    .dataframe thead th {\n",
              "        text-align: right;\n",
              "    }\n",
              "</style>\n",
              "<table border=\"1\" class=\"dataframe\">\n",
              "  <thead>\n",
              "    <tr style=\"text-align: right;\">\n",
              "      <th></th>\n",
              "      <th>Doc 1</th>\n",
              "      <th>Doc 2</th>\n",
              "      <th>Doc 3</th>\n",
              "      <th>Doc 4</th>\n",
              "      <th>Doc 5</th>\n",
              "      <th>Doc 6</th>\n",
              "      <th>Doc 7</th>\n",
              "      <th>Doc 8</th>\n",
              "      <th>Doc 9</th>\n",
              "      <th>Doc 10</th>\n",
              "      <th>Doc 11</th>\n",
              "      <th>Doc 12</th>\n",
              "      <th>Doc 13</th>\n",
              "      <th>Doc 14</th>\n",
              "      <th>Doc 15</th>\n",
              "      <th>Doc 16</th>\n",
              "      <th>Doc 17</th>\n",
              "      <th>Doc 18</th>\n",
              "    </tr>\n",
              "  </thead>\n",
              "  <tbody>\n",
              "    <tr>\n",
              "      <th>0</th>\n",
              "      <td>0.80243</td>\n",
              "      <td>0.836517</td>\n",
              "      <td>0.818372</td>\n",
              "      <td>0.749395</td>\n",
              "      <td>0.764287</td>\n",
              "      <td>0.814326</td>\n",
              "      <td>0.687152</td>\n",
              "      <td>0.745962</td>\n",
              "      <td>0.758495</td>\n",
              "      <td>0.763496</td>\n",
              "      <td>0.757471</td>\n",
              "      <td>0.826238</td>\n",
              "      <td>0.845174</td>\n",
              "      <td>0.687152</td>\n",
              "      <td>0.772723</td>\n",
              "      <td>0.804635</td>\n",
              "      <td>0.789598</td>\n",
              "      <td>0.717416</td>\n",
              "    </tr>\n",
              "  </tbody>\n",
              "</table>\n",
              "</div>"
            ],
            "text/plain": [
              "     Doc 1     Doc 2     Doc 3  ...    Doc 16    Doc 17    Doc 18\n",
              "0  0.80243  0.836517  0.818372  ...  0.804635  0.789598  0.717416\n",
              "\n",
              "[1 rows x 18 columns]"
            ]
          },
          "metadata": {},
          "execution_count": 65
        }
      ],
      "source": [
        "# Display pandas dataframe \n",
        "sparseMin\n"
      ]
    },
    {
      "cell_type": "markdown",
      "metadata": {
        "id": "Riu6FA5MlHS2"
      },
      "source": [
        "Maximum Similarity for each document"
      ]
    },
    {
      "cell_type": "code",
      "execution_count": null,
      "metadata": {
        "colab": {
          "base_uri": "https://localhost:8080/",
          "height": 81
        },
        "id": "8EjvGrktlHS2",
        "outputId": "562f9dff-76d4-4db2-f42b-e9848dae7594"
      },
      "outputs": [
        {
          "output_type": "execute_result",
          "data": {
            "text/html": [
              "<div>\n",
              "<style scoped>\n",
              "    .dataframe tbody tr th:only-of-type {\n",
              "        vertical-align: middle;\n",
              "    }\n",
              "\n",
              "    .dataframe tbody tr th {\n",
              "        vertical-align: top;\n",
              "    }\n",
              "\n",
              "    .dataframe thead th {\n",
              "        text-align: right;\n",
              "    }\n",
              "</style>\n",
              "<table border=\"1\" class=\"dataframe\">\n",
              "  <thead>\n",
              "    <tr style=\"text-align: right;\">\n",
              "      <th></th>\n",
              "      <th>Doc 9</th>\n",
              "      <th>Doc 11</th>\n",
              "      <th>Doc 10</th>\n",
              "      <th>Doc 3</th>\n",
              "      <th>Doc 2</th>\n",
              "      <th>Doc 1</th>\n",
              "      <th>Doc 16</th>\n",
              "      <th>Doc 17</th>\n",
              "      <th>Doc 15</th>\n",
              "      <th>Doc 12</th>\n",
              "      <th>Doc 6</th>\n",
              "      <th>Doc 13</th>\n",
              "      <th>Doc 5</th>\n",
              "      <th>Doc 18</th>\n",
              "      <th>Doc 14</th>\n",
              "      <th>Doc 7</th>\n",
              "      <th>Doc 4</th>\n",
              "      <th>Doc 8</th>\n",
              "    </tr>\n",
              "  </thead>\n",
              "  <tbody>\n",
              "    <tr>\n",
              "      <th>0</th>\n",
              "      <td>0.989541</td>\n",
              "      <td>0.989541</td>\n",
              "      <td>0.987626</td>\n",
              "      <td>0.985069</td>\n",
              "      <td>0.985069</td>\n",
              "      <td>0.981084</td>\n",
              "      <td>0.978513</td>\n",
              "      <td>0.978513</td>\n",
              "      <td>0.974957</td>\n",
              "      <td>0.965454</td>\n",
              "      <td>0.963416</td>\n",
              "      <td>0.951665</td>\n",
              "      <td>0.935862</td>\n",
              "      <td>0.935862</td>\n",
              "      <td>0.932585</td>\n",
              "      <td>0.898563</td>\n",
              "      <td>0.885142</td>\n",
              "      <td>0.875676</td>\n",
              "    </tr>\n",
              "  </tbody>\n",
              "</table>\n",
              "</div>"
            ],
            "text/plain": [
              "      Doc 9    Doc 11    Doc 10  ...     Doc 7     Doc 4     Doc 8\n",
              "0  0.989541  0.989541  0.987626  ...  0.898563  0.885142  0.875676\n",
              "\n",
              "[1 rows x 18 columns]"
            ]
          },
          "metadata": {},
          "execution_count": 66
        }
      ],
      "source": [
        "# Display pandas dataframe \n",
        "df=sparseMax.sort_values(by=0, ascending=False, axis=1) \n",
        "df"
      ]
    },
    {
      "cell_type": "markdown",
      "metadata": {
        "id": "iZetSjMClHS3"
      },
      "source": [
        "Maximum and minimum similarity results for all pairs "
      ]
    },
    {
      "cell_type": "code",
      "execution_count": null,
      "metadata": {
        "colab": {
          "base_uri": "https://localhost:8080/"
        },
        "id": "pduHnAmKlHS3",
        "outputId": "0f7cc581-b4ac-473b-8ab5-d166105949a5"
      },
      "outputs": [
        {
          "output_type": "stream",
          "name": "stdout",
          "text": [
            "Minimum Similarity: 0    0.687152\n",
            "dtype: float64\n",
            "Maximum Similarity: 0    0.989541\n",
            "dtype: float64\n"
          ]
        }
      ],
      "source": [
        "# Finding min and max from pandas dataframe\n",
        "print(f\"Minimum Similarity: {sparseMin.min(axis=1)}\")\n",
        "print(f\"Maximum Similarity: {sparseMax.max(axis=1)}\")"
      ]
    },
    {
      "cell_type": "markdown",
      "metadata": {
        "id": "p9tF-2BVlHS3"
      },
      "source": [
        "# **Figures 4.3 - 4.4:** Average Runtime of All Pairs Similiarities**"
      ]
    },
    {
      "cell_type": "code",
      "execution_count": null,
      "metadata": {
        "id": "7QZ-nORVlHS3"
      },
      "outputs": [],
      "source": [
        "epochs = 10\n",
        "jaccard_runtime, sparse_runtime = allPair.all_pair_average_runtime(epochs)"
      ]
    },
    {
      "cell_type": "markdown",
      "metadata": {
        "id": "Ngzd_ZtW4tnt"
      },
      "source": [
        "**Jaccard's all pairs average runtimes**"
      ]
    },
    {
      "cell_type": "markdown",
      "metadata": {
        "id": "Qzxasy76lHS4"
      },
      "source": [
        "***Figure 4.3:*** Pandas dataframe with calculations of all pair runtimes for all 18 documents in the gutenberg corpus. In the cells below the dataframe are the calculations of maximum and minimum similarity."
      ]
    },
    {
      "cell_type": "code",
      "execution_count": null,
      "metadata": {
        "colab": {
          "base_uri": "https://localhost:8080/",
          "height": 614
        },
        "id": "tgUGTPLSeFFs",
        "outputId": "3770eb42-c639-40c6-8db7-75ec505b5642"
      },
      "outputs": [
        {
          "output_type": "execute_result",
          "data": {
            "text/html": [
              "<div>\n",
              "<style scoped>\n",
              "    .dataframe tbody tr th:only-of-type {\n",
              "        vertical-align: middle;\n",
              "    }\n",
              "\n",
              "    .dataframe tbody tr th {\n",
              "        vertical-align: top;\n",
              "    }\n",
              "\n",
              "    .dataframe thead th {\n",
              "        text-align: right;\n",
              "    }\n",
              "</style>\n",
              "<table border=\"1\" class=\"dataframe\">\n",
              "  <thead>\n",
              "    <tr style=\"text-align: right;\">\n",
              "      <th></th>\n",
              "      <th>Doc 1</th>\n",
              "      <th>Doc 2</th>\n",
              "      <th>Doc 3</th>\n",
              "      <th>Doc 4</th>\n",
              "      <th>Doc 5</th>\n",
              "      <th>Doc 6</th>\n",
              "      <th>Doc 7</th>\n",
              "      <th>Doc 8</th>\n",
              "      <th>Doc 9</th>\n",
              "      <th>Doc 10</th>\n",
              "      <th>Doc 11</th>\n",
              "      <th>Doc 12</th>\n",
              "      <th>Doc 13</th>\n",
              "      <th>Doc 14</th>\n",
              "      <th>Doc 15</th>\n",
              "      <th>Doc 16</th>\n",
              "      <th>Doc 17</th>\n",
              "      <th>Doc 18</th>\n",
              "    </tr>\n",
              "  </thead>\n",
              "  <tbody>\n",
              "    <tr>\n",
              "      <th>0</th>\n",
              "      <td>0.004943</td>\n",
              "      <td>0.003254</td>\n",
              "      <td>0.012314</td>\n",
              "      <td>0.006646</td>\n",
              "      <td>0.000878</td>\n",
              "      <td>0.001902</td>\n",
              "      <td>0.000930</td>\n",
              "      <td>0.001527</td>\n",
              "      <td>0.004346</td>\n",
              "      <td>0.003779</td>\n",
              "      <td>0.003151</td>\n",
              "      <td>0.005807</td>\n",
              "      <td>0.008599</td>\n",
              "      <td>0.004492</td>\n",
              "      <td>0.001354</td>\n",
              "      <td>0.001837</td>\n",
              "      <td>0.001477</td>\n",
              "      <td>0.006406</td>\n",
              "    </tr>\n",
              "    <tr>\n",
              "      <th>1</th>\n",
              "      <td>0.004127</td>\n",
              "      <td>0.003691</td>\n",
              "      <td>0.007975</td>\n",
              "      <td>0.006209</td>\n",
              "      <td>0.000702</td>\n",
              "      <td>0.001713</td>\n",
              "      <td>0.000792</td>\n",
              "      <td>0.001375</td>\n",
              "      <td>0.004094</td>\n",
              "      <td>0.003470</td>\n",
              "      <td>0.002632</td>\n",
              "      <td>0.004791</td>\n",
              "      <td>0.007987</td>\n",
              "      <td>0.004811</td>\n",
              "      <td>0.001105</td>\n",
              "      <td>0.001544</td>\n",
              "      <td>0.001179</td>\n",
              "      <td>0.006030</td>\n",
              "    </tr>\n",
              "    <tr>\n",
              "      <th>2</th>\n",
              "      <td>0.004374</td>\n",
              "      <td>0.003598</td>\n",
              "      <td>0.009745</td>\n",
              "      <td>0.006828</td>\n",
              "      <td>0.000745</td>\n",
              "      <td>0.002259</td>\n",
              "      <td>0.000838</td>\n",
              "      <td>0.001658</td>\n",
              "      <td>0.003993</td>\n",
              "      <td>0.003272</td>\n",
              "      <td>0.003306</td>\n",
              "      <td>0.004944</td>\n",
              "      <td>0.008537</td>\n",
              "      <td>0.004412</td>\n",
              "      <td>0.001401</td>\n",
              "      <td>0.001719</td>\n",
              "      <td>0.001272</td>\n",
              "      <td>0.006158</td>\n",
              "    </tr>\n",
              "    <tr>\n",
              "      <th>3</th>\n",
              "      <td>0.004583</td>\n",
              "      <td>0.003585</td>\n",
              "      <td>0.011966</td>\n",
              "      <td>0.009315</td>\n",
              "      <td>0.001503</td>\n",
              "      <td>0.002629</td>\n",
              "      <td>0.001186</td>\n",
              "      <td>0.001843</td>\n",
              "      <td>0.005134</td>\n",
              "      <td>0.004680</td>\n",
              "      <td>0.004501</td>\n",
              "      <td>0.005755</td>\n",
              "      <td>0.010637</td>\n",
              "      <td>0.005858</td>\n",
              "      <td>0.001787</td>\n",
              "      <td>0.002397</td>\n",
              "      <td>0.001892</td>\n",
              "      <td>0.007824</td>\n",
              "    </tr>\n",
              "    <tr>\n",
              "      <th>4</th>\n",
              "      <td>0.001930</td>\n",
              "      <td>0.001457</td>\n",
              "      <td>0.007826</td>\n",
              "      <td>0.004427</td>\n",
              "      <td>0.000825</td>\n",
              "      <td>0.001101</td>\n",
              "      <td>0.000486</td>\n",
              "      <td>0.000778</td>\n",
              "      <td>0.002473</td>\n",
              "      <td>0.002012</td>\n",
              "      <td>0.001664</td>\n",
              "      <td>0.002610</td>\n",
              "      <td>0.006206</td>\n",
              "      <td>0.002757</td>\n",
              "      <td>0.000821</td>\n",
              "      <td>0.001197</td>\n",
              "      <td>0.000899</td>\n",
              "      <td>0.004630</td>\n",
              "    </tr>\n",
              "    <tr>\n",
              "      <th>5</th>\n",
              "      <td>0.002437</td>\n",
              "      <td>0.001893</td>\n",
              "      <td>0.005952</td>\n",
              "      <td>0.005764</td>\n",
              "      <td>0.000699</td>\n",
              "      <td>0.002015</td>\n",
              "      <td>0.000753</td>\n",
              "      <td>0.001156</td>\n",
              "      <td>0.003101</td>\n",
              "      <td>0.003197</td>\n",
              "      <td>0.002370</td>\n",
              "      <td>0.004255</td>\n",
              "      <td>0.007395</td>\n",
              "      <td>0.003533</td>\n",
              "      <td>0.001000</td>\n",
              "      <td>0.001494</td>\n",
              "      <td>0.001099</td>\n",
              "      <td>0.005688</td>\n",
              "    </tr>\n",
              "    <tr>\n",
              "      <th>6</th>\n",
              "      <td>0.001779</td>\n",
              "      <td>0.001788</td>\n",
              "      <td>0.006025</td>\n",
              "      <td>0.004654</td>\n",
              "      <td>0.000463</td>\n",
              "      <td>0.001095</td>\n",
              "      <td>0.000897</td>\n",
              "      <td>0.000825</td>\n",
              "      <td>0.002000</td>\n",
              "      <td>0.001889</td>\n",
              "      <td>0.001643</td>\n",
              "      <td>0.003220</td>\n",
              "      <td>0.006351</td>\n",
              "      <td>0.002792</td>\n",
              "      <td>0.000783</td>\n",
              "      <td>0.001111</td>\n",
              "      <td>0.000875</td>\n",
              "      <td>0.004810</td>\n",
              "    </tr>\n",
              "    <tr>\n",
              "      <th>7</th>\n",
              "      <td>0.002029</td>\n",
              "      <td>0.001742</td>\n",
              "      <td>0.009426</td>\n",
              "      <td>0.005417</td>\n",
              "      <td>0.000575</td>\n",
              "      <td>0.001352</td>\n",
              "      <td>0.000653</td>\n",
              "      <td>0.001346</td>\n",
              "      <td>0.002447</td>\n",
              "      <td>0.002093</td>\n",
              "      <td>0.002059</td>\n",
              "      <td>0.003475</td>\n",
              "      <td>0.007005</td>\n",
              "      <td>0.002679</td>\n",
              "      <td>0.000880</td>\n",
              "      <td>0.001288</td>\n",
              "      <td>0.000954</td>\n",
              "      <td>0.005053</td>\n",
              "    </tr>\n",
              "    <tr>\n",
              "      <th>8</th>\n",
              "      <td>0.003568</td>\n",
              "      <td>0.002917</td>\n",
              "      <td>0.007078</td>\n",
              "      <td>0.006714</td>\n",
              "      <td>0.000862</td>\n",
              "      <td>0.001987</td>\n",
              "      <td>0.001022</td>\n",
              "      <td>0.001498</td>\n",
              "      <td>0.004755</td>\n",
              "      <td>0.004015</td>\n",
              "      <td>0.004049</td>\n",
              "      <td>0.004785</td>\n",
              "      <td>0.009902</td>\n",
              "      <td>0.004868</td>\n",
              "      <td>0.001265</td>\n",
              "      <td>0.001961</td>\n",
              "      <td>0.001356</td>\n",
              "      <td>0.006929</td>\n",
              "    </tr>\n",
              "    <tr>\n",
              "      <th>9</th>\n",
              "      <td>0.003831</td>\n",
              "      <td>0.003117</td>\n",
              "      <td>0.010225</td>\n",
              "      <td>0.006641</td>\n",
              "      <td>0.000850</td>\n",
              "      <td>0.002327</td>\n",
              "      <td>0.000973</td>\n",
              "      <td>0.001497</td>\n",
              "      <td>0.004947</td>\n",
              "      <td>0.004394</td>\n",
              "      <td>0.003476</td>\n",
              "      <td>0.005210</td>\n",
              "      <td>0.009619</td>\n",
              "      <td>0.004631</td>\n",
              "      <td>0.001219</td>\n",
              "      <td>0.001816</td>\n",
              "      <td>0.001322</td>\n",
              "      <td>0.006811</td>\n",
              "    </tr>\n",
              "    <tr>\n",
              "      <th>10</th>\n",
              "      <td>0.003825</td>\n",
              "      <td>0.002618</td>\n",
              "      <td>0.009632</td>\n",
              "      <td>0.006150</td>\n",
              "      <td>0.000776</td>\n",
              "      <td>0.001743</td>\n",
              "      <td>0.000877</td>\n",
              "      <td>0.001383</td>\n",
              "      <td>0.004421</td>\n",
              "      <td>0.003747</td>\n",
              "      <td>0.003765</td>\n",
              "      <td>0.004659</td>\n",
              "      <td>0.008921</td>\n",
              "      <td>0.004699</td>\n",
              "      <td>0.001168</td>\n",
              "      <td>0.001602</td>\n",
              "      <td>0.001233</td>\n",
              "      <td>0.006252</td>\n",
              "    </tr>\n",
              "    <tr>\n",
              "      <th>11</th>\n",
              "      <td>0.004419</td>\n",
              "      <td>0.003757</td>\n",
              "      <td>0.003761</td>\n",
              "      <td>0.006911</td>\n",
              "      <td>0.000948</td>\n",
              "      <td>0.002363</td>\n",
              "      <td>0.001371</td>\n",
              "      <td>0.001588</td>\n",
              "      <td>0.005130</td>\n",
              "      <td>0.004531</td>\n",
              "      <td>0.003607</td>\n",
              "      <td>0.005562</td>\n",
              "      <td>0.009843</td>\n",
              "      <td>0.005272</td>\n",
              "      <td>0.001499</td>\n",
              "      <td>0.002028</td>\n",
              "      <td>0.001490</td>\n",
              "      <td>0.007353</td>\n",
              "    </tr>\n",
              "    <tr>\n",
              "      <th>12</th>\n",
              "      <td>0.005611</td>\n",
              "      <td>0.005135</td>\n",
              "      <td>0.005007</td>\n",
              "      <td>0.008965</td>\n",
              "      <td>0.001395</td>\n",
              "      <td>0.003210</td>\n",
              "      <td>0.001656</td>\n",
              "      <td>0.002191</td>\n",
              "      <td>0.006507</td>\n",
              "      <td>0.006178</td>\n",
              "      <td>0.005124</td>\n",
              "      <td>0.007123</td>\n",
              "      <td>0.013230</td>\n",
              "      <td>0.007099</td>\n",
              "      <td>0.002163</td>\n",
              "      <td>0.003173</td>\n",
              "      <td>0.002577</td>\n",
              "      <td>0.009705</td>\n",
              "    </tr>\n",
              "    <tr>\n",
              "      <th>13</th>\n",
              "      <td>0.003578</td>\n",
              "      <td>0.006182</td>\n",
              "      <td>0.004222</td>\n",
              "      <td>0.007480</td>\n",
              "      <td>0.001047</td>\n",
              "      <td>0.002085</td>\n",
              "      <td>0.001086</td>\n",
              "      <td>0.001471</td>\n",
              "      <td>0.004272</td>\n",
              "      <td>0.004078</td>\n",
              "      <td>0.003878</td>\n",
              "      <td>0.005365</td>\n",
              "      <td>0.009153</td>\n",
              "      <td>0.006207</td>\n",
              "      <td>0.001936</td>\n",
              "      <td>0.002391</td>\n",
              "      <td>0.001819</td>\n",
              "      <td>0.007131</td>\n",
              "    </tr>\n",
              "    <tr>\n",
              "      <th>14</th>\n",
              "      <td>0.002001</td>\n",
              "      <td>0.006005</td>\n",
              "      <td>0.001693</td>\n",
              "      <td>0.005093</td>\n",
              "      <td>0.000547</td>\n",
              "      <td>0.001249</td>\n",
              "      <td>0.000581</td>\n",
              "      <td>0.000861</td>\n",
              "      <td>0.002678</td>\n",
              "      <td>0.002271</td>\n",
              "      <td>0.001797</td>\n",
              "      <td>0.002819</td>\n",
              "      <td>0.006555</td>\n",
              "      <td>0.003013</td>\n",
              "      <td>0.001672</td>\n",
              "      <td>0.001776</td>\n",
              "      <td>0.001538</td>\n",
              "      <td>0.004968</td>\n",
              "    </tr>\n",
              "    <tr>\n",
              "      <th>15</th>\n",
              "      <td>0.002595</td>\n",
              "      <td>0.008405</td>\n",
              "      <td>0.001935</td>\n",
              "      <td>0.005626</td>\n",
              "      <td>0.000657</td>\n",
              "      <td>0.001267</td>\n",
              "      <td>0.000619</td>\n",
              "      <td>0.001264</td>\n",
              "      <td>0.003025</td>\n",
              "      <td>0.002714</td>\n",
              "      <td>0.002243</td>\n",
              "      <td>0.002945</td>\n",
              "      <td>0.006881</td>\n",
              "      <td>0.004218</td>\n",
              "      <td>0.001378</td>\n",
              "      <td>0.002767</td>\n",
              "      <td>0.001552</td>\n",
              "      <td>0.005160</td>\n",
              "    </tr>\n",
              "    <tr>\n",
              "      <th>16</th>\n",
              "      <td>0.002362</td>\n",
              "      <td>0.005104</td>\n",
              "      <td>0.001820</td>\n",
              "      <td>0.005251</td>\n",
              "      <td>0.000565</td>\n",
              "      <td>0.001143</td>\n",
              "      <td>0.000550</td>\n",
              "      <td>0.000921</td>\n",
              "      <td>0.003256</td>\n",
              "      <td>0.002625</td>\n",
              "      <td>0.002339</td>\n",
              "      <td>0.002517</td>\n",
              "      <td>0.006396</td>\n",
              "      <td>0.003243</td>\n",
              "      <td>0.001594</td>\n",
              "      <td>0.001922</td>\n",
              "      <td>0.001857</td>\n",
              "      <td>0.005066</td>\n",
              "    </tr>\n",
              "    <tr>\n",
              "      <th>17</th>\n",
              "      <td>0.004872</td>\n",
              "      <td>0.012334</td>\n",
              "      <td>0.003769</td>\n",
              "      <td>0.008001</td>\n",
              "      <td>0.001158</td>\n",
              "      <td>0.002807</td>\n",
              "      <td>0.001243</td>\n",
              "      <td>0.001948</td>\n",
              "      <td>0.005674</td>\n",
              "      <td>0.004691</td>\n",
              "      <td>0.004378</td>\n",
              "      <td>0.005387</td>\n",
              "      <td>0.011210</td>\n",
              "      <td>0.006355</td>\n",
              "      <td>0.001964</td>\n",
              "      <td>0.002732</td>\n",
              "      <td>0.002077</td>\n",
              "      <td>0.009531</td>\n",
              "    </tr>\n",
              "  </tbody>\n",
              "</table>\n",
              "</div>"
            ],
            "text/plain": [
              "       Doc 1     Doc 2     Doc 3  ...    Doc 16    Doc 17    Doc 18\n",
              "0   0.004943  0.003254  0.012314  ...  0.001837  0.001477  0.006406\n",
              "1   0.004127  0.003691  0.007975  ...  0.001544  0.001179  0.006030\n",
              "2   0.004374  0.003598  0.009745  ...  0.001719  0.001272  0.006158\n",
              "3   0.004583  0.003585  0.011966  ...  0.002397  0.001892  0.007824\n",
              "4   0.001930  0.001457  0.007826  ...  0.001197  0.000899  0.004630\n",
              "5   0.002437  0.001893  0.005952  ...  0.001494  0.001099  0.005688\n",
              "6   0.001779  0.001788  0.006025  ...  0.001111  0.000875  0.004810\n",
              "7   0.002029  0.001742  0.009426  ...  0.001288  0.000954  0.005053\n",
              "8   0.003568  0.002917  0.007078  ...  0.001961  0.001356  0.006929\n",
              "9   0.003831  0.003117  0.010225  ...  0.001816  0.001322  0.006811\n",
              "10  0.003825  0.002618  0.009632  ...  0.001602  0.001233  0.006252\n",
              "11  0.004419  0.003757  0.003761  ...  0.002028  0.001490  0.007353\n",
              "12  0.005611  0.005135  0.005007  ...  0.003173  0.002577  0.009705\n",
              "13  0.003578  0.006182  0.004222  ...  0.002391  0.001819  0.007131\n",
              "14  0.002001  0.006005  0.001693  ...  0.001776  0.001538  0.004968\n",
              "15  0.002595  0.008405  0.001935  ...  0.002767  0.001552  0.005160\n",
              "16  0.002362  0.005104  0.001820  ...  0.001922  0.001857  0.005066\n",
              "17  0.004872  0.012334  0.003769  ...  0.002732  0.002077  0.009531\n",
              "\n",
              "[18 rows x 18 columns]"
            ]
          },
          "metadata": {},
          "execution_count": 119
        }
      ],
      "source": [
        "# Display pandas dataframe \n",
        "jaccardRuntime = allPair.create_dataframe(jaccard_runtime)\n",
        "jaccardRuntime"
      ]
    },
    {
      "cell_type": "code",
      "execution_count": null,
      "metadata": {
        "id": "PoDYgbublHS6"
      },
      "outputs": [],
      "source": [
        "jaccardMin, jaccardMax = allPair.find_min_max(jaccard_runtime)"
      ]
    },
    {
      "cell_type": "markdown",
      "metadata": {
        "id": "uM7OdBTvlHS6"
      },
      "source": [
        "Minimum runtime for each document"
      ]
    },
    {
      "cell_type": "code",
      "execution_count": null,
      "metadata": {
        "colab": {
          "base_uri": "https://localhost:8080/",
          "height": 81
        },
        "id": "wfrlQd9olHS7",
        "outputId": "5699db36-a5ef-4ddf-b54b-3b87ed851689"
      },
      "outputs": [
        {
          "output_type": "execute_result",
          "data": {
            "text/html": [
              "<div>\n",
              "<style scoped>\n",
              "    .dataframe tbody tr th:only-of-type {\n",
              "        vertical-align: middle;\n",
              "    }\n",
              "\n",
              "    .dataframe tbody tr th {\n",
              "        vertical-align: top;\n",
              "    }\n",
              "\n",
              "    .dataframe thead th {\n",
              "        text-align: right;\n",
              "    }\n",
              "</style>\n",
              "<table border=\"1\" class=\"dataframe\">\n",
              "  <thead>\n",
              "    <tr style=\"text-align: right;\">\n",
              "      <th></th>\n",
              "      <th>Doc 1</th>\n",
              "      <th>Doc 2</th>\n",
              "      <th>Doc 3</th>\n",
              "      <th>Doc 4</th>\n",
              "      <th>Doc 5</th>\n",
              "      <th>Doc 6</th>\n",
              "      <th>Doc 7</th>\n",
              "      <th>Doc 8</th>\n",
              "      <th>Doc 9</th>\n",
              "      <th>Doc 10</th>\n",
              "      <th>Doc 11</th>\n",
              "      <th>Doc 12</th>\n",
              "      <th>Doc 13</th>\n",
              "      <th>Doc 14</th>\n",
              "      <th>Doc 15</th>\n",
              "      <th>Doc 16</th>\n",
              "      <th>Doc 17</th>\n",
              "      <th>Doc 18</th>\n",
              "    </tr>\n",
              "  </thead>\n",
              "  <tbody>\n",
              "    <tr>\n",
              "      <th>0</th>\n",
              "      <td>0.001779</td>\n",
              "      <td>0.001457</td>\n",
              "      <td>0.001693</td>\n",
              "      <td>0.004427</td>\n",
              "      <td>0.000463</td>\n",
              "      <td>0.001095</td>\n",
              "      <td>0.000486</td>\n",
              "      <td>0.000778</td>\n",
              "      <td>0.002</td>\n",
              "      <td>0.001889</td>\n",
              "      <td>0.001643</td>\n",
              "      <td>0.002517</td>\n",
              "      <td>0.006206</td>\n",
              "      <td>0.002679</td>\n",
              "      <td>0.000783</td>\n",
              "      <td>0.001111</td>\n",
              "      <td>0.000875</td>\n",
              "      <td>0.00463</td>\n",
              "    </tr>\n",
              "  </tbody>\n",
              "</table>\n",
              "</div>"
            ],
            "text/plain": [
              "      Doc 1     Doc 2     Doc 3  ...    Doc 16    Doc 17   Doc 18\n",
              "0  0.001779  0.001457  0.001693  ...  0.001111  0.000875  0.00463\n",
              "\n",
              "[1 rows x 18 columns]"
            ]
          },
          "metadata": {},
          "execution_count": 121
        }
      ],
      "source": [
        "# Display pandas dataframe \n",
        "jaccardMin"
      ]
    },
    {
      "cell_type": "markdown",
      "metadata": {
        "id": "4O6-J2KQlHS7"
      },
      "source": [
        "Maximum runtime for each document"
      ]
    },
    {
      "cell_type": "code",
      "execution_count": null,
      "metadata": {
        "colab": {
          "base_uri": "https://localhost:8080/",
          "height": 81
        },
        "id": "TD8HiVk9lHS8",
        "outputId": "764d8f32-a6a5-4eb7-ca5e-0f6c22770778"
      },
      "outputs": [
        {
          "output_type": "execute_result",
          "data": {
            "text/html": [
              "<div>\n",
              "<style scoped>\n",
              "    .dataframe tbody tr th:only-of-type {\n",
              "        vertical-align: middle;\n",
              "    }\n",
              "\n",
              "    .dataframe tbody tr th {\n",
              "        vertical-align: top;\n",
              "    }\n",
              "\n",
              "    .dataframe thead th {\n",
              "        text-align: right;\n",
              "    }\n",
              "</style>\n",
              "<table border=\"1\" class=\"dataframe\">\n",
              "  <thead>\n",
              "    <tr style=\"text-align: right;\">\n",
              "      <th></th>\n",
              "      <th>Doc 1</th>\n",
              "      <th>Doc 2</th>\n",
              "      <th>Doc 3</th>\n",
              "      <th>Doc 4</th>\n",
              "      <th>Doc 5</th>\n",
              "      <th>Doc 6</th>\n",
              "      <th>Doc 7</th>\n",
              "      <th>Doc 8</th>\n",
              "      <th>Doc 9</th>\n",
              "      <th>Doc 10</th>\n",
              "      <th>Doc 11</th>\n",
              "      <th>Doc 12</th>\n",
              "      <th>Doc 13</th>\n",
              "      <th>Doc 14</th>\n",
              "      <th>Doc 15</th>\n",
              "      <th>Doc 16</th>\n",
              "      <th>Doc 17</th>\n",
              "      <th>Doc 18</th>\n",
              "    </tr>\n",
              "  </thead>\n",
              "  <tbody>\n",
              "    <tr>\n",
              "      <th>0</th>\n",
              "      <td>0.005611</td>\n",
              "      <td>0.012334</td>\n",
              "      <td>0.012314</td>\n",
              "      <td>0.009315</td>\n",
              "      <td>0.001503</td>\n",
              "      <td>0.00321</td>\n",
              "      <td>0.001656</td>\n",
              "      <td>0.002191</td>\n",
              "      <td>0.006507</td>\n",
              "      <td>0.006178</td>\n",
              "      <td>0.005124</td>\n",
              "      <td>0.007123</td>\n",
              "      <td>0.01323</td>\n",
              "      <td>0.007099</td>\n",
              "      <td>0.002163</td>\n",
              "      <td>0.003173</td>\n",
              "      <td>0.002577</td>\n",
              "      <td>0.009705</td>\n",
              "    </tr>\n",
              "  </tbody>\n",
              "</table>\n",
              "</div>"
            ],
            "text/plain": [
              "      Doc 1     Doc 2     Doc 3  ...    Doc 16    Doc 17    Doc 18\n",
              "0  0.005611  0.012334  0.012314  ...  0.003173  0.002577  0.009705\n",
              "\n",
              "[1 rows x 18 columns]"
            ]
          },
          "metadata": {},
          "execution_count": 122
        }
      ],
      "source": [
        "# Display pandas dataframe \n",
        "jaccardMax"
      ]
    },
    {
      "cell_type": "markdown",
      "metadata": {
        "id": "DSiAX3hFlHS9"
      },
      "source": [
        "Maximum and minimum runtime results for all pairs"
      ]
    },
    {
      "cell_type": "code",
      "execution_count": null,
      "metadata": {
        "colab": {
          "base_uri": "https://localhost:8080/"
        },
        "id": "DHqfr1MhlHS9",
        "outputId": "eeb5aaef-2c30-4793-f985-5b648ff052ef"
      },
      "outputs": [
        {
          "output_type": "stream",
          "name": "stdout",
          "text": [
            "Minimum Runtime: 0    0.000463\n",
            "dtype: float64\n",
            "Maximum Runtime: 0    0.01323\n",
            "dtype: float64\n"
          ]
        }
      ],
      "source": [
        "# Finding min and max from pandas dataframe\n",
        "print(f\"Minimum Runtime: {jaccardMin.min(axis=1)}\")\n",
        "print(f\"Maximum Runtime: {jaccardMax.max(axis=1)}\")"
      ]
    },
    {
      "cell_type": "markdown",
      "metadata": {
        "id": "0j2hOxlg42_t"
      },
      "source": [
        "**Cosine all pairs average runtimes**"
      ]
    },
    {
      "cell_type": "markdown",
      "metadata": {
        "id": "rycscKmhlHS9"
      },
      "source": [
        "***Figure 4.4:*** Pandas dataframe with calculations of all pair runtimes for all 18 documents in the gutenberg corpus. In the cells below the dataframe are the calculations of maximum and minimum similarity."
      ]
    },
    {
      "cell_type": "code",
      "execution_count": null,
      "metadata": {
        "colab": {
          "base_uri": "https://localhost:8080/",
          "height": 614
        },
        "id": "5Pm6OTaseLpy",
        "outputId": "c0628877-4baa-4372-b562-42f813924266"
      },
      "outputs": [
        {
          "output_type": "execute_result",
          "data": {
            "text/html": [
              "<div>\n",
              "<style scoped>\n",
              "    .dataframe tbody tr th:only-of-type {\n",
              "        vertical-align: middle;\n",
              "    }\n",
              "\n",
              "    .dataframe tbody tr th {\n",
              "        vertical-align: top;\n",
              "    }\n",
              "\n",
              "    .dataframe thead th {\n",
              "        text-align: right;\n",
              "    }\n",
              "</style>\n",
              "<table border=\"1\" class=\"dataframe\">\n",
              "  <thead>\n",
              "    <tr style=\"text-align: right;\">\n",
              "      <th></th>\n",
              "      <th>Doc 1</th>\n",
              "      <th>Doc 2</th>\n",
              "      <th>Doc 3</th>\n",
              "      <th>Doc 4</th>\n",
              "      <th>Doc 5</th>\n",
              "      <th>Doc 6</th>\n",
              "      <th>Doc 7</th>\n",
              "      <th>Doc 8</th>\n",
              "      <th>Doc 9</th>\n",
              "      <th>Doc 10</th>\n",
              "      <th>Doc 11</th>\n",
              "      <th>Doc 12</th>\n",
              "      <th>Doc 13</th>\n",
              "      <th>Doc 14</th>\n",
              "      <th>Doc 15</th>\n",
              "      <th>Doc 16</th>\n",
              "      <th>Doc 17</th>\n",
              "      <th>Doc 18</th>\n",
              "    </tr>\n",
              "  </thead>\n",
              "  <tbody>\n",
              "    <tr>\n",
              "      <th>0</th>\n",
              "      <td>0.004845</td>\n",
              "      <td>0.005010</td>\n",
              "      <td>0.005920</td>\n",
              "      <td>0.010406</td>\n",
              "      <td>0.002495</td>\n",
              "      <td>0.004200</td>\n",
              "      <td>0.002520</td>\n",
              "      <td>0.003199</td>\n",
              "      <td>0.006085</td>\n",
              "      <td>0.006584</td>\n",
              "      <td>0.005351</td>\n",
              "      <td>0.007972</td>\n",
              "      <td>0.011699</td>\n",
              "      <td>0.008362</td>\n",
              "      <td>0.003688</td>\n",
              "      <td>0.004782</td>\n",
              "      <td>0.003988</td>\n",
              "      <td>0.010009</td>\n",
              "    </tr>\n",
              "    <tr>\n",
              "      <th>1</th>\n",
              "      <td>0.005200</td>\n",
              "      <td>0.003554</td>\n",
              "      <td>0.005561</td>\n",
              "      <td>0.009334</td>\n",
              "      <td>0.001825</td>\n",
              "      <td>0.003294</td>\n",
              "      <td>0.002035</td>\n",
              "      <td>0.002383</td>\n",
              "      <td>0.005084</td>\n",
              "      <td>0.005152</td>\n",
              "      <td>0.004453</td>\n",
              "      <td>0.005859</td>\n",
              "      <td>0.010515</td>\n",
              "      <td>0.007508</td>\n",
              "      <td>0.003060</td>\n",
              "      <td>0.003914</td>\n",
              "      <td>0.003096</td>\n",
              "      <td>0.008729</td>\n",
              "    </tr>\n",
              "    <tr>\n",
              "      <th>2</th>\n",
              "      <td>0.006964</td>\n",
              "      <td>0.005127</td>\n",
              "      <td>0.003919</td>\n",
              "      <td>0.009735</td>\n",
              "      <td>0.002140</td>\n",
              "      <td>0.003656</td>\n",
              "      <td>0.002249</td>\n",
              "      <td>0.003377</td>\n",
              "      <td>0.005665</td>\n",
              "      <td>0.005468</td>\n",
              "      <td>0.005214</td>\n",
              "      <td>0.007161</td>\n",
              "      <td>0.010633</td>\n",
              "      <td>0.008417</td>\n",
              "      <td>0.003469</td>\n",
              "      <td>0.004407</td>\n",
              "      <td>0.003540</td>\n",
              "      <td>0.009922</td>\n",
              "    </tr>\n",
              "    <tr>\n",
              "      <th>3</th>\n",
              "      <td>0.011121</td>\n",
              "      <td>0.008506</td>\n",
              "      <td>0.009921</td>\n",
              "      <td>0.014887</td>\n",
              "      <td>0.005165</td>\n",
              "      <td>0.006762</td>\n",
              "      <td>0.005409</td>\n",
              "      <td>0.005918</td>\n",
              "      <td>0.010664</td>\n",
              "      <td>0.009478</td>\n",
              "      <td>0.008110</td>\n",
              "      <td>0.010638</td>\n",
              "      <td>0.017839</td>\n",
              "      <td>0.013615</td>\n",
              "      <td>0.006713</td>\n",
              "      <td>0.007922</td>\n",
              "      <td>0.006847</td>\n",
              "      <td>0.016016</td>\n",
              "    </tr>\n",
              "    <tr>\n",
              "      <th>4</th>\n",
              "      <td>0.002400</td>\n",
              "      <td>0.001837</td>\n",
              "      <td>0.002382</td>\n",
              "      <td>0.006131</td>\n",
              "      <td>0.000850</td>\n",
              "      <td>0.001490</td>\n",
              "      <td>0.000888</td>\n",
              "      <td>0.001288</td>\n",
              "      <td>0.002527</td>\n",
              "      <td>0.002509</td>\n",
              "      <td>0.001979</td>\n",
              "      <td>0.002718</td>\n",
              "      <td>0.007721</td>\n",
              "      <td>0.003651</td>\n",
              "      <td>0.001293</td>\n",
              "      <td>0.001779</td>\n",
              "      <td>0.001430</td>\n",
              "      <td>0.005842</td>\n",
              "    </tr>\n",
              "    <tr>\n",
              "      <th>5</th>\n",
              "      <td>0.004314</td>\n",
              "      <td>0.003676</td>\n",
              "      <td>0.003853</td>\n",
              "      <td>0.007657</td>\n",
              "      <td>0.001581</td>\n",
              "      <td>0.002276</td>\n",
              "      <td>0.001553</td>\n",
              "      <td>0.002239</td>\n",
              "      <td>0.003735</td>\n",
              "      <td>0.004084</td>\n",
              "      <td>0.003546</td>\n",
              "      <td>0.005004</td>\n",
              "      <td>0.009332</td>\n",
              "      <td>0.005949</td>\n",
              "      <td>0.002412</td>\n",
              "      <td>0.002954</td>\n",
              "      <td>0.002636</td>\n",
              "      <td>0.008401</td>\n",
              "    </tr>\n",
              "    <tr>\n",
              "      <th>6</th>\n",
              "      <td>0.002308</td>\n",
              "      <td>0.001955</td>\n",
              "      <td>0.002103</td>\n",
              "      <td>0.005988</td>\n",
              "      <td>0.000902</td>\n",
              "      <td>0.001574</td>\n",
              "      <td>0.000872</td>\n",
              "      <td>0.001266</td>\n",
              "      <td>0.002391</td>\n",
              "      <td>0.002363</td>\n",
              "      <td>0.002762</td>\n",
              "      <td>0.003359</td>\n",
              "      <td>0.007456</td>\n",
              "      <td>0.003173</td>\n",
              "      <td>0.001310</td>\n",
              "      <td>0.001798</td>\n",
              "      <td>0.001412</td>\n",
              "      <td>0.005834</td>\n",
              "    </tr>\n",
              "    <tr>\n",
              "      <th>7</th>\n",
              "      <td>0.003387</td>\n",
              "      <td>0.002497</td>\n",
              "      <td>0.002812</td>\n",
              "      <td>0.006619</td>\n",
              "      <td>0.001218</td>\n",
              "      <td>0.002050</td>\n",
              "      <td>0.001200</td>\n",
              "      <td>0.001443</td>\n",
              "      <td>0.002994</td>\n",
              "      <td>0.003612</td>\n",
              "      <td>0.002586</td>\n",
              "      <td>0.003439</td>\n",
              "      <td>0.008567</td>\n",
              "      <td>0.004514</td>\n",
              "      <td>0.001861</td>\n",
              "      <td>0.002404</td>\n",
              "      <td>0.001954</td>\n",
              "      <td>0.006981</td>\n",
              "    </tr>\n",
              "    <tr>\n",
              "      <th>8</th>\n",
              "      <td>0.008016</td>\n",
              "      <td>0.006261</td>\n",
              "      <td>0.006143</td>\n",
              "      <td>0.011473</td>\n",
              "      <td>0.002842</td>\n",
              "      <td>0.004211</td>\n",
              "      <td>0.003093</td>\n",
              "      <td>0.003424</td>\n",
              "      <td>0.005029</td>\n",
              "      <td>0.006819</td>\n",
              "      <td>0.005407</td>\n",
              "      <td>0.008053</td>\n",
              "      <td>0.013105</td>\n",
              "      <td>0.009267</td>\n",
              "      <td>0.003815</td>\n",
              "      <td>0.006059</td>\n",
              "      <td>0.004246</td>\n",
              "      <td>0.010957</td>\n",
              "    </tr>\n",
              "    <tr>\n",
              "      <th>9</th>\n",
              "      <td>0.007390</td>\n",
              "      <td>0.005291</td>\n",
              "      <td>0.006375</td>\n",
              "      <td>0.010343</td>\n",
              "      <td>0.002882</td>\n",
              "      <td>0.004090</td>\n",
              "      <td>0.003037</td>\n",
              "      <td>0.003459</td>\n",
              "      <td>0.007305</td>\n",
              "      <td>0.004880</td>\n",
              "      <td>0.005213</td>\n",
              "      <td>0.007730</td>\n",
              "      <td>0.013777</td>\n",
              "      <td>0.009337</td>\n",
              "      <td>0.003687</td>\n",
              "      <td>0.004618</td>\n",
              "      <td>0.004010</td>\n",
              "      <td>0.010823</td>\n",
              "    </tr>\n",
              "    <tr>\n",
              "      <th>10</th>\n",
              "      <td>0.007450</td>\n",
              "      <td>0.004797</td>\n",
              "      <td>0.006638</td>\n",
              "      <td>0.009554</td>\n",
              "      <td>0.002338</td>\n",
              "      <td>0.003580</td>\n",
              "      <td>0.002275</td>\n",
              "      <td>0.002956</td>\n",
              "      <td>0.005379</td>\n",
              "      <td>0.006892</td>\n",
              "      <td>0.003772</td>\n",
              "      <td>0.006747</td>\n",
              "      <td>0.012070</td>\n",
              "      <td>0.007779</td>\n",
              "      <td>0.003333</td>\n",
              "      <td>0.004097</td>\n",
              "      <td>0.003541</td>\n",
              "      <td>0.009510</td>\n",
              "    </tr>\n",
              "    <tr>\n",
              "      <th>11</th>\n",
              "      <td>0.007481</td>\n",
              "      <td>0.006375</td>\n",
              "      <td>0.007207</td>\n",
              "      <td>0.012435</td>\n",
              "      <td>0.003358</td>\n",
              "      <td>0.004950</td>\n",
              "      <td>0.003500</td>\n",
              "      <td>0.004353</td>\n",
              "      <td>0.007308</td>\n",
              "      <td>0.007976</td>\n",
              "      <td>0.006232</td>\n",
              "      <td>0.006539</td>\n",
              "      <td>0.013969</td>\n",
              "      <td>0.010496</td>\n",
              "      <td>0.004441</td>\n",
              "      <td>0.005376</td>\n",
              "      <td>0.004637</td>\n",
              "      <td>0.012683</td>\n",
              "    </tr>\n",
              "    <tr>\n",
              "      <th>12</th>\n",
              "      <td>0.012063</td>\n",
              "      <td>0.009921</td>\n",
              "      <td>0.011813</td>\n",
              "      <td>0.017160</td>\n",
              "      <td>0.007609</td>\n",
              "      <td>0.008262</td>\n",
              "      <td>0.006926</td>\n",
              "      <td>0.008054</td>\n",
              "      <td>0.012375</td>\n",
              "      <td>0.012323</td>\n",
              "      <td>0.010623</td>\n",
              "      <td>0.012874</td>\n",
              "      <td>0.018820</td>\n",
              "      <td>0.014772</td>\n",
              "      <td>0.008082</td>\n",
              "      <td>0.009411</td>\n",
              "      <td>0.008142</td>\n",
              "      <td>0.017432</td>\n",
              "    </tr>\n",
              "    <tr>\n",
              "      <th>13</th>\n",
              "      <td>0.008565</td>\n",
              "      <td>0.006495</td>\n",
              "      <td>0.008498</td>\n",
              "      <td>0.012062</td>\n",
              "      <td>0.003451</td>\n",
              "      <td>0.005578</td>\n",
              "      <td>0.003745</td>\n",
              "      <td>0.004553</td>\n",
              "      <td>0.009817</td>\n",
              "      <td>0.007230</td>\n",
              "      <td>0.006235</td>\n",
              "      <td>0.008937</td>\n",
              "      <td>0.014554</td>\n",
              "      <td>0.007117</td>\n",
              "      <td>0.004971</td>\n",
              "      <td>0.005935</td>\n",
              "      <td>0.004940</td>\n",
              "      <td>0.012099</td>\n",
              "    </tr>\n",
              "    <tr>\n",
              "      <th>14</th>\n",
              "      <td>0.003761</td>\n",
              "      <td>0.003521</td>\n",
              "      <td>0.003828</td>\n",
              "      <td>0.005512</td>\n",
              "      <td>0.001340</td>\n",
              "      <td>0.002279</td>\n",
              "      <td>0.001352</td>\n",
              "      <td>0.001864</td>\n",
              "      <td>0.004206</td>\n",
              "      <td>0.003183</td>\n",
              "      <td>0.003427</td>\n",
              "      <td>0.005507</td>\n",
              "      <td>0.008316</td>\n",
              "      <td>0.005257</td>\n",
              "      <td>0.001898</td>\n",
              "      <td>0.003751</td>\n",
              "      <td>0.002614</td>\n",
              "      <td>0.006650</td>\n",
              "    </tr>\n",
              "    <tr>\n",
              "      <th>15</th>\n",
              "      <td>0.004538</td>\n",
              "      <td>0.005136</td>\n",
              "      <td>0.004752</td>\n",
              "      <td>0.007132</td>\n",
              "      <td>0.001936</td>\n",
              "      <td>0.003156</td>\n",
              "      <td>0.001846</td>\n",
              "      <td>0.002336</td>\n",
              "      <td>0.004949</td>\n",
              "      <td>0.004393</td>\n",
              "      <td>0.003670</td>\n",
              "      <td>0.005723</td>\n",
              "      <td>0.009970</td>\n",
              "      <td>0.006901</td>\n",
              "      <td>0.002822</td>\n",
              "      <td>0.003127</td>\n",
              "      <td>0.003497</td>\n",
              "      <td>0.007557</td>\n",
              "    </tr>\n",
              "    <tr>\n",
              "      <th>16</th>\n",
              "      <td>0.004230</td>\n",
              "      <td>0.003022</td>\n",
              "      <td>0.003691</td>\n",
              "      <td>0.006922</td>\n",
              "      <td>0.001461</td>\n",
              "      <td>0.002613</td>\n",
              "      <td>0.001452</td>\n",
              "      <td>0.002065</td>\n",
              "      <td>0.004409</td>\n",
              "      <td>0.003483</td>\n",
              "      <td>0.003068</td>\n",
              "      <td>0.004761</td>\n",
              "      <td>0.009210</td>\n",
              "      <td>0.006060</td>\n",
              "      <td>0.002348</td>\n",
              "      <td>0.003166</td>\n",
              "      <td>0.002110</td>\n",
              "      <td>0.006657</td>\n",
              "    </tr>\n",
              "    <tr>\n",
              "      <th>17</th>\n",
              "      <td>0.009846</td>\n",
              "      <td>0.007373</td>\n",
              "      <td>0.008455</td>\n",
              "      <td>0.014286</td>\n",
              "      <td>0.005218</td>\n",
              "      <td>0.007278</td>\n",
              "      <td>0.004973</td>\n",
              "      <td>0.005442</td>\n",
              "      <td>0.009674</td>\n",
              "      <td>0.008947</td>\n",
              "      <td>0.008185</td>\n",
              "      <td>0.010045</td>\n",
              "      <td>0.017161</td>\n",
              "      <td>0.012408</td>\n",
              "      <td>0.006853</td>\n",
              "      <td>0.007079</td>\n",
              "      <td>0.006334</td>\n",
              "      <td>0.011985</td>\n",
              "    </tr>\n",
              "  </tbody>\n",
              "</table>\n",
              "</div>"
            ],
            "text/plain": [
              "       Doc 1     Doc 2     Doc 3  ...    Doc 16    Doc 17    Doc 18\n",
              "0   0.004845  0.005010  0.005920  ...  0.004782  0.003988  0.010009\n",
              "1   0.005200  0.003554  0.005561  ...  0.003914  0.003096  0.008729\n",
              "2   0.006964  0.005127  0.003919  ...  0.004407  0.003540  0.009922\n",
              "3   0.011121  0.008506  0.009921  ...  0.007922  0.006847  0.016016\n",
              "4   0.002400  0.001837  0.002382  ...  0.001779  0.001430  0.005842\n",
              "5   0.004314  0.003676  0.003853  ...  0.002954  0.002636  0.008401\n",
              "6   0.002308  0.001955  0.002103  ...  0.001798  0.001412  0.005834\n",
              "7   0.003387  0.002497  0.002812  ...  0.002404  0.001954  0.006981\n",
              "8   0.008016  0.006261  0.006143  ...  0.006059  0.004246  0.010957\n",
              "9   0.007390  0.005291  0.006375  ...  0.004618  0.004010  0.010823\n",
              "10  0.007450  0.004797  0.006638  ...  0.004097  0.003541  0.009510\n",
              "11  0.007481  0.006375  0.007207  ...  0.005376  0.004637  0.012683\n",
              "12  0.012063  0.009921  0.011813  ...  0.009411  0.008142  0.017432\n",
              "13  0.008565  0.006495  0.008498  ...  0.005935  0.004940  0.012099\n",
              "14  0.003761  0.003521  0.003828  ...  0.003751  0.002614  0.006650\n",
              "15  0.004538  0.005136  0.004752  ...  0.003127  0.003497  0.007557\n",
              "16  0.004230  0.003022  0.003691  ...  0.003166  0.002110  0.006657\n",
              "17  0.009846  0.007373  0.008455  ...  0.007079  0.006334  0.011985\n",
              "\n",
              "[18 rows x 18 columns]"
            ]
          },
          "metadata": {},
          "execution_count": 113
        }
      ],
      "source": [
        "# Display pandas dataframe \n",
        "sparseRuntime = allPair.create_dataframe(sparse_runtime)\n",
        "sparseRuntime\n"
      ]
    },
    {
      "cell_type": "code",
      "execution_count": null,
      "metadata": {
        "id": "rsknAUwKlHS-"
      },
      "outputs": [],
      "source": [
        "sparseMin, sparseMax = allPair.find_min_max(sparse_runtime)"
      ]
    },
    {
      "cell_type": "markdown",
      "metadata": {
        "id": "q4bLamMFlHS-"
      },
      "source": [
        "Minimum runtime for each document"
      ]
    },
    {
      "cell_type": "code",
      "execution_count": null,
      "metadata": {
        "colab": {
          "base_uri": "https://localhost:8080/",
          "height": 81
        },
        "id": "8vvTqPpDlHS_",
        "outputId": "c8c34ccf-33eb-4e3f-ce02-78845b80f1d2"
      },
      "outputs": [
        {
          "output_type": "execute_result",
          "data": {
            "text/html": [
              "<div>\n",
              "<style scoped>\n",
              "    .dataframe tbody tr th:only-of-type {\n",
              "        vertical-align: middle;\n",
              "    }\n",
              "\n",
              "    .dataframe tbody tr th {\n",
              "        vertical-align: top;\n",
              "    }\n",
              "\n",
              "    .dataframe thead th {\n",
              "        text-align: right;\n",
              "    }\n",
              "</style>\n",
              "<table border=\"1\" class=\"dataframe\">\n",
              "  <thead>\n",
              "    <tr style=\"text-align: right;\">\n",
              "      <th></th>\n",
              "      <th>Doc 1</th>\n",
              "      <th>Doc 2</th>\n",
              "      <th>Doc 3</th>\n",
              "      <th>Doc 4</th>\n",
              "      <th>Doc 5</th>\n",
              "      <th>Doc 6</th>\n",
              "      <th>Doc 7</th>\n",
              "      <th>Doc 8</th>\n",
              "      <th>Doc 9</th>\n",
              "      <th>Doc 10</th>\n",
              "      <th>Doc 11</th>\n",
              "      <th>Doc 12</th>\n",
              "      <th>Doc 13</th>\n",
              "      <th>Doc 14</th>\n",
              "      <th>Doc 15</th>\n",
              "      <th>Doc 16</th>\n",
              "      <th>Doc 17</th>\n",
              "      <th>Doc 18</th>\n",
              "    </tr>\n",
              "  </thead>\n",
              "  <tbody>\n",
              "    <tr>\n",
              "      <th>0</th>\n",
              "      <td>0.002308</td>\n",
              "      <td>0.001837</td>\n",
              "      <td>0.002103</td>\n",
              "      <td>0.005512</td>\n",
              "      <td>0.00085</td>\n",
              "      <td>0.00149</td>\n",
              "      <td>0.000872</td>\n",
              "      <td>0.001266</td>\n",
              "      <td>0.002391</td>\n",
              "      <td>0.002363</td>\n",
              "      <td>0.001979</td>\n",
              "      <td>0.002718</td>\n",
              "      <td>0.007456</td>\n",
              "      <td>0.003173</td>\n",
              "      <td>0.001293</td>\n",
              "      <td>0.001779</td>\n",
              "      <td>0.001412</td>\n",
              "      <td>0.005834</td>\n",
              "    </tr>\n",
              "  </tbody>\n",
              "</table>\n",
              "</div>"
            ],
            "text/plain": [
              "      Doc 1     Doc 2     Doc 3  ...    Doc 16    Doc 17    Doc 18\n",
              "0  0.002308  0.001837  0.002103  ...  0.001779  0.001412  0.005834\n",
              "\n",
              "[1 rows x 18 columns]"
            ]
          },
          "metadata": {},
          "execution_count": 115
        }
      ],
      "source": [
        "# Display pandas dataframe \n",
        "sparseMin"
      ]
    },
    {
      "cell_type": "markdown",
      "metadata": {
        "id": "t7BLBlCqlHS_"
      },
      "source": [
        "Maximum runtime for each document"
      ]
    },
    {
      "cell_type": "code",
      "execution_count": null,
      "metadata": {
        "colab": {
          "base_uri": "https://localhost:8080/",
          "height": 81
        },
        "id": "oyw2TZpqlHS_",
        "outputId": "0781c5a0-07f3-4b6e-e00a-6af496747be7"
      },
      "outputs": [
        {
          "output_type": "execute_result",
          "data": {
            "text/html": [
              "<div>\n",
              "<style scoped>\n",
              "    .dataframe tbody tr th:only-of-type {\n",
              "        vertical-align: middle;\n",
              "    }\n",
              "\n",
              "    .dataframe tbody tr th {\n",
              "        vertical-align: top;\n",
              "    }\n",
              "\n",
              "    .dataframe thead th {\n",
              "        text-align: right;\n",
              "    }\n",
              "</style>\n",
              "<table border=\"1\" class=\"dataframe\">\n",
              "  <thead>\n",
              "    <tr style=\"text-align: right;\">\n",
              "      <th></th>\n",
              "      <th>Doc 1</th>\n",
              "      <th>Doc 2</th>\n",
              "      <th>Doc 3</th>\n",
              "      <th>Doc 4</th>\n",
              "      <th>Doc 5</th>\n",
              "      <th>Doc 6</th>\n",
              "      <th>Doc 7</th>\n",
              "      <th>Doc 8</th>\n",
              "      <th>Doc 9</th>\n",
              "      <th>Doc 10</th>\n",
              "      <th>Doc 11</th>\n",
              "      <th>Doc 12</th>\n",
              "      <th>Doc 13</th>\n",
              "      <th>Doc 14</th>\n",
              "      <th>Doc 15</th>\n",
              "      <th>Doc 16</th>\n",
              "      <th>Doc 17</th>\n",
              "      <th>Doc 18</th>\n",
              "    </tr>\n",
              "  </thead>\n",
              "  <tbody>\n",
              "    <tr>\n",
              "      <th>0</th>\n",
              "      <td>0.012063</td>\n",
              "      <td>0.009921</td>\n",
              "      <td>0.011813</td>\n",
              "      <td>0.01716</td>\n",
              "      <td>0.007609</td>\n",
              "      <td>0.008262</td>\n",
              "      <td>0.006926</td>\n",
              "      <td>0.008054</td>\n",
              "      <td>0.012375</td>\n",
              "      <td>0.012323</td>\n",
              "      <td>0.010623</td>\n",
              "      <td>0.012874</td>\n",
              "      <td>0.01882</td>\n",
              "      <td>0.014772</td>\n",
              "      <td>0.008082</td>\n",
              "      <td>0.009411</td>\n",
              "      <td>0.008142</td>\n",
              "      <td>0.017432</td>\n",
              "    </tr>\n",
              "  </tbody>\n",
              "</table>\n",
              "</div>"
            ],
            "text/plain": [
              "      Doc 1     Doc 2     Doc 3  ...    Doc 16    Doc 17    Doc 18\n",
              "0  0.012063  0.009921  0.011813  ...  0.009411  0.008142  0.017432\n",
              "\n",
              "[1 rows x 18 columns]"
            ]
          },
          "metadata": {},
          "execution_count": 116
        }
      ],
      "source": [
        "# Display pandas dataframe \n",
        "sparseMax"
      ]
    },
    {
      "cell_type": "markdown",
      "metadata": {
        "id": "IHjC7PzGlHTA"
      },
      "source": [
        "Maximum and minimum runtime results for all pairs"
      ]
    },
    {
      "cell_type": "code",
      "execution_count": null,
      "metadata": {
        "colab": {
          "base_uri": "https://localhost:8080/"
        },
        "id": "KjruUQyBlHTA",
        "outputId": "a3a65100-a50e-408a-c8c0-8f759f253a62"
      },
      "outputs": [
        {
          "output_type": "stream",
          "name": "stdout",
          "text": [
            "Minimum Runtime: 0    0.00085\n",
            "dtype: float64\n",
            "Maximum Runtime: 0    0.01882\n",
            "dtype: float64\n"
          ]
        }
      ],
      "source": [
        "# Finding min and max from pandas dataframe\n",
        "print(f\"Minimum Runtime: {sparseMin.min(axis=1)}\")\n",
        "print(f\"Maximum Runtime: {sparseMax.max(axis=1)}\")"
      ]
    },
    {
      "cell_type": "markdown",
      "metadata": {
        "id": "fmkODYgs6f1E"
      },
      "source": [
        "# **Figures 4.5 - 4.7:** Analysis of avergage run time and similarity against ascending multiple of word count"
      ]
    },
    {
      "cell_type": "code",
      "execution_count": null,
      "metadata": {
        "id": "Yax1oiGIlHTA"
      },
      "outputs": [],
      "source": [
        "labels = [f\"Doc {i}\" for i in range(1,19)]\n",
        "sum_of_wordcount = [[a*i for a in allPair.word_count] for i in allPair.word_count]\n",
        "\n",
        "# A list containing the sum of the of each document being compared \n",
        "sum_of_wordcount_joined = [np.log10(item) for sublist in sum_of_wordcount for item in sublist]\n",
        "\n",
        "# Joining all run times and similarities from data frame into one list \n",
        "# Jaccard\n",
        "Jaccard_RT_ = [[i for i in jaccardRuntime[label]] for label in labels]\n",
        "Jaccard_RT_joined = [np.log10(item) for sublist in Jaccard_RT_ for item in sublist]\n",
        "\n",
        "Jaccard_SIM_ = [[i for i in jaccardSim[label]] for label in labels]\n",
        "Jaccard_SIM_joined = [np.log10(item) for sublist in Jaccard_SIM_ for item in sublist]\n",
        "# Cosine(sparse)\n",
        "Cosine_RT_ = [[i for i in sparseRuntime[label]] for label in labels]\n",
        "Cosine_RT_joined = [np.log10(item) for sublist in Cosine_RT_ for item in sublist]\n",
        "\n",
        "Cosine_SIM_ = [[i for i in sparseSim[label]] for label in labels]\n",
        "Cosine_SIM_joined = [np.log10(item) for sublist in Cosine_SIM_ for item in sublist]\n",
        "\n"
      ]
    },
    {
      "cell_type": "markdown",
      "metadata": {
        "id": "JuLf1ESUlHTB"
      },
      "source": [
        "***Figure 4.5:*** Scatter plot of all pair run time (in log) against multiplied word count of documents (in log)"
      ]
    },
    {
      "cell_type": "code",
      "execution_count": null,
      "metadata": {
        "colab": {
          "base_uri": "https://localhost:8080/",
          "height": 312
        },
        "id": "Wf6Mjj5FlHTB",
        "outputId": "7abc95d4-6ec0-43e7-ce74-3d3c36cd0be5"
      },
      "outputs": [
        {
          "output_type": "execute_result",
          "data": {
            "text/plain": [
              "Text(0.5, 1.0, 'All pair runtimes (in log) against multiplied word count of documents (in log)')"
            ]
          },
          "metadata": {},
          "execution_count": 80
        },
        {
          "output_type": "display_data",
          "data": {
            "image/png": "[encoded data removed]",
            "text/plain": [
              "<Figure size 432x288 with 1 Axes>"
            ]
          },
          "metadata": {
            "needs_background": "light"
          }
        }
      ],
      "source": [
        "# Plotting with matplotlib\n",
        "plt.scatter(sum_of_wordcount_joined, Cosine_RT_joined)\n",
        "plt.scatter(sum_of_wordcount_joined, Jaccard_RT_joined)\n",
        "label = [\"Cosine\", \"Jaccard\"]\n",
        "plt.legend(label, loc = 0, ncol = 2)\n",
        "plt.ylabel(\"Run Time\")\n",
        "plt.xlabel(\"Word Count\")\n",
        "plt.title(\"All pair runtimes (in log) against multiplied word count of documents (in log)\")"
      ]
    },
    {
      "cell_type": "code",
      "execution_count": null,
      "metadata": {
        "colab": {
          "base_uri": "https://localhost:8080/"
        },
        "id": "moe-4-mllHTC",
        "outputId": "9a3ca903-98b4-4b80-acbe-94b5a2a2225d"
      },
      "outputs": [
        {
          "output_type": "stream",
          "name": "stdout",
          "text": [
            "Metrics for Cosine All Pair Runtimes\n"
          ]
        },
        {
          "output_type": "execute_result",
          "data": {
            "text/plain": [
              "(0.6817843040111049, -7.492703009317984, 0.0090380817399754)"
            ]
          },
          "metadata": {},
          "execution_count": 81
        }
      ],
      "source": [
        "# Displaying metrics in pandas using slope_intercept_std() method\n",
        "print(\"Metrics for Cosine All Pair Runtimes\")\n",
        "allPair.slope_intercept_std(sum_of_wordcount_joined, Cosine_RT_joined)"
      ]
    },
    {
      "cell_type": "code",
      "execution_count": null,
      "metadata": {
        "colab": {
          "base_uri": "https://localhost:8080/"
        },
        "id": "Wif_YLJtlHTC",
        "outputId": "3c199d90-28dc-4e0c-bff4-ca02dda68ba7"
      },
      "outputs": [
        {
          "output_type": "stream",
          "name": "stdout",
          "text": [
            "Metrics for Jaccard All Pair Runtimes\n"
          ]
        },
        {
          "output_type": "execute_result",
          "data": {
            "text/plain": [
              "(0.7037353122005422, -7.939094327020101, 0.019613062269244447)"
            ]
          },
          "metadata": {},
          "execution_count": 82
        }
      ],
      "source": [
        "# Displaying metrics in pandas using slope_intercept_std() method\n",
        "print(\"Metrics for Jaccard All Pair Runtimes\")\n",
        "allPair.slope_intercept_std(sum_of_wordcount_joined, Jaccard_RT_joined)"
      ]
    },
    {
      "cell_type": "markdown",
      "metadata": {
        "id": "6EGp2RSDlHTD"
      },
      "source": [
        "***Figure 4.6:*** Scatter plot of run time all pair (in log) against all pair smilarity (in log) (in log)"
      ]
    },
    {
      "cell_type": "code",
      "execution_count": null,
      "metadata": {
        "colab": {
          "base_uri": "https://localhost:8080/",
          "height": 312
        },
        "id": "_bHd0wAzlHTD",
        "outputId": "0470d3f3-a6dd-4ccb-9506-15c78d04674e"
      },
      "outputs": [
        {
          "output_type": "execute_result",
          "data": {
            "text/plain": [
              "Text(0.5, 1.0, 'All pair similarities (in log) against multiplied word count of documents (in log)')"
            ]
          },
          "metadata": {},
          "execution_count": 83
        },
        {
          "output_type": "display_data",
          "data": {
            "image/png": "[encoded data removed]",
            "text/plain": [
              "<Figure size 432x288 with 1 Axes>"
            ]
          },
          "metadata": {
            "needs_background": "light"
          }
        }
      ],
      "source": [
        "# Plotting with matplotlib\n",
        "plt.scatter(sum_of_wordcount_joined, Cosine_SIM_joined)\n",
        "plt.scatter(sum_of_wordcount_joined, Jaccard_SIM_joined)\n",
        "label = [\"Cosine\", \"Jaccard\"]\n",
        "plt.legend(label, loc = 0, ncol = 2)\n",
        "plt.ylabel(\"Similarity\")\n",
        "plt.xlabel(\"Word Count\")\n",
        "plt.title(\"All pair similarities (in log) against multiplied word count of documents (in log)\")"
      ]
    },
    {
      "cell_type": "code",
      "execution_count": null,
      "metadata": {
        "colab": {
          "base_uri": "https://localhost:8080/"
        },
        "id": "VWVOPq9xlHTD",
        "outputId": "25bac5c4-1609-40f7-901f-97339fcc0d32"
      },
      "outputs": [
        {
          "output_type": "stream",
          "name": "stdout",
          "text": [
            "Metrics for Cosine All Pair Runtimes\n"
          ]
        },
        {
          "output_type": "execute_result",
          "data": {
            "text/plain": [
              "(0.014968718538722139, -0.1726962994551091, 0.0044892305246106295)"
            ]
          },
          "metadata": {},
          "execution_count": 84
        }
      ],
      "source": [
        "# Displaying metrics in pandas using slope_intercept_std() method\n",
        "print(\"Metrics for Cosine All Pair Runtimes\")\n",
        "allPair.slope_intercept_std(sum_of_wordcount_joined, Cosine_SIM_joined)"
      ]
    },
    {
      "cell_type": "code",
      "execution_count": null,
      "metadata": {
        "colab": {
          "base_uri": "https://localhost:8080/"
        },
        "id": "8gvZMXtvlHTD",
        "outputId": "23550c25-97be-4485-b0df-2cf0c78936f3"
      },
      "outputs": [
        {
          "output_type": "stream",
          "name": "stdout",
          "text": [
            "Metrics for Jaccard All Pair Runtimes\n"
          ]
        },
        {
          "output_type": "execute_result",
          "data": {
            "text/plain": [
              "(0.13656279429284618, -1.747511721074422, 0.054299259130465044)"
            ]
          },
          "metadata": {},
          "execution_count": 85
        }
      ],
      "source": [
        "# Displaying metrics in pandas using slope_intercept_std() method\n",
        "print(\"Metrics for Jaccard All Pair Runtimes\")\n",
        "allPair.slope_intercept_std(sum_of_wordcount_joined, Jaccard_SIM_joined)"
      ]
    },
    {
      "cell_type": "markdown",
      "metadata": {
        "id": "tw2f5Yh1lHTE"
      },
      "source": [
        "***Figure 4.7:*** Scatter plot of all pair similarities (in log) against all pair run time (in log)\n"
      ]
    },
    {
      "cell_type": "code",
      "execution_count": null,
      "metadata": {
        "colab": {
          "base_uri": "https://localhost:8080/",
          "height": 312
        },
        "id": "L0dnaNHQlHTE",
        "outputId": "1061b451-d29a-4f47-e0e7-3e6f833ac9c2"
      },
      "outputs": [
        {
          "output_type": "execute_result",
          "data": {
            "text/plain": [
              "Text(0.5, 1.0, 'All pair similarities (in log) against all pair run time (in log)')"
            ]
          },
          "metadata": {},
          "execution_count": 86
        },
        {
          "output_type": "display_data",
          "data": {
            "image/png": "[encoded data removed]",
            "text/plain": [
              "<Figure size 432x288 with 1 Axes>"
            ]
          },
          "metadata": {
            "needs_background": "light"
          }
        }
      ],
      "source": [
        "# Plotting with matplotlib\n",
        "plt.scatter(Cosine_SIM_joined, Cosine_RT_joined)\n",
        "plt.scatter(Jaccard_SIM_joined, Jaccard_RT_joined)\n",
        "label = [\"Cosine\", \"Jaccard\"]\n",
        "plt.legend(label, loc = 0, ncol = 2)\n",
        "plt.ylabel(\"Run Time\")\n",
        "plt.xlabel(\"Similarity\")\n",
        "plt.title(\"All pair similarities (in log) against all pair run time (in log)\")"
      ]
    },
    {
      "cell_type": "code",
      "execution_count": null,
      "metadata": {
        "colab": {
          "base_uri": "https://localhost:8080/"
        },
        "id": "L0u0Uyc7lHTF",
        "outputId": "ded9bd47-c991-4f74-9f42-473df114d2bb"
      },
      "outputs": [
        {
          "output_type": "stream",
          "name": "stdout",
          "text": [
            "Metrics for Cosine All Pair Runtimes\n"
          ]
        },
        {
          "output_type": "execute_result",
          "data": {
            "text/plain": [
              "(1.0047654359604912, -2.2566706913011987, 0.4733509409888082)"
            ]
          },
          "metadata": {},
          "execution_count": 87
        }
      ],
      "source": [
        "# Displaying metrics in pandas using slope_intercept_std() method\n",
        "print(\"Metrics for Cosine All Pair Runtimes\")\n",
        "allPair.slope_intercept_std(Cosine_SIM_joined, Cosine_RT_joined)"
      ]
    },
    {
      "cell_type": "code",
      "execution_count": null,
      "metadata": {
        "colab": {
          "base_uri": "https://localhost:8080/"
        },
        "id": "ImVJqAUTlHTG",
        "outputId": "052b2729-a6c3-4379-deed-9f2c952fffa7"
      },
      "outputs": [
        {
          "output_type": "stream",
          "name": "stdout",
          "text": [
            "Metrics for Jaccard All Pair Runtimes\n"
          ]
        },
        {
          "output_type": "execute_result",
          "data": {
            "text/plain": [
              "(0.1346521628694235, -2.5000277539534252, 0.043930294453405794)"
            ]
          },
          "metadata": {},
          "execution_count": 88
        }
      ],
      "source": [
        "# Displaying metrics in pandas using slope_intercept_std() method\n",
        "print(\"Metrics for Jaccard All Pair Runtimes\")\n",
        "allPair.slope_intercept_std(Jaccard_SIM_joined, Jaccard_RT_joined)"
      ]
    },
    {
      "cell_type": "markdown",
      "metadata": {
        "id": "1AAC4MnTlHTG"
      },
      "source": [
        "# **Figures 4.8 - 4.9:** Analysis of avergage run time and againstincreacing size of documents"
      ]
    },
    {
      "cell_type": "markdown",
      "metadata": {
        "id": "p8f0VSIylHTG"
      },
      "source": [
        "***Figure 4.8:*** Scatter plot of runtimes against increacing the 324 of paires computed in the gutenberg corpus from NLTK"
      ]
    },
    {
      "cell_type": "code",
      "execution_count": null,
      "metadata": {
        "colab": {
          "base_uri": "https://localhost:8080/",
          "height": 312
        },
        "id": "5j8y_s-jlHTH",
        "outputId": "30fcb36d-9207-4a9b-ed89-e429a5451618"
      },
      "outputs": [
        {
          "output_type": "execute_result",
          "data": {
            "text/plain": [
              "Text(0.5, 1.0, 'Run time against increaced number of pairs computed')"
            ]
          },
          "metadata": {},
          "execution_count": 89
        },
        {
          "output_type": "display_data",
          "data": {
            "image/png": "[encoded data removed]",
            "text/plain": [
              "<Figure size 432x288 with 1 Axes>"
            ]
          },
          "metadata": {
            "needs_background": "light"
          }
        }
      ],
      "source": [
        "# Plotting with matplotlib\n",
        "y, x = allPair.increacing_byPair(jaccardRuntime) \n",
        "plt.scatter(x, y)\n",
        "y_, x_ = allPair.increacing_byPair(sparseRuntime)\n",
        "plt.scatter(x_, y_)\n",
        "label = [\"Cosine\", \"Jaccard\"]\n",
        "plt.legend(label, loc = 0, ncol = 2)\n",
        "plt.ylabel(\"Run Time\")\n",
        "plt.xlabel(\"Number of pairs computed\")\n",
        "plt.title(\"Run time against increaced number of pairs computed\")\n",
        "\n"
      ]
    },
    {
      "cell_type": "code",
      "execution_count": null,
      "metadata": {
        "colab": {
          "base_uri": "https://localhost:8080/"
        },
        "id": "1pAJ_LpjlHTH",
        "outputId": "5e499a3c-09e3-4069-c7b2-8ad572ab0e0a"
      },
      "outputs": [
        {
          "output_type": "stream",
          "name": "stdout",
          "text": [
            "Metrics for Cosine Runtimes\n"
          ]
        },
        {
          "output_type": "execute_result",
          "data": {
            "text/plain": [
              "(0.9482307618755915, -2.402208327861263, 0.0055394418501847195)"
            ]
          },
          "metadata": {},
          "execution_count": 90
        }
      ],
      "source": [
        "# Displaying metrics in pandas using slope_intercept_std() method\n",
        "print(\"Metrics for Cosine Runtimes\")\n",
        "allPair.slope_intercept_std(x, y)\n"
      ]
    },
    {
      "cell_type": "code",
      "execution_count": null,
      "metadata": {
        "colab": {
          "base_uri": "https://localhost:8080/"
        },
        "id": "WtEITTv7lHTH",
        "outputId": "a5475b61-4306-4e52-a836-e18d50974e2f"
      },
      "outputs": [
        {
          "output_type": "stream",
          "name": "stdout",
          "text": [
            "Metrics for Jaccard's Runtimes\n"
          ]
        },
        {
          "output_type": "execute_result",
          "data": {
            "text/plain": [
              "(0.9832386177138239, -2.217580569369632, 0.004141930385682739)"
            ]
          },
          "metadata": {},
          "execution_count": 91
        }
      ],
      "source": [
        "# Displaying metrics in pandas using slope_intercept_std() method\n",
        "print(\"Metrics for Jaccard's Runtimes\")\n",
        "allPair.slope_intercept_std(x_, y_)"
      ]
    },
    {
      "cell_type": "markdown",
      "metadata": {
        "id": "ukRO1wstlHTI"
      },
      "source": [
        "***Figure 4.9:*** Scatter plot of runtimes against increacing size of docs (from 1 - 18)"
      ]
    },
    {
      "cell_type": "code",
      "execution_count": null,
      "metadata": {
        "colab": {
          "base_uri": "https://localhost:8080/",
          "height": 312
        },
        "id": "YNJ5E6bElHTI",
        "outputId": "3a541f0d-45fb-440a-b1eb-12f1b5bced8a"
      },
      "outputs": [
        {
          "output_type": "execute_result",
          "data": {
            "text/plain": [
              "(1.7677761470679971, -2.2450121134155747, 0.054053317875850646)"
            ]
          },
          "metadata": {},
          "execution_count": 92
        },
        {
          "output_type": "display_data",
          "data": {
            "image/png": "[encoded data removed]",
            "text/plain": [
              "<Figure size 432x288 with 1 Axes>"
            ]
          },
          "metadata": {
            "needs_background": "light"
          }
        }
      ],
      "source": [
        "# Plotting with matplotlib\n",
        "y, x = allPair.increacing_byEpochJaccard()\n",
        "plt.plot(x, y)\n",
        "y_, x_ = allPair.increacing_byEpochCosine()\n",
        "plt.plot(x_, y_)\n",
        "label = [\"Cosine\", \"Jaccard\"]\n",
        "plt.legend(label, loc = 0, ncol = 2)\n",
        "plt.ylabel(\"Run Time\")\n",
        "plt.xlabel(\"Number Docs Computed\")\n",
        "plt.title(\"Run time against increaced number of docs computed\")\n",
        "\n",
        "allPair.slope_intercept_std(x, y)"
      ]
    },
    {
      "cell_type": "code",
      "execution_count": null,
      "metadata": {
        "colab": {
          "base_uri": "https://localhost:8080/"
        },
        "id": "pQEp7GZDlHTI",
        "outputId": "05d7e82a-ddbd-47a2-b77e-2a1dd17015c4"
      },
      "outputs": [
        {
          "output_type": "stream",
          "name": "stdout",
          "text": [
            "Metrics for Cosine Runtimes\n"
          ]
        },
        {
          "output_type": "execute_result",
          "data": {
            "text/plain": [
              "(1.7677761470679971, -2.2450121134155747, 0.054053317875850646)"
            ]
          },
          "metadata": {},
          "execution_count": 93
        }
      ],
      "source": [
        "# Displaying metrics in pandas using slope_intercept_std() method\n",
        "print(\"Metrics for Jaccard's Runtimes\")\n",
        "allPair.slope_intercept_std(x, y)"
      ]
    },
    {
      "cell_type": "code",
      "execution_count": null,
      "metadata": {
        "colab": {
          "base_uri": "https://localhost:8080/"
        },
        "id": "I0HM57E6lHTJ",
        "outputId": "77e7cb2f-d650-451d-e688-fde9b7f945f8"
      },
      "outputs": [
        {
          "output_type": "stream",
          "name": "stdout",
          "text": [
            "Metrics for Jaccard's Runtimes\n"
          ]
        },
        {
          "output_type": "execute_result",
          "data": {
            "text/plain": [
              "(1.9933356187697817, -2.214722969454929, 0.04023144347276455)"
            ]
          },
          "metadata": {},
          "execution_count": 94
        }
      ],
      "source": [
        "# Displaying metrics in pandas using slope_intercept_std() method\n",
        "print(\"Metrics for Cosine Runtimes\")\n",
        "allPair.slope_intercept_std(x_, y_)"
      ]
    },
    {
      "cell_type": "markdown",
      "metadata": {
        "id": "E3ib_bxjlHTJ"
      },
      "source": [
        "# **==== QUESTION 4 (REPORT) ====**\n"
      ]
    },
    {
      "cell_type": "markdown",
      "metadata": {
        "id": "xzigggFnlHTK"
      },
      "source": [
        "**Experimentations and Analysis**\n",
        " \n",
        "The largest and smallest of the 18 documents in the gutenberg collection were doc 13 and doc 7 with 19,317 and 1,764 words respectively (check cells below). Jaccard’s similarity measure provided us with coefficients ranging 0.07-0.63 [figure 4.1], while the cosine similarity measure ranged 0.69-0.99 [figure 4.1]. Despite previous finding proportionality between our similarity measures, word count and runtimes (questions 1-2), figures 4.6 & 4.7 neglect any such linkage.\n",
        " \n",
        "However, runtime appears to increase in response to the multiplied word count of each of the 324 pairs plotted for both algorithms [figure 4.5]. Although this implies proportionality between word counts of documents of uneven sizes and runtime, the rate at which the average runtime increases for each of the 324 pairs appears to be steady suggesting that link between uneven word counts are not too significant unless both documents are large. Subsequently, the maximum and minimum runtimes observed in the 324 pairs came from our largest document (doc 13) and smallest documents (doc 5 and 7 with bag of words < 2,000) implying significance of the size of documents being compared [figures 4.3 and 4.4].\n",
        " \n",
        "Following further experimentations, the number of documents increased from 1 to 18 and the plot appears to be less steady for both measures [figure 4.8]. Nevertheless, cosine similarity measures did manage to attain faster runtimes at the start only to be overtaken by jaccards as the number of documents slightly increased [figure 4.9].\n",
        " \n",
        "**Estimations of Constants**\n",
        " \n",
        "If **$y=ax^{b}$**, then **$log(y) = log(x)b+log(a)$** where **$b$** is the slope and **$a$** is the intercept. Accordingly, the slope is 1.76 and the intercept at -2.25 (**$intercept\\approx -2$** and **$y\\approx x^{1.76}*10^{-2}$**) for the jaccard’s similarity. On the other hand, the slope is 1.99 and the intercept is -2.22 (**$intercept\\approx -2$** and **$y\\approx x^{1.99}*10^{-2}$**) for cosine similarity. Therefore, the estimated runtimes for 200,000 documents can be denoted as  **$20000^{1.76}*10^{-2.25}\\approx12017462$** (jaccard) and **$20000^{1.99}*10^{-2.22}\\approx213328898$** (cosine). In this respect, jaccard's measure was almost 18 times faster runtime with **$O(n^{1.76})$** than cosine **$O(n^{1.99})$** when faced with large sample of 200k documents.\n"
      ]
    },
    {
      "cell_type": "code",
      "source": [
        "# Run code to get the estimated time for 50,000 word count \n",
        "# Estimates for the run time can then be compared actual results \n",
        "a = -2.25# Intercept \n",
        "b = 1.76# Slope\n",
        "x = 200000# Word Count\n",
        "y = 10**a * x**b # Y is the estimated runtime \n",
        "y"
      ],
      "metadata": {
        "colab": {
          "base_uri": "https://localhost:8080/"
        },
        "id": "UVszOJSk3rMu",
        "outputId": "8ca9e598-55cd-43ae-ca8b-23b9ffffd0b9"
      },
      "execution_count": null,
      "outputs": [
        {
          "output_type": "execute_result",
          "data": {
            "text/plain": [
              "12017462.963879632"
            ]
          },
          "metadata": {},
          "execution_count": 99
        }
      ]
    },
    {
      "cell_type": "code",
      "source": [
        "# Run code to get the estimated time for 50,000 word count \n",
        "# Estimates for the run time can then be compared actual results in figure 1.1\n",
        "a = -2.22# Intercept \n",
        "b = 1.99# Slope\n",
        "x = 200000# Word Count\n",
        "y = 10**a * x**b # Y is the estimated runtime \n",
        "y"
      ],
      "metadata": {
        "colab": {
          "base_uri": "https://localhost:8080/"
        },
        "id": "NiQTlmrR3sr6",
        "outputId": "6c0b081a-f2f8-4c3e-db8f-a9a45c6eb585"
      },
      "execution_count": null,
      "outputs": [
        {
          "output_type": "execute_result",
          "data": {
            "text/plain": [
              "213328898.71454725"
            ]
          },
          "metadata": {},
          "execution_count": 96
        }
      ]
    },
    {
      "cell_type": "code",
      "source": [
        "213328898/12017462"
      ],
      "metadata": {
        "colab": {
          "base_uri": "https://localhost:8080/"
        },
        "id": "BLOchLZg4TQS",
        "outputId": "b42e1b43-5e87-47d7-a588-700fc098274b"
      },
      "execution_count": null,
      "outputs": [
        {
          "output_type": "execute_result",
          "data": {
            "text/plain": [
              "17.7515766640244"
            ]
          },
          "metadata": {},
          "execution_count": 100
        }
      ]
    },
    {
      "cell_type": "code",
      "source": [
        "# Lengths of documents provided as reference \n",
        "{f\"doc {i+1}\": {allPair.word_count[i]} for i in range(18)}"
      ],
      "metadata": {
        "colab": {
          "base_uri": "https://localhost:8080/"
        },
        "id": "HUNjdwRy7_56",
        "outputId": "46d3a096-eed3-4925-f0be-4d8b8ab86205"
      },
      "execution_count": null,
      "outputs": [
        {
          "output_type": "execute_result",
          "data": {
            "text/plain": [
              "{'doc 1': {7811},\n",
              " 'doc 10': {8299},\n",
              " 'doc 11': {6807},\n",
              " 'doc 12': {9593},\n",
              " 'doc 13': {19317},\n",
              " 'doc 14': {10751},\n",
              " 'doc 15': {3560},\n",
              " 'doc 16': {5447},\n",
              " 'doc 17': {4017},\n",
              " 'doc 18': {14329},\n",
              " 'doc 2': {6132},\n",
              " 'doc 3': {6833},\n",
              " 'doc 4': {13769},\n",
              " 'doc 5': {1820},\n",
              " 'doc 6': {4420},\n",
              " 'doc 7': {1764},\n",
              " 'doc 8': {3016},\n",
              " 'doc 9': {8947}}"
            ]
          },
          "metadata": {},
          "execution_count": 127
        }
      ]
    },
    {
      "cell_type": "markdown",
      "metadata": {
        "id": "TFVjh7mylHTK"
      },
      "source": [
        "# **==========================**"
      ]
    },
    {
      "cell_type": "markdown",
      "metadata": {
        "id": "CdTgYjMIlHTK"
      },
      "source": [
        "# **Question 5 Functions**"
      ]
    },
    {
      "cell_type": "code",
      "execution_count": null,
      "metadata": {
        "id": "lsIBi9FflHTM"
      },
      "outputs": [],
      "source": [
        "# Returns all combinations of document index in list of list \n",
        "# Parameters: Collection of documents\n",
        "def all_pair(doc):\n",
        "  return [[[doc_1, doc_2] for doc_2 in range(doc_1+1, len(doc))] for doc_1 in range(len(doc)-1)]"
      ]
    },
    {
      "cell_type": "code",
      "execution_count": null,
      "metadata": {
        "id": "o2d4zZeilHTM"
      },
      "outputs": [],
      "source": [
        "# Returns combinations of document index in tuples of strings and int\n",
        "# Parameter: Documents index pairs \n",
        "def mapper(doc):\n",
        "  return [(str(num[0]),num) for num in doc]"
      ]
    },
    {
      "cell_type": "code",
      "execution_count": null,
      "metadata": {
        "id": "Z95EVG74lHTN"
      },
      "outputs": [],
      "source": [
        "# Reducer function that computes jaccards similarity for single reducing process \n",
        "# Mapped index that need to be computed \n",
        "def reducer_jac(item):\n",
        "  word, counts =item\n",
        "  output=[]\n",
        "  for i in counts:\n",
        "    total_intersect = sum({item: min(doc[i[0]][item], doc[i[1]][item]) for item in doc[i[0]].keys() if item in doc[i[1]].keys()}.values())\n",
        "    union = sum(doc[i[0]].values()) + sum(doc[i[1]].values()) - total_intersect\n",
        "    jac = total_intersect/union\n",
        "    output.append(((i[0], i[1]), jac))\n",
        "  return output"
      ]
    },
    {
      "cell_type": "code",
      "execution_count": null,
      "metadata": {
        "id": "WexFo3SflHTN"
      },
      "outputs": [],
      "source": [
        "# Computes dot product of two tokens \n",
        "# Parameters: Two tokens in sparse representation\n",
        "def dot( tok_a, tok_b):\n",
        "  # Adjusting matrix based on sizer\n",
        "  if len(tok_a) < len(tok_b):\n",
        "    A, B = tok_a, tok_b\n",
        "  else:\n",
        "    B, A = tok_a, tok_b\n",
        "  # Returning the dot product of the two\n",
        "  return sum([freq * B.get(word,0) for word, freq in A.items()])"
      ]
    },
    {
      "cell_type": "code",
      "execution_count": null,
      "metadata": {
        "id": "h19qd9FYlHTN"
      },
      "outputs": [],
      "source": [
        "# Reducer function that computes cosine similarity for single reducing process \n",
        "# Mapped index that need to be computed \n",
        "def reducer_cos(item):\n",
        "  (word,counts)=item\n",
        "  return [((i[0], i[1]), dot(doc[i[0]], doc[i[1]])/np.sqrt(dot(doc[i[0]], doc[i[0]])*dot(doc[i[1]], doc[i[1]]))) for i in counts]"
      ]
    },
    {
      "cell_type": "code",
      "execution_count": null,
      "metadata": {
        "id": "03q_6GDRlHTN"
      },
      "outputs": [],
      "source": [
        "# Map reduce algorithm\n",
        "# Parameter: Collection of duments (doc)\n",
        "# Parameter: Mapping function\n",
        "# Parameter: Reducer function (either jaccards or cosine)\n",
        "# Parameter: Map/Reduce processes as int\n",
        "def map_reduce_parallel(doc, mapper, reducer, mapprocesses=3,reduceprocesses=2):\n",
        "  outputs=[]\n",
        "  collector=defaultdict(list)  \n",
        "  doc_allpair = all_pair(doc)\n",
        "  mappool = Pool(processes=mapprocesses)\n",
        "  #map stage\n",
        "  mapresults=mappool.map(mapper,doc_allpair)\n",
        "  mappool.close()\n",
        "  collector=defaultdict(list)\n",
        "  for mapresult in mapresults:\n",
        "    for key, value in mapresult:     #pass each input to the mapper function and receive back each key,value pair yielded\n",
        "      collector[key].append(value)     #append the value to the list for that key in the intermediate store\n",
        "  reducepool = Pool(processes=reduceprocesses)\n",
        "  #reduce stage\n",
        "  reduceresults=reducepool.map(reducer,collector.items())\n",
        "  reducepool.close()\n",
        "  for reduceresult in reduceresults:\n",
        "    outputs+=reduceresult\n",
        "  return outputs"
      ]
    },
    {
      "cell_type": "code",
      "source": [
        "# Computes average runtime using map reduce for number of epochs \n",
        "# Check map reduce parameters above \n",
        "def average_runtime_mapReduce(doc, mapper, reducer, epoch, map, red):\n",
        "  times = []\n",
        "  for i in range(epoch):\n",
        "    start = time.time()\n",
        "    ans = map_reduce_parallel(doc, mapper, reducer, map, red)\n",
        "    runtime = time.time() - start \n",
        "    times.append(runtime)\n",
        "  return np.mean(times)\n"
      ],
      "metadata": {
        "id": "jAlFcYQ5xMgi"
      },
      "execution_count": null,
      "outputs": []
    },
    {
      "cell_type": "code",
      "source": [
        "# Experiments map/reduces processes between 1-4 and returns all outputs\n",
        "# Check map reduce parameters above \n",
        "def find_optimal_process(doc, mapper, reducer):\n",
        "  myDict = {}\n",
        "  for map in range(1, 5):\n",
        "    for red in range(1, 5):\n",
        "      start = time.time()\n",
        "      ans = map_reduce_parallel(doc, mapper, reducer, map, red)\n",
        "      runtime = time.time() - start\n",
        "      myDict[f\"{map}: {red}\"] = runtime\n",
        "  return pd.DataFrame({\"Map: Reduce\": list(myDict.keys()), \"Runtime\": list(myDict.values())})"
      ],
      "metadata": {
        "id": "cJ12APSQBNAu"
      },
      "execution_count": null,
      "outputs": []
    },
    {
      "cell_type": "code",
      "source": [
        "# Computes average runtimes for the original implmentations without map reduce over number of epochs \n",
        "# Parameter: Collection of documents (doc)\n",
        "# Parameter: Similarity function (either jaccards or cosine in sparse representation)\n",
        "def average_runtime_original(doc, function_sim, epoch):\n",
        "  times = []\n",
        "\n",
        "  for i in range(epoch):\n",
        "    start = time.time()\n",
        "    for tok_a in range(len(doc)):\n",
        "      for tok_b in range(i+1, len(doc)):\n",
        "        ans = function_sim(doc[tok_a], doc[tok_b])\n",
        "        \n",
        "    runtime = time.time() - start\n",
        "    times.append(runtime)\n",
        "\n",
        "    \n",
        "  print(times)\n",
        "  return np.mean(times)\n"
      ],
      "metadata": {
        "id": "inGcUjLo0Lgm"
      },
      "execution_count": null,
      "outputs": []
    },
    {
      "cell_type": "code",
      "execution_count": null,
      "metadata": {
        "id": "qIm19QOplHTO"
      },
      "outputs": [],
      "source": [
        "# Setup\n",
        "doc = allPair.corpus_dict_list\n",
        "epoch = 10\n"
      ]
    },
    {
      "cell_type": "markdown",
      "source": [
        "# **Figure 5.1:** Jaccard's All Pair Similarities - Map Reduce"
      ],
      "metadata": {
        "id": "wMnUkUmE_CHw"
      }
    },
    {
      "cell_type": "markdown",
      "source": [
        "**Jaccards all pair similarities**"
      ],
      "metadata": {
        "id": "uP-FBwVX_TPO"
      }
    },
    {
      "cell_type": "markdown",
      "source": [
        "***Figure 5.1:*** Dataframe with jaccards all pari similarities computed using map reduce and then adding original implementations for validation"
      ],
      "metadata": {
        "id": "lQb4rTDnZioc"
      }
    },
    {
      "cell_type": "code",
      "execution_count": null,
      "metadata": {
        "colab": {
          "base_uri": "https://localhost:8080/",
          "height": 363
        },
        "id": "_qzEXIrllHTO",
        "outputId": "ea905f99-a76e-4aa5-cd05-be0cf436ff05"
      },
      "outputs": [
        {
          "output_type": "execute_result",
          "data": {
            "text/html": [
              "<div>\n",
              "<style scoped>\n",
              "    .dataframe tbody tr th:only-of-type {\n",
              "        vertical-align: middle;\n",
              "    }\n",
              "\n",
              "    .dataframe tbody tr th {\n",
              "        vertical-align: top;\n",
              "    }\n",
              "\n",
              "    .dataframe thead th {\n",
              "        text-align: right;\n",
              "    }\n",
              "</style>\n",
              "<table border=\"1\" class=\"dataframe\">\n",
              "  <thead>\n",
              "    <tr style=\"text-align: right;\">\n",
              "      <th></th>\n",
              "      <th>Docs</th>\n",
              "      <th>Similarity (Map Reduce)</th>\n",
              "    </tr>\n",
              "  </thead>\n",
              "  <tbody>\n",
              "    <tr>\n",
              "      <th>0</th>\n",
              "      <td>(0, 1)</td>\n",
              "      <td>0.448781</td>\n",
              "    </tr>\n",
              "    <tr>\n",
              "      <th>1</th>\n",
              "      <td>(0, 2)</td>\n",
              "      <td>0.612739</td>\n",
              "    </tr>\n",
              "    <tr>\n",
              "      <th>2</th>\n",
              "      <td>(0, 3)</td>\n",
              "      <td>0.132149</td>\n",
              "    </tr>\n",
              "    <tr>\n",
              "      <th>3</th>\n",
              "      <td>(0, 4)</td>\n",
              "      <td>0.033271</td>\n",
              "    </tr>\n",
              "    <tr>\n",
              "      <th>4</th>\n",
              "      <td>(0, 5)</td>\n",
              "      <td>0.224412</td>\n",
              "    </tr>\n",
              "    <tr>\n",
              "      <th>5</th>\n",
              "      <td>(0, 6)</td>\n",
              "      <td>0.077240</td>\n",
              "    </tr>\n",
              "    <tr>\n",
              "      <th>6</th>\n",
              "      <td>(0, 7)</td>\n",
              "      <td>0.138325</td>\n",
              "    </tr>\n",
              "    <tr>\n",
              "      <th>7</th>\n",
              "      <td>(0, 8)</td>\n",
              "      <td>0.358864</td>\n",
              "    </tr>\n",
              "    <tr>\n",
              "      <th>8</th>\n",
              "      <td>(0, 9)</td>\n",
              "      <td>0.327983</td>\n",
              "    </tr>\n",
              "    <tr>\n",
              "      <th>9</th>\n",
              "      <td>(0, 10)</td>\n",
              "      <td>0.274260</td>\n",
              "    </tr>\n",
              "  </tbody>\n",
              "</table>\n",
              "</div>"
            ],
            "text/plain": [
              "      Docs  Similarity (Map Reduce)\n",
              "0   (0, 1)                 0.448781\n",
              "1   (0, 2)                 0.612739\n",
              "2   (0, 3)                 0.132149\n",
              "3   (0, 4)                 0.033271\n",
              "4   (0, 5)                 0.224412\n",
              "5   (0, 6)                 0.077240\n",
              "6   (0, 7)                 0.138325\n",
              "7   (0, 8)                 0.358864\n",
              "8   (0, 9)                 0.327983\n",
              "9  (0, 10)                 0.274260"
            ]
          },
          "metadata": {},
          "execution_count": 19
        }
      ],
      "source": [
        "# Computing jaccard's all pair smilarities using map reduce \n",
        "jac_mapReduceSim = map_reduce_parallel(doc, mapper, reducer_jac)\n",
        "docs, sim = [x for x, y in jac_mapReduceSim[:10]], [y for x, y in jac_mapReduceSim[:10]]\n",
        "df = pd.DataFrame(data={\"Docs\": docs, \"Similarity (Map Reduce)\": sim})\n",
        "df "
      ]
    },
    {
      "cell_type": "markdown",
      "source": [
        "**Testing jaccards map reduce function for correctness**"
      ],
      "metadata": {
        "id": "VJPyB1AG_fg2"
      }
    },
    {
      "cell_type": "code",
      "source": [
        "# Adding original resulst\n",
        "tokens = list(df[\"Docs\"])\n",
        "sims = [Jac.jaccards(doc[tok_a], doc[tok_b]) for tok_a, tok_b in tokens]\n",
        "df[\"similarity (original)\"] = sims\n",
        "df"
      ],
      "metadata": {
        "colab": {
          "base_uri": "https://localhost:8080/",
          "height": 363
        },
        "id": "CwNi0vhXzjel",
        "outputId": "7291ff40-843b-4b19-ec40-71f38aaf892a"
      },
      "execution_count": null,
      "outputs": [
        {
          "output_type": "execute_result",
          "data": {
            "text/html": [
              "<div>\n",
              "<style scoped>\n",
              "    .dataframe tbody tr th:only-of-type {\n",
              "        vertical-align: middle;\n",
              "    }\n",
              "\n",
              "    .dataframe tbody tr th {\n",
              "        vertical-align: top;\n",
              "    }\n",
              "\n",
              "    .dataframe thead th {\n",
              "        text-align: right;\n",
              "    }\n",
              "</style>\n",
              "<table border=\"1\" class=\"dataframe\">\n",
              "  <thead>\n",
              "    <tr style=\"text-align: right;\">\n",
              "      <th></th>\n",
              "      <th>Docs</th>\n",
              "      <th>Similarity (Map Reduce)</th>\n",
              "      <th>similarity (original)</th>\n",
              "    </tr>\n",
              "  </thead>\n",
              "  <tbody>\n",
              "    <tr>\n",
              "      <th>0</th>\n",
              "      <td>(0, 1)</td>\n",
              "      <td>0.448781</td>\n",
              "      <td>0.448781</td>\n",
              "    </tr>\n",
              "    <tr>\n",
              "      <th>1</th>\n",
              "      <td>(0, 2)</td>\n",
              "      <td>0.612739</td>\n",
              "      <td>0.612739</td>\n",
              "    </tr>\n",
              "    <tr>\n",
              "      <th>2</th>\n",
              "      <td>(0, 3)</td>\n",
              "      <td>0.132149</td>\n",
              "      <td>0.132149</td>\n",
              "    </tr>\n",
              "    <tr>\n",
              "      <th>3</th>\n",
              "      <td>(0, 4)</td>\n",
              "      <td>0.033271</td>\n",
              "      <td>0.033271</td>\n",
              "    </tr>\n",
              "    <tr>\n",
              "      <th>4</th>\n",
              "      <td>(0, 5)</td>\n",
              "      <td>0.224412</td>\n",
              "      <td>0.224412</td>\n",
              "    </tr>\n",
              "    <tr>\n",
              "      <th>5</th>\n",
              "      <td>(0, 6)</td>\n",
              "      <td>0.077240</td>\n",
              "      <td>0.077240</td>\n",
              "    </tr>\n",
              "    <tr>\n",
              "      <th>6</th>\n",
              "      <td>(0, 7)</td>\n",
              "      <td>0.138325</td>\n",
              "      <td>0.138325</td>\n",
              "    </tr>\n",
              "    <tr>\n",
              "      <th>7</th>\n",
              "      <td>(0, 8)</td>\n",
              "      <td>0.358864</td>\n",
              "      <td>0.358864</td>\n",
              "    </tr>\n",
              "    <tr>\n",
              "      <th>8</th>\n",
              "      <td>(0, 9)</td>\n",
              "      <td>0.327983</td>\n",
              "      <td>0.327983</td>\n",
              "    </tr>\n",
              "    <tr>\n",
              "      <th>9</th>\n",
              "      <td>(0, 10)</td>\n",
              "      <td>0.274260</td>\n",
              "      <td>0.274260</td>\n",
              "    </tr>\n",
              "  </tbody>\n",
              "</table>\n",
              "</div>"
            ],
            "text/plain": [
              "      Docs  Similarity (Map Reduce)  similarity (original)\n",
              "0   (0, 1)                 0.448781               0.448781\n",
              "1   (0, 2)                 0.612739               0.612739\n",
              "2   (0, 3)                 0.132149               0.132149\n",
              "3   (0, 4)                 0.033271               0.033271\n",
              "4   (0, 5)                 0.224412               0.224412\n",
              "5   (0, 6)                 0.077240               0.077240\n",
              "6   (0, 7)                 0.138325               0.138325\n",
              "7   (0, 8)                 0.358864               0.358864\n",
              "8   (0, 9)                 0.327983               0.327983\n",
              "9  (0, 10)                 0.274260               0.274260"
            ]
          },
          "metadata": {},
          "execution_count": 20
        }
      ]
    },
    {
      "cell_type": "markdown",
      "source": [
        "# **Figure 5.2:** Consine All Pair Similarities - Map Reduce"
      ],
      "metadata": {
        "id": "NKtu0hlqALbo"
      }
    },
    {
      "cell_type": "markdown",
      "source": [
        "**Cosine all pair similarities** Dataframe with cosine all pair similarities computed using map reduce "
      ],
      "metadata": {
        "id": "uuKNvKmiARVG"
      }
    },
    {
      "cell_type": "markdown",
      "source": [
        "***Figure 5.2:*** Dataframe with cosine all pair similarities computed using map reduce and then adding original implementations for validation"
      ],
      "metadata": {
        "id": "hyViNhvHZta3"
      }
    },
    {
      "cell_type": "code",
      "execution_count": null,
      "metadata": {
        "colab": {
          "base_uri": "https://localhost:8080/",
          "height": 363
        },
        "id": "z-954ZzTlHTO",
        "outputId": "c9c9a529-6a0f-4213-f216-e8c64f8ce348"
      },
      "outputs": [
        {
          "output_type": "execute_result",
          "data": {
            "text/html": [
              "<div>\n",
              "<style scoped>\n",
              "    .dataframe tbody tr th:only-of-type {\n",
              "        vertical-align: middle;\n",
              "    }\n",
              "\n",
              "    .dataframe tbody tr th {\n",
              "        vertical-align: top;\n",
              "    }\n",
              "\n",
              "    .dataframe thead th {\n",
              "        text-align: right;\n",
              "    }\n",
              "</style>\n",
              "<table border=\"1\" class=\"dataframe\">\n",
              "  <thead>\n",
              "    <tr style=\"text-align: right;\">\n",
              "      <th></th>\n",
              "      <th>Docs</th>\n",
              "      <th>Similarity (Map Reduce)</th>\n",
              "    </tr>\n",
              "  </thead>\n",
              "  <tbody>\n",
              "    <tr>\n",
              "      <th>0</th>\n",
              "      <td>(0, 1)</td>\n",
              "      <td>0.976089</td>\n",
              "    </tr>\n",
              "    <tr>\n",
              "      <th>1</th>\n",
              "      <td>(0, 2)</td>\n",
              "      <td>0.981084</td>\n",
              "    </tr>\n",
              "    <tr>\n",
              "      <th>2</th>\n",
              "      <td>(0, 3)</td>\n",
              "      <td>0.802430</td>\n",
              "    </tr>\n",
              "    <tr>\n",
              "      <th>3</th>\n",
              "      <td>(0, 4)</td>\n",
              "      <td>0.854748</td>\n",
              "    </tr>\n",
              "    <tr>\n",
              "      <th>4</th>\n",
              "      <td>(0, 5)</td>\n",
              "      <td>0.913085</td>\n",
              "    </tr>\n",
              "    <tr>\n",
              "      <th>5</th>\n",
              "      <td>(0, 6)</td>\n",
              "      <td>0.860146</td>\n",
              "    </tr>\n",
              "    <tr>\n",
              "      <th>6</th>\n",
              "      <td>(0, 7)</td>\n",
              "      <td>0.825656</td>\n",
              "    </tr>\n",
              "    <tr>\n",
              "      <th>7</th>\n",
              "      <td>(0, 8)</td>\n",
              "      <td>0.914602</td>\n",
              "    </tr>\n",
              "    <tr>\n",
              "      <th>8</th>\n",
              "      <td>(0, 9)</td>\n",
              "      <td>0.909199</td>\n",
              "    </tr>\n",
              "    <tr>\n",
              "      <th>9</th>\n",
              "      <td>(0, 10)</td>\n",
              "      <td>0.910384</td>\n",
              "    </tr>\n",
              "  </tbody>\n",
              "</table>\n",
              "</div>"
            ],
            "text/plain": [
              "      Docs  Similarity (Map Reduce)\n",
              "0   (0, 1)                 0.976089\n",
              "1   (0, 2)                 0.981084\n",
              "2   (0, 3)                 0.802430\n",
              "3   (0, 4)                 0.854748\n",
              "4   (0, 5)                 0.913085\n",
              "5   (0, 6)                 0.860146\n",
              "6   (0, 7)                 0.825656\n",
              "7   (0, 8)                 0.914602\n",
              "8   (0, 9)                 0.909199\n",
              "9  (0, 10)                 0.910384"
            ]
          },
          "metadata": {},
          "execution_count": 63
        }
      ],
      "source": [
        "# Computing jaccard's all pair smilarities using map reduce \n",
        "cos_mapReduceSim = map_reduce_parallel(doc, mapper, reducer_cos)\n",
        "docs, sim = [x for x, y in cos_mapReduceSim[:10]], [y for x, y in cos_mapReduceSim[:10]]\n",
        "df = pd.DataFrame(data={\"Docs\": docs, \"Similarity (Map Reduce)\": sim})\n",
        "df"
      ]
    },
    {
      "cell_type": "markdown",
      "source": [
        "**Testing cosine map reduce function for correctness**"
      ],
      "metadata": {
        "id": "vzKtMI64AY4m"
      }
    },
    {
      "cell_type": "code",
      "source": [
        "# Adding original resulst\n",
        "tokens = list(df[\"Docs\"])\n",
        "sims = [CosSparse.cosine_sparse_simillarity(doc[tok_a], doc[tok_b]) for tok_a, tok_b in tokens]\n",
        "df[\"similarity (original)\"] = sims\n",
        "df"
      ],
      "metadata": {
        "colab": {
          "base_uri": "https://localhost:8080/",
          "height": 363
        },
        "id": "SlE__Cme7wiV",
        "outputId": "17c3027d-aa14-4ef7-bfca-b3c44e883e5d"
      },
      "execution_count": null,
      "outputs": [
        {
          "output_type": "execute_result",
          "data": {
            "text/html": [
              "<div>\n",
              "<style scoped>\n",
              "    .dataframe tbody tr th:only-of-type {\n",
              "        vertical-align: middle;\n",
              "    }\n",
              "\n",
              "    .dataframe tbody tr th {\n",
              "        vertical-align: top;\n",
              "    }\n",
              "\n",
              "    .dataframe thead th {\n",
              "        text-align: right;\n",
              "    }\n",
              "</style>\n",
              "<table border=\"1\" class=\"dataframe\">\n",
              "  <thead>\n",
              "    <tr style=\"text-align: right;\">\n",
              "      <th></th>\n",
              "      <th>Docs</th>\n",
              "      <th>Similarity (Map Reduce)</th>\n",
              "      <th>similarity (original)</th>\n",
              "    </tr>\n",
              "  </thead>\n",
              "  <tbody>\n",
              "    <tr>\n",
              "      <th>0</th>\n",
              "      <td>(0, 1)</td>\n",
              "      <td>0.976089</td>\n",
              "      <td>0.976089</td>\n",
              "    </tr>\n",
              "    <tr>\n",
              "      <th>1</th>\n",
              "      <td>(0, 2)</td>\n",
              "      <td>0.981084</td>\n",
              "      <td>0.981084</td>\n",
              "    </tr>\n",
              "    <tr>\n",
              "      <th>2</th>\n",
              "      <td>(0, 3)</td>\n",
              "      <td>0.802430</td>\n",
              "      <td>0.802430</td>\n",
              "    </tr>\n",
              "    <tr>\n",
              "      <th>3</th>\n",
              "      <td>(0, 4)</td>\n",
              "      <td>0.854748</td>\n",
              "      <td>0.854748</td>\n",
              "    </tr>\n",
              "    <tr>\n",
              "      <th>4</th>\n",
              "      <td>(0, 5)</td>\n",
              "      <td>0.913085</td>\n",
              "      <td>0.913085</td>\n",
              "    </tr>\n",
              "    <tr>\n",
              "      <th>5</th>\n",
              "      <td>(0, 6)</td>\n",
              "      <td>0.860146</td>\n",
              "      <td>0.860146</td>\n",
              "    </tr>\n",
              "    <tr>\n",
              "      <th>6</th>\n",
              "      <td>(0, 7)</td>\n",
              "      <td>0.825656</td>\n",
              "      <td>0.825656</td>\n",
              "    </tr>\n",
              "    <tr>\n",
              "      <th>7</th>\n",
              "      <td>(0, 8)</td>\n",
              "      <td>0.914602</td>\n",
              "      <td>0.914602</td>\n",
              "    </tr>\n",
              "    <tr>\n",
              "      <th>8</th>\n",
              "      <td>(0, 9)</td>\n",
              "      <td>0.909199</td>\n",
              "      <td>0.909199</td>\n",
              "    </tr>\n",
              "    <tr>\n",
              "      <th>9</th>\n",
              "      <td>(0, 10)</td>\n",
              "      <td>0.910384</td>\n",
              "      <td>0.910384</td>\n",
              "    </tr>\n",
              "  </tbody>\n",
              "</table>\n",
              "</div>"
            ],
            "text/plain": [
              "      Docs  Similarity (Map Reduce)  similarity (original)\n",
              "0   (0, 1)                 0.976089               0.976089\n",
              "1   (0, 2)                 0.981084               0.981084\n",
              "2   (0, 3)                 0.802430               0.802430\n",
              "3   (0, 4)                 0.854748               0.854748\n",
              "4   (0, 5)                 0.913085               0.913085\n",
              "5   (0, 6)                 0.860146               0.860146\n",
              "6   (0, 7)                 0.825656               0.825656\n",
              "7   (0, 8)                 0.914602               0.914602\n",
              "8   (0, 9)                 0.909199               0.909199\n",
              "9  (0, 10)                 0.910384               0.910384"
            ]
          },
          "metadata": {},
          "execution_count": 22
        }
      ]
    },
    {
      "cell_type": "markdown",
      "source": [
        "# **Figures 5.3 - 5.4:** Finding Optimal Runtime Parameters"
      ],
      "metadata": {
        "id": "gaghkNyHIzmT"
      }
    },
    {
      "cell_type": "markdown",
      "source": [
        "**Optimal Runtime Parameters For Jaccard Similarity**"
      ],
      "metadata": {
        "id": "ogUyPT7ZJSec"
      }
    },
    {
      "cell_type": "markdown",
      "source": [
        "***Figure 5.3:*** Optimal parameter for map reduce function (jaccards)"
      ],
      "metadata": {
        "id": "AEEpBcdefA5A"
      }
    },
    {
      "cell_type": "code",
      "source": [
        "result_df = find_optimal_process(doc, mapper, reducer_jac)\n",
        "df_sorted = result_df.sort_values(by=\"Runtime\", ascending=True, axis=0)\n",
        "df_sorted.head()"
      ],
      "metadata": {
        "colab": {
          "base_uri": "https://localhost:8080/",
          "height": 206
        },
        "id": "CGudGyZtJBPu",
        "outputId": "9155bd87-0171-482f-87a0-733f77e1d95d"
      },
      "execution_count": null,
      "outputs": [
        {
          "output_type": "execute_result",
          "data": {
            "text/html": [
              "<div>\n",
              "<style scoped>\n",
              "    .dataframe tbody tr th:only-of-type {\n",
              "        vertical-align: middle;\n",
              "    }\n",
              "\n",
              "    .dataframe tbody tr th {\n",
              "        vertical-align: top;\n",
              "    }\n",
              "\n",
              "    .dataframe thead th {\n",
              "        text-align: right;\n",
              "    }\n",
              "</style>\n",
              "<table border=\"1\" class=\"dataframe\">\n",
              "  <thead>\n",
              "    <tr style=\"text-align: right;\">\n",
              "      <th></th>\n",
              "      <th>Map: Reduce</th>\n",
              "      <th>Runtime</th>\n",
              "    </tr>\n",
              "  </thead>\n",
              "  <tbody>\n",
              "    <tr>\n",
              "      <th>5</th>\n",
              "      <td>2: 2</td>\n",
              "      <td>0.544425</td>\n",
              "    </tr>\n",
              "    <tr>\n",
              "      <th>9</th>\n",
              "      <td>3: 2</td>\n",
              "      <td>0.553069</td>\n",
              "    </tr>\n",
              "    <tr>\n",
              "      <th>1</th>\n",
              "      <td>1: 2</td>\n",
              "      <td>0.555311</td>\n",
              "    </tr>\n",
              "    <tr>\n",
              "      <th>2</th>\n",
              "      <td>1: 3</td>\n",
              "      <td>0.582034</td>\n",
              "    </tr>\n",
              "    <tr>\n",
              "      <th>0</th>\n",
              "      <td>1: 1</td>\n",
              "      <td>0.587228</td>\n",
              "    </tr>\n",
              "  </tbody>\n",
              "</table>\n",
              "</div>"
            ],
            "text/plain": [
              "  Map: Reduce   Runtime\n",
              "5        2: 2  0.544425\n",
              "9        3: 2  0.553069\n",
              "1        1: 2  0.555311\n",
              "2        1: 3  0.582034\n",
              "0        1: 1  0.587228"
            ]
          },
          "metadata": {},
          "execution_count": 23
        }
      ]
    },
    {
      "cell_type": "markdown",
      "source": [
        "**Optimal Runtime Parameters For Cosine Similarity**"
      ],
      "metadata": {
        "id": "HJv5JC1UJHG4"
      }
    },
    {
      "cell_type": "markdown",
      "source": [
        "***Figure 5.4:*** Optimal parameter for map reduce function (cosine)"
      ],
      "metadata": {
        "id": "SxQ39oDmfDTz"
      }
    },
    {
      "cell_type": "code",
      "source": [
        "result_df = find_optimal_process(doc, mapper, reducer_cos)\n",
        "df_sorted = result_df.sort_values(by=\"Runtime\", ascending=True, axis=0)\n",
        "df_sorted.head()"
      ],
      "metadata": {
        "id": "R-dYLuRlA-w3",
        "colab": {
          "base_uri": "https://localhost:8080/",
          "height": 206
        },
        "outputId": "eb949490-1672-4515-a1a0-b7a82e5aec6b"
      },
      "execution_count": null,
      "outputs": [
        {
          "output_type": "execute_result",
          "data": {
            "text/html": [
              "<div>\n",
              "<style scoped>\n",
              "    .dataframe tbody tr th:only-of-type {\n",
              "        vertical-align: middle;\n",
              "    }\n",
              "\n",
              "    .dataframe tbody tr th {\n",
              "        vertical-align: top;\n",
              "    }\n",
              "\n",
              "    .dataframe thead th {\n",
              "        text-align: right;\n",
              "    }\n",
              "</style>\n",
              "<table border=\"1\" class=\"dataframe\">\n",
              "  <thead>\n",
              "    <tr style=\"text-align: right;\">\n",
              "      <th></th>\n",
              "      <th>Map: Reduce</th>\n",
              "      <th>Runtime</th>\n",
              "    </tr>\n",
              "  </thead>\n",
              "  <tbody>\n",
              "    <tr>\n",
              "      <th>1</th>\n",
              "      <td>1: 2</td>\n",
              "      <td>0.756028</td>\n",
              "    </tr>\n",
              "    <tr>\n",
              "      <th>9</th>\n",
              "      <td>3: 2</td>\n",
              "      <td>0.772447</td>\n",
              "    </tr>\n",
              "    <tr>\n",
              "      <th>2</th>\n",
              "      <td>1: 3</td>\n",
              "      <td>0.775210</td>\n",
              "    </tr>\n",
              "    <tr>\n",
              "      <th>13</th>\n",
              "      <td>4: 2</td>\n",
              "      <td>0.778645</td>\n",
              "    </tr>\n",
              "    <tr>\n",
              "      <th>5</th>\n",
              "      <td>2: 2</td>\n",
              "      <td>0.783454</td>\n",
              "    </tr>\n",
              "  </tbody>\n",
              "</table>\n",
              "</div>"
            ],
            "text/plain": [
              "   Map: Reduce   Runtime\n",
              "1         1: 2  0.756028\n",
              "9         3: 2  0.772447\n",
              "2         1: 3  0.775210\n",
              "13        4: 2  0.778645\n",
              "5         2: 2  0.783454"
            ]
          },
          "metadata": {},
          "execution_count": 24
        }
      ]
    },
    {
      "cell_type": "markdown",
      "source": [
        "# **Figures 5.5 - 5.6:** Comparing Optimal Runtimes of Map Reduce to Result Obtained From Original Function"
      ],
      "metadata": {
        "id": "He0vNAckAn0w"
      }
    },
    {
      "cell_type": "markdown",
      "source": [
        "***Figure 5.5:*** Average run time over 10 epoch using map reduce and original measure for the jaccard and cosine algorithms "
      ],
      "metadata": {
        "id": "Vca3mLBXfID-"
      }
    },
    {
      "cell_type": "code",
      "source": [
        "# Average run times of all pair cosine similarity with and without map reduce\n",
        "cosine_map_reduce = average_runtime_mapReduce(doc, mapper, reducer_cos, epoch, 1, 2)\n",
        "cosine_original = average_runtime_original(doc, CosSparse.cosine_sparse_simillarity, epoch)\n",
        "# Average run times of all pair jaccard's similarity with and without map reduce\n",
        "jaccard_map_reduce = average_runtime_mapReduce(doc, mapper, reducer_jac, epoch, 2, 2)\n",
        "jaccard_original = average_runtime_original(doc, Jac.jaccards, epoch)\n",
        "# Creating pandas dataframe \n",
        "labels = [\"Cosine Map Reduce\", \"Cosine Original\", \"Jaccard Map Reduce\", \"Jaccard Original\"]\n",
        "data = [cosine_map_reduce, cosine_original, jaccard_map_reduce, jaccard_original]\n",
        "df = pd.DataFrame({\"Runtime Label\": labels, \"Runtime\":data})\n",
        "df"
      ],
      "metadata": {
        "id": "ED-qeNW3p71s",
        "colab": {
          "base_uri": "https://localhost:8080/",
          "height": 230
        },
        "outputId": "09bcc2ce-d438-4433-9b53-cbb375081f9f"
      },
      "execution_count": null,
      "outputs": [
        {
          "output_type": "stream",
          "name": "stdout",
          "text": [
            "[1.5121378898620605, 1.4204561710357666, 1.3327605724334717, 1.1703362464904785, 1.1189086437225342, 1.10030198097229, 1.0402491092681885, 1.0106589794158936, 0.9200470447540283, 0.8020610809326172]\n",
            "[0.8586587905883789, 0.809138298034668, 0.7366511821746826, 0.6669106483459473, 0.6365001201629639, 0.586799144744873, 0.5831060409545898, 0.5295431613922119, 0.4667656421661377, 0.4294121265411377]\n"
          ]
        },
        {
          "output_type": "execute_result",
          "data": {
            "text/html": [
              "<div>\n",
              "<style scoped>\n",
              "    .dataframe tbody tr th:only-of-type {\n",
              "        vertical-align: middle;\n",
              "    }\n",
              "\n",
              "    .dataframe tbody tr th {\n",
              "        vertical-align: top;\n",
              "    }\n",
              "\n",
              "    .dataframe thead th {\n",
              "        text-align: right;\n",
              "    }\n",
              "</style>\n",
              "<table border=\"1\" class=\"dataframe\">\n",
              "  <thead>\n",
              "    <tr style=\"text-align: right;\">\n",
              "      <th></th>\n",
              "      <th>Runtime Label</th>\n",
              "      <th>Runtime</th>\n",
              "    </tr>\n",
              "  </thead>\n",
              "  <tbody>\n",
              "    <tr>\n",
              "      <th>0</th>\n",
              "      <td>Cosine Map Reduce</td>\n",
              "      <td>0.937858</td>\n",
              "    </tr>\n",
              "    <tr>\n",
              "      <th>1</th>\n",
              "      <td>Cosine Original</td>\n",
              "      <td>1.142792</td>\n",
              "    </tr>\n",
              "    <tr>\n",
              "      <th>2</th>\n",
              "      <td>Jaccard Map Reduce</td>\n",
              "      <td>0.583560</td>\n",
              "    </tr>\n",
              "    <tr>\n",
              "      <th>3</th>\n",
              "      <td>Jaccard Original</td>\n",
              "      <td>0.630349</td>\n",
              "    </tr>\n",
              "  </tbody>\n",
              "</table>\n",
              "</div>"
            ],
            "text/plain": [
              "        Runtime Label   Runtime\n",
              "0   Cosine Map Reduce  0.937858\n",
              "1     Cosine Original  1.142792\n",
              "2  Jaccard Map Reduce  0.583560\n",
              "3    Jaccard Original  0.630349"
            ]
          },
          "metadata": {},
          "execution_count": 36
        }
      ]
    },
    {
      "cell_type": "code",
      "source": [
        "# Percentage decreace in jaccards runtime \n",
        "(1-(0.58/0.63))*100"
      ],
      "metadata": {
        "id": "T0GiWmyF6KxP",
        "colab": {
          "base_uri": "https://localhost:8080/"
        },
        "outputId": "49c4ccc7-fa35-4826-bf5a-98a4e8717789"
      },
      "execution_count": null,
      "outputs": [
        {
          "output_type": "execute_result",
          "data": {
            "text/plain": [
              "7.936507936507942"
            ]
          },
          "metadata": {},
          "execution_count": 41
        }
      ]
    },
    {
      "cell_type": "code",
      "source": [
        "# Percentage decreace in cosine runtime \n",
        "(1-(0.93/1.14))*100"
      ],
      "metadata": {
        "colab": {
          "base_uri": "https://localhost:8080/"
        },
        "id": "CedIhWCyh6Xf",
        "outputId": "be6de951-b0fe-402b-a85c-762c1aadf647"
      },
      "execution_count": null,
      "outputs": [
        {
          "output_type": "execute_result",
          "data": {
            "text/plain": [
              "18.421052631578938"
            ]
          },
          "metadata": {},
          "execution_count": 40
        }
      ]
    },
    {
      "cell_type": "markdown",
      "source": [
        "***Figure 5.6:*** Bar graph of average runtimes using map reduce and original measures for jaccrd and cosine algorithm "
      ],
      "metadata": {
        "id": "H1sA9Z_cfLBz"
      }
    },
    {
      "cell_type": "code",
      "source": [
        "df.plot.bar(x=\"Runtime Label\", y=\"Runtime\")"
      ],
      "metadata": {
        "id": "598j2C4M5xxT",
        "colab": {
          "base_uri": "https://localhost:8080/",
          "height": 387
        },
        "outputId": "23ebdae6-fbbf-4158-92ee-e7b8dd482f56"
      },
      "execution_count": null,
      "outputs": [
        {
          "output_type": "execute_result",
          "data": {
            "text/plain": [
              "<matplotlib.axes._subplots.AxesSubplot at 0x7fd9236a2050>"
            ]
          },
          "metadata": {},
          "execution_count": 37
        },
        {
          "output_type": "display_data",
          "data": {
            "image/png": "[encoded data removed]",
            "text/plain": [
              "<Figure size 432x288 with 1 Axes>"
            ]
          },
          "metadata": {
            "needs_background": "light"
          }
        }
      ]
    },
    {
      "cell_type": "markdown",
      "source": [
        "# **==== QUESTION 5 (REPORT) ====**"
      ],
      "metadata": {
        "id": "onkMpjYKotY3"
      }
    },
    {
      "cell_type": "markdown",
      "source": [
        "**Implementation**\n",
        "\n",
        "Map-reduce parallel computing algorithms can be viewed as a reliable and effective procedure to process big data which can reduce runtimes. Consisting of two distinctive tasks map and reduce, the implementation is as follows: \n",
        "\n",
        "1. All indexes (0-17) of documents are combined and mapped (based on the number of mapping processes given) by being processed into key/value pairs which can be sorted and shuffled before being fed to the reducer.\n",
        "2. All map outputs with the same keys are then passed to a single reducer aggregating their values and enabling the computation of their similarity indexes simultaneously based on the number of reduce processes used. \n",
        "\n",
        "**Analysis**\n",
        "\n",
        "Figures 5.1 & 5.2 confirm the algorithms produce correct jaccard and cosine similarity index as computed in question 4. Considering parameters for map and reduce processes can lead to different runtimes, experiments are carried out to find the optimal implementations of the map reduce algorithm. The optimal implementation of map and reduce processes were 2 and 2 for jaccard's similarity and 2 and 1 for cosine similarity respectively [figures 5.3-5.4]. Accordingly, the average runtime (10 epochs) of jaccard's similarity was 0.58 using optimal parameters map reduce parameters compared to 0.63 using the original implementation. Likewise, the average runtime of the cosine similarity was 0.94 using the optimal map reduce parameters compared to 1.14 using the original implementation [figure 5.5]. Overall, map reduce had a greater impact cosine runtime [figure 5.6] decreased by 18% compared to jaccards which decreased by 8%.\n",
        "\n",
        "\n"
      ],
      "metadata": {
        "id": "zFLBmuxMozeU"
      }
    },
    {
      "cell_type": "markdown",
      "source": [
        "# **==========================**"
      ],
      "metadata": {
        "id": "e5mhl1j7ouhm"
      }
    },
    {
      "cell_type": "markdown",
      "source": [
        "# **==== Conclusion ====**"
      ],
      "metadata": {
        "id": "B0nmisMXo9_O"
      }
    },
    {
      "cell_type": "markdown",
      "source": [
        "Experimentations in question 3 suggest that algorithms in sparse representations had the lowest worst case runtimes **$O(n^{0.68})$** (jaccard) and **$O(n^{0.62})$** (cosine) while vectorised algorithms produced **$O(n^{0.55})$** (original cosine and numpy). Although jaccard's mesure performed best, estimates show that the similarity measures with smallest slopes to outperform when the data is large enough (when word count > $10^{13}$) [check cells below]. Although the jaccard's runtime time was superior to cosine when computing all pair similarities, the map reduce function had a greater impact on cosine similarity with a reduction of 18%. Overall, the size of the data proved to be an important factor to consider when implementing the algorithms for the best runtimes. "
      ],
      "metadata": {
        "id": "P6U4BPyoo_d5"
      }
    },
    {
      "cell_type": "code",
      "source": [
        "# Jaccards \n",
        "# Run code to get the estimated time for 50,000 word count \n",
        "# Estimates for the run time can then be compared actual results in figure 1.1\n",
        "a = -5.94# Intercept \n",
        "b = 0.68# Slope\n",
        "x = 10000000000000# Word Count\n",
        "y = 10**a * x**b # Y is the estimated runtime \n",
        "y"
      ],
      "metadata": {
        "colab": {
          "base_uri": "https://localhost:8080/"
        },
        "id": "ymxrZi7oy4M9",
        "outputId": "2cdf7e19-0946-4f48-f452-c783b8046ec7"
      },
      "execution_count": null,
      "outputs": [
        {
          "output_type": "execute_result",
          "data": {
            "text/plain": [
              "794.3282347242819"
            ]
          },
          "metadata": {},
          "execution_count": 58
        }
      ]
    },
    {
      "cell_type": "code",
      "source": [
        "# Vectorised Cosine (original)\n",
        "# Run code to get the estimated time for 50,000 word count \n",
        "# Estimates for the run time can then be compared actual results in figure 1.1\n",
        "a = -4.63# Intercept \n",
        "b = 0.55# Slope\n",
        "x = 10000000000000# Word Count\n",
        "y = 10**a * x**b # Y is the estimated runtime \n",
        "y"
      ],
      "metadata": {
        "colab": {
          "base_uri": "https://localhost:8080/"
        },
        "id": "4mP4S2QEy5p9",
        "outputId": "13f33871-215f-43ae-db1f-b15f57a0292a"
      },
      "execution_count": null,
      "outputs": [
        {
          "output_type": "execute_result",
          "data": {
            "text/plain": [
              "331.13112148259165"
            ]
          },
          "metadata": {},
          "execution_count": 59
        }
      ]
    },
    {
      "cell_type": "code",
      "source": [
        "# Vectorised Cosine (Numpy)\n",
        "# Run code to get the estimated time for 50,000 word count \n",
        "# Estimates for the run time can then be compared actual results in figure 1.1\n",
        "a = -4.78# Intercept \n",
        "b = 0.55# Slope\n",
        "x = 10000000000000# Word Count\n",
        "y = 10**a * x**b # Y is the estimated runtime \n",
        "y"
      ],
      "metadata": {
        "colab": {
          "base_uri": "https://localhost:8080/"
        },
        "id": "CshBThq2y6x8",
        "outputId": "ca9d6fb5-4767-4faf-f4e2-1d3daabc744d"
      },
      "execution_count": null,
      "outputs": [
        {
          "output_type": "execute_result",
          "data": {
            "text/plain": [
              "234.4228815319924"
            ]
          },
          "metadata": {},
          "execution_count": 60
        }
      ]
    },
    {
      "cell_type": "code",
      "source": [
        "# Sparse Cosine \n",
        "# Run code to get the estimated time for 50,000 word count \n",
        "# Estimates for the run time can then be compared actual results in figure 1.1\n",
        "a = -5.52# Intercept \n",
        "b = 0.62# Slope\n",
        "x = 10000000000000# Word Count\n",
        "y = 10**a * x**b # Y is the estimated runtime \n",
        "y"
      ],
      "metadata": {
        "colab": {
          "base_uri": "https://localhost:8080/"
        },
        "id": "I7qOAQSPy74b",
        "outputId": "fe847819-77f7-4674-b8f6-a29a0d011033"
      },
      "execution_count": null,
      "outputs": [
        {
          "output_type": "execute_result",
          "data": {
            "text/plain": [
              "346.73685045253194"
            ]
          },
          "metadata": {},
          "execution_count": 61
        }
      ]
    }
  ],
  "metadata": {
    "colab": {
      "collapsed_sections": [],
      "name": "ADS_CourseWork Final.ipynb",
      "provenance": [],
      "toc_visible": true
    },
    "kernelspec": {
      "display_name": "Python 3",
      "language": "python",
      "name": "python3"
    },
    "language_info": {
      "codemirror_mode": {
        "name": "ipython",
        "version": 3
      },
      "file_extension": ".py",
      "mimetype": "text/x-python",
      "name": "python",
      "nbconvert_exporter": "python",
      "pygments_lexer": "ipython3",
      "version": "3.8.5"
    }
  },
  "nbformat": 4,
  "nbformat_minor": 0
}